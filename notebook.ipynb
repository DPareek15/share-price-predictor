{
  "cells": [
    {
      "cell_type": "code",
      "execution_count": 6,
      "id": "2a4fdd0f",
      "metadata": {
        "colab": {
          "base_uri": "https://localhost:8080/",
          "height": 423
        },
        "id": "2a4fdd0f",
        "outputId": "d758fb02-8b42-4705-d4bd-bcaa6df69ea7"
      },
      "outputs": [
        {
          "name": "stderr",
          "output_type": "stream",
          "text": [
            "[*********************100%***********************]  1 of 1 completed\n"
          ]
        },
        {
          "data": {
            "text/html": [
              "<div>\n",
              "<style scoped>\n",
              "    .dataframe tbody tr th:only-of-type {\n",
              "        vertical-align: middle;\n",
              "    }\n",
              "\n",
              "    .dataframe tbody tr th {\n",
              "        vertical-align: top;\n",
              "    }\n",
              "\n",
              "    .dataframe thead th {\n",
              "        text-align: right;\n",
              "    }\n",
              "</style>\n",
              "<table border=\"1\" class=\"dataframe\">\n",
              "  <thead>\n",
              "    <tr style=\"text-align: right;\">\n",
              "      <th></th>\n",
              "      <th>Open</th>\n",
              "      <th>High</th>\n",
              "      <th>Low</th>\n",
              "      <th>Close</th>\n",
              "      <th>Adj Close</th>\n",
              "      <th>Volume</th>\n",
              "    </tr>\n",
              "    <tr>\n",
              "      <th>Date</th>\n",
              "      <th></th>\n",
              "      <th></th>\n",
              "      <th></th>\n",
              "      <th></th>\n",
              "      <th></th>\n",
              "      <th></th>\n",
              "    </tr>\n",
              "  </thead>\n",
              "  <tbody>\n",
              "    <tr>\n",
              "      <th>1999-01-22</th>\n",
              "      <td>0.043750</td>\n",
              "      <td>0.048828</td>\n",
              "      <td>0.038802</td>\n",
              "      <td>0.041016</td>\n",
              "      <td>0.037618</td>\n",
              "      <td>2714688000</td>\n",
              "    </tr>\n",
              "    <tr>\n",
              "      <th>1999-01-25</th>\n",
              "      <td>0.044271</td>\n",
              "      <td>0.045833</td>\n",
              "      <td>0.041016</td>\n",
              "      <td>0.045313</td>\n",
              "      <td>0.041559</td>\n",
              "      <td>510480000</td>\n",
              "    </tr>\n",
              "    <tr>\n",
              "      <th>1999-01-26</th>\n",
              "      <td>0.045833</td>\n",
              "      <td>0.046745</td>\n",
              "      <td>0.041146</td>\n",
              "      <td>0.041797</td>\n",
              "      <td>0.038334</td>\n",
              "      <td>343200000</td>\n",
              "    </tr>\n",
              "    <tr>\n",
              "      <th>1999-01-27</th>\n",
              "      <td>0.041927</td>\n",
              "      <td>0.042969</td>\n",
              "      <td>0.039583</td>\n",
              "      <td>0.041667</td>\n",
              "      <td>0.038215</td>\n",
              "      <td>244368000</td>\n",
              "    </tr>\n",
              "    <tr>\n",
              "      <th>1999-01-28</th>\n",
              "      <td>0.041667</td>\n",
              "      <td>0.041927</td>\n",
              "      <td>0.041276</td>\n",
              "      <td>0.041536</td>\n",
              "      <td>0.038095</td>\n",
              "      <td>227520000</td>\n",
              "    </tr>\n",
              "    <tr>\n",
              "      <th>...</th>\n",
              "      <td>...</td>\n",
              "      <td>...</td>\n",
              "      <td>...</td>\n",
              "      <td>...</td>\n",
              "      <td>...</td>\n",
              "      <td>...</td>\n",
              "    </tr>\n",
              "    <tr>\n",
              "      <th>2024-10-02</th>\n",
              "      <td>116.440002</td>\n",
              "      <td>119.379997</td>\n",
              "      <td>115.139999</td>\n",
              "      <td>118.849998</td>\n",
              "      <td>118.849998</td>\n",
              "      <td>221845900</td>\n",
              "    </tr>\n",
              "    <tr>\n",
              "      <th>2024-10-03</th>\n",
              "      <td>120.919998</td>\n",
              "      <td>124.360001</td>\n",
              "      <td>120.339996</td>\n",
              "      <td>122.849998</td>\n",
              "      <td>122.849998</td>\n",
              "      <td>277118000</td>\n",
              "    </tr>\n",
              "    <tr>\n",
              "      <th>2024-10-04</th>\n",
              "      <td>124.940002</td>\n",
              "      <td>125.040001</td>\n",
              "      <td>121.830002</td>\n",
              "      <td>124.919998</td>\n",
              "      <td>124.919998</td>\n",
              "      <td>243678100</td>\n",
              "    </tr>\n",
              "    <tr>\n",
              "      <th>2024-10-07</th>\n",
              "      <td>124.989998</td>\n",
              "      <td>130.639999</td>\n",
              "      <td>124.949997</td>\n",
              "      <td>127.720001</td>\n",
              "      <td>127.720001</td>\n",
              "      <td>346250200</td>\n",
              "    </tr>\n",
              "    <tr>\n",
              "      <th>2024-10-08</th>\n",
              "      <td>130.259995</td>\n",
              "      <td>133.479996</td>\n",
              "      <td>129.419998</td>\n",
              "      <td>132.889999</td>\n",
              "      <td>132.889999</td>\n",
              "      <td>284485800</td>\n",
              "    </tr>\n",
              "  </tbody>\n",
              "</table>\n",
              "<p>6470 rows × 6 columns</p>\n",
              "</div>"
            ],
            "text/plain": [
              "                  Open        High         Low       Close   Adj Close  \\\n",
              "Date                                                                     \n",
              "1999-01-22    0.043750    0.048828    0.038802    0.041016    0.037618   \n",
              "1999-01-25    0.044271    0.045833    0.041016    0.045313    0.041559   \n",
              "1999-01-26    0.045833    0.046745    0.041146    0.041797    0.038334   \n",
              "1999-01-27    0.041927    0.042969    0.039583    0.041667    0.038215   \n",
              "1999-01-28    0.041667    0.041927    0.041276    0.041536    0.038095   \n",
              "...                ...         ...         ...         ...         ...   \n",
              "2024-10-02  116.440002  119.379997  115.139999  118.849998  118.849998   \n",
              "2024-10-03  120.919998  124.360001  120.339996  122.849998  122.849998   \n",
              "2024-10-04  124.940002  125.040001  121.830002  124.919998  124.919998   \n",
              "2024-10-07  124.989998  130.639999  124.949997  127.720001  127.720001   \n",
              "2024-10-08  130.259995  133.479996  129.419998  132.889999  132.889999   \n",
              "\n",
              "                Volume  \n",
              "Date                    \n",
              "1999-01-22  2714688000  \n",
              "1999-01-25   510480000  \n",
              "1999-01-26   343200000  \n",
              "1999-01-27   244368000  \n",
              "1999-01-28   227520000  \n",
              "...                ...  \n",
              "2024-10-02   221845900  \n",
              "2024-10-03   277118000  \n",
              "2024-10-04   243678100  \n",
              "2024-10-07   346250200  \n",
              "2024-10-08   284485800  \n",
              "\n",
              "[6470 rows x 6 columns]"
            ]
          },
          "execution_count": 6,
          "metadata": {},
          "output_type": "execute_result"
        }
      ],
      "source": [
        "import matplotlib.pyplot as plt\n",
        "import numpy as np\n",
        "import torch\n",
        "import torch.nn as nn\n",
        "import yfinance as yf\n",
        "\n",
        "data = yf.download(\"NVDA\", \"1990-01-01\", \"2024-10-09\")\n",
        "data"
      ]
    },
    {
      "cell_type": "code",
      "execution_count": 7,
      "id": "WtCP8-cDbg9R",
      "metadata": {
        "colab": {
          "base_uri": "https://localhost:8080/",
          "height": 423
        },
        "id": "WtCP8-cDbg9R",
        "outputId": "1a923823-8c15-4765-c9c9-19a233dc8131"
      },
      "outputs": [
        {
          "data": {
            "text/html": [
              "<div>\n",
              "<style scoped>\n",
              "    .dataframe tbody tr th:only-of-type {\n",
              "        vertical-align: middle;\n",
              "    }\n",
              "\n",
              "    .dataframe tbody tr th {\n",
              "        vertical-align: top;\n",
              "    }\n",
              "\n",
              "    .dataframe thead th {\n",
              "        text-align: right;\n",
              "    }\n",
              "</style>\n",
              "<table border=\"1\" class=\"dataframe\">\n",
              "  <thead>\n",
              "    <tr style=\"text-align: right;\">\n",
              "      <th></th>\n",
              "      <th>Close</th>\n",
              "    </tr>\n",
              "    <tr>\n",
              "      <th>Date</th>\n",
              "      <th></th>\n",
              "    </tr>\n",
              "  </thead>\n",
              "  <tbody>\n",
              "    <tr>\n",
              "      <th>1999-01-22</th>\n",
              "      <td>0.041016</td>\n",
              "    </tr>\n",
              "    <tr>\n",
              "      <th>1999-01-25</th>\n",
              "      <td>0.045313</td>\n",
              "    </tr>\n",
              "    <tr>\n",
              "      <th>1999-01-26</th>\n",
              "      <td>0.041797</td>\n",
              "    </tr>\n",
              "    <tr>\n",
              "      <th>1999-01-27</th>\n",
              "      <td>0.041667</td>\n",
              "    </tr>\n",
              "    <tr>\n",
              "      <th>1999-01-28</th>\n",
              "      <td>0.041536</td>\n",
              "    </tr>\n",
              "    <tr>\n",
              "      <th>...</th>\n",
              "      <td>...</td>\n",
              "    </tr>\n",
              "    <tr>\n",
              "      <th>2024-10-02</th>\n",
              "      <td>118.849998</td>\n",
              "    </tr>\n",
              "    <tr>\n",
              "      <th>2024-10-03</th>\n",
              "      <td>122.849998</td>\n",
              "    </tr>\n",
              "    <tr>\n",
              "      <th>2024-10-04</th>\n",
              "      <td>124.919998</td>\n",
              "    </tr>\n",
              "    <tr>\n",
              "      <th>2024-10-07</th>\n",
              "      <td>127.720001</td>\n",
              "    </tr>\n",
              "    <tr>\n",
              "      <th>2024-10-08</th>\n",
              "      <td>132.889999</td>\n",
              "    </tr>\n",
              "  </tbody>\n",
              "</table>\n",
              "<p>6470 rows × 1 columns</p>\n",
              "</div>"
            ],
            "text/plain": [
              "                 Close\n",
              "Date                  \n",
              "1999-01-22    0.041016\n",
              "1999-01-25    0.045313\n",
              "1999-01-26    0.041797\n",
              "1999-01-27    0.041667\n",
              "1999-01-28    0.041536\n",
              "...                ...\n",
              "2024-10-02  118.849998\n",
              "2024-10-03  122.849998\n",
              "2024-10-04  124.919998\n",
              "2024-10-07  127.720001\n",
              "2024-10-08  132.889999\n",
              "\n",
              "[6470 rows x 1 columns]"
            ]
          },
          "execution_count": 7,
          "metadata": {},
          "output_type": "execute_result"
        }
      ],
      "source": [
        "data = data[[\"Close\"]]\n",
        "data"
      ]
    },
    {
      "cell_type": "code",
      "execution_count": 8,
      "id": "9akB333XcFJ6",
      "metadata": {
        "colab": {
          "base_uri": "https://localhost:8080/",
          "height": 36
        },
        "id": "9akB333XcFJ6",
        "outputId": "2e8630de-1369-4281-d87c-9634ed90ba97"
      },
      "outputs": [
        {
          "data": {
            "text/plain": [
              "'cpu'"
            ]
          },
          "execution_count": 8,
          "metadata": {},
          "output_type": "execute_result"
        }
      ],
      "source": [
        "device = \"cuda:0\" if torch.cuda.is_available() else \"cpu\"\n",
        "device"
      ]
    },
    {
      "cell_type": "code",
      "execution_count": 9,
      "id": "tr2YuqKGcXcJ",
      "metadata": {
        "colab": {
          "base_uri": "https://localhost:8080/",
          "height": 551
        },
        "id": "tr2YuqKGcXcJ",
        "outputId": "bd197a93-bf7f-413c-fac0-5f4dc1a8471d"
      },
      "outputs": [
        {
          "data": {
            "text/plain": [
              "[<matplotlib.lines.Line2D at 0x16728132ea0>]"
            ]
          },
          "execution_count": 9,
          "metadata": {},
          "output_type": "execute_result"
        },
        {
          "data": {
            "image/png": "[encoded data removed]",
            "text/plain": [
              "<Figure size 640x480 with 1 Axes>"
            ]
          },
          "metadata": {},
          "output_type": "display_data"
        }
      ],
      "source": [
        "plt.plot(data[\"Close\"])"
      ]
    },
    {
      "cell_type": "code",
      "execution_count": 10,
      "id": "Q4ma6QCscwfB",
      "metadata": {
        "colab": {
          "base_uri": "https://localhost:8080/",
          "height": 455
        },
        "id": "Q4ma6QCscwfB",
        "outputId": "61bd4c08-c3f7-453d-ed92-c2232a18a5ba"
      },
      "outputs": [
        {
          "data": {
            "text/html": [
              "<div>\n",
              "<style scoped>\n",
              "    .dataframe tbody tr th:only-of-type {\n",
              "        vertical-align: middle;\n",
              "    }\n",
              "\n",
              "    .dataframe tbody tr th {\n",
              "        vertical-align: top;\n",
              "    }\n",
              "\n",
              "    .dataframe thead th {\n",
              "        text-align: right;\n",
              "    }\n",
              "</style>\n",
              "<table border=\"1\" class=\"dataframe\">\n",
              "  <thead>\n",
              "    <tr style=\"text-align: right;\">\n",
              "      <th></th>\n",
              "      <th>Close</th>\n",
              "      <th>Close(t-1)</th>\n",
              "      <th>Close(t-2)</th>\n",
              "      <th>Close(t-3)</th>\n",
              "      <th>Close(t-4)</th>\n",
              "      <th>Close(t-5)</th>\n",
              "      <th>Close(t-6)</th>\n",
              "      <th>Close(t-7)</th>\n",
              "      <th>Close(t-8)</th>\n",
              "      <th>Close(t-9)</th>\n",
              "      <th>Close(t-10)</th>\n",
              "      <th>Close(t-11)</th>\n",
              "      <th>Close(t-12)</th>\n",
              "      <th>Close(t-13)</th>\n",
              "      <th>Close(t-14)</th>\n",
              "      <th>Close(t-15)</th>\n",
              "    </tr>\n",
              "    <tr>\n",
              "      <th>Date</th>\n",
              "      <th></th>\n",
              "      <th></th>\n",
              "      <th></th>\n",
              "      <th></th>\n",
              "      <th></th>\n",
              "      <th></th>\n",
              "      <th></th>\n",
              "      <th></th>\n",
              "      <th></th>\n",
              "      <th></th>\n",
              "      <th></th>\n",
              "      <th></th>\n",
              "      <th></th>\n",
              "      <th></th>\n",
              "      <th></th>\n",
              "      <th></th>\n",
              "    </tr>\n",
              "  </thead>\n",
              "  <tbody>\n",
              "    <tr>\n",
              "      <th>1999-02-12</th>\n",
              "      <td>0.043490</td>\n",
              "      <td>0.041146</td>\n",
              "      <td>0.037891</td>\n",
              "      <td>0.038281</td>\n",
              "      <td>0.039844</td>\n",
              "      <td>0.041276</td>\n",
              "      <td>0.040104</td>\n",
              "      <td>0.038021</td>\n",
              "      <td>0.037240</td>\n",
              "      <td>0.040365</td>\n",
              "      <td>0.039583</td>\n",
              "      <td>0.041536</td>\n",
              "      <td>0.041667</td>\n",
              "      <td>0.041797</td>\n",
              "      <td>0.045313</td>\n",
              "      <td>0.041016</td>\n",
              "    </tr>\n",
              "    <tr>\n",
              "      <th>1999-02-16</th>\n",
              "      <td>0.043750</td>\n",
              "      <td>0.043490</td>\n",
              "      <td>0.041146</td>\n",
              "      <td>0.037891</td>\n",
              "      <td>0.038281</td>\n",
              "      <td>0.039844</td>\n",
              "      <td>0.041276</td>\n",
              "      <td>0.040104</td>\n",
              "      <td>0.038021</td>\n",
              "      <td>0.037240</td>\n",
              "      <td>0.040365</td>\n",
              "      <td>0.039583</td>\n",
              "      <td>0.041536</td>\n",
              "      <td>0.041667</td>\n",
              "      <td>0.041797</td>\n",
              "      <td>0.045313</td>\n",
              "    </tr>\n",
              "    <tr>\n",
              "      <th>1999-02-17</th>\n",
              "      <td>0.041406</td>\n",
              "      <td>0.043750</td>\n",
              "      <td>0.043490</td>\n",
              "      <td>0.041146</td>\n",
              "      <td>0.037891</td>\n",
              "      <td>0.038281</td>\n",
              "      <td>0.039844</td>\n",
              "      <td>0.041276</td>\n",
              "      <td>0.040104</td>\n",
              "      <td>0.038021</td>\n",
              "      <td>0.037240</td>\n",
              "      <td>0.040365</td>\n",
              "      <td>0.039583</td>\n",
              "      <td>0.041536</td>\n",
              "      <td>0.041667</td>\n",
              "      <td>0.041797</td>\n",
              "    </tr>\n",
              "    <tr>\n",
              "      <th>1999-02-18</th>\n",
              "      <td>0.042057</td>\n",
              "      <td>0.041406</td>\n",
              "      <td>0.043750</td>\n",
              "      <td>0.043490</td>\n",
              "      <td>0.041146</td>\n",
              "      <td>0.037891</td>\n",
              "      <td>0.038281</td>\n",
              "      <td>0.039844</td>\n",
              "      <td>0.041276</td>\n",
              "      <td>0.040104</td>\n",
              "      <td>0.038021</td>\n",
              "      <td>0.037240</td>\n",
              "      <td>0.040365</td>\n",
              "      <td>0.039583</td>\n",
              "      <td>0.041536</td>\n",
              "      <td>0.041667</td>\n",
              "    </tr>\n",
              "    <tr>\n",
              "      <th>1999-02-19</th>\n",
              "      <td>0.043490</td>\n",
              "      <td>0.042057</td>\n",
              "      <td>0.041406</td>\n",
              "      <td>0.043750</td>\n",
              "      <td>0.043490</td>\n",
              "      <td>0.041146</td>\n",
              "      <td>0.037891</td>\n",
              "      <td>0.038281</td>\n",
              "      <td>0.039844</td>\n",
              "      <td>0.041276</td>\n",
              "      <td>0.040104</td>\n",
              "      <td>0.038021</td>\n",
              "      <td>0.037240</td>\n",
              "      <td>0.040365</td>\n",
              "      <td>0.039583</td>\n",
              "      <td>0.041536</td>\n",
              "    </tr>\n",
              "    <tr>\n",
              "      <th>...</th>\n",
              "      <td>...</td>\n",
              "      <td>...</td>\n",
              "      <td>...</td>\n",
              "      <td>...</td>\n",
              "      <td>...</td>\n",
              "      <td>...</td>\n",
              "      <td>...</td>\n",
              "      <td>...</td>\n",
              "      <td>...</td>\n",
              "      <td>...</td>\n",
              "      <td>...</td>\n",
              "      <td>...</td>\n",
              "      <td>...</td>\n",
              "      <td>...</td>\n",
              "      <td>...</td>\n",
              "      <td>...</td>\n",
              "    </tr>\n",
              "    <tr>\n",
              "      <th>2024-10-02</th>\n",
              "      <td>118.849998</td>\n",
              "      <td>117.000000</td>\n",
              "      <td>121.440002</td>\n",
              "      <td>121.400002</td>\n",
              "      <td>124.040001</td>\n",
              "      <td>123.510002</td>\n",
              "      <td>120.870003</td>\n",
              "      <td>116.260002</td>\n",
              "      <td>116.000000</td>\n",
              "      <td>117.870003</td>\n",
              "      <td>113.370003</td>\n",
              "      <td>115.589996</td>\n",
              "      <td>116.779999</td>\n",
              "      <td>119.099998</td>\n",
              "      <td>119.139999</td>\n",
              "      <td>116.910004</td>\n",
              "    </tr>\n",
              "    <tr>\n",
              "      <th>2024-10-03</th>\n",
              "      <td>122.849998</td>\n",
              "      <td>118.849998</td>\n",
              "      <td>117.000000</td>\n",
              "      <td>121.440002</td>\n",
              "      <td>121.400002</td>\n",
              "      <td>124.040001</td>\n",
              "      <td>123.510002</td>\n",
              "      <td>120.870003</td>\n",
              "      <td>116.260002</td>\n",
              "      <td>116.000000</td>\n",
              "      <td>117.870003</td>\n",
              "      <td>113.370003</td>\n",
              "      <td>115.589996</td>\n",
              "      <td>116.779999</td>\n",
              "      <td>119.099998</td>\n",
              "      <td>119.139999</td>\n",
              "    </tr>\n",
              "    <tr>\n",
              "      <th>2024-10-04</th>\n",
              "      <td>124.919998</td>\n",
              "      <td>122.849998</td>\n",
              "      <td>118.849998</td>\n",
              "      <td>117.000000</td>\n",
              "      <td>121.440002</td>\n",
              "      <td>121.400002</td>\n",
              "      <td>124.040001</td>\n",
              "      <td>123.510002</td>\n",
              "      <td>120.870003</td>\n",
              "      <td>116.260002</td>\n",
              "      <td>116.000000</td>\n",
              "      <td>117.870003</td>\n",
              "      <td>113.370003</td>\n",
              "      <td>115.589996</td>\n",
              "      <td>116.779999</td>\n",
              "      <td>119.099998</td>\n",
              "    </tr>\n",
              "    <tr>\n",
              "      <th>2024-10-07</th>\n",
              "      <td>127.720001</td>\n",
              "      <td>124.919998</td>\n",
              "      <td>122.849998</td>\n",
              "      <td>118.849998</td>\n",
              "      <td>117.000000</td>\n",
              "      <td>121.440002</td>\n",
              "      <td>121.400002</td>\n",
              "      <td>124.040001</td>\n",
              "      <td>123.510002</td>\n",
              "      <td>120.870003</td>\n",
              "      <td>116.260002</td>\n",
              "      <td>116.000000</td>\n",
              "      <td>117.870003</td>\n",
              "      <td>113.370003</td>\n",
              "      <td>115.589996</td>\n",
              "      <td>116.779999</td>\n",
              "    </tr>\n",
              "    <tr>\n",
              "      <th>2024-10-08</th>\n",
              "      <td>132.889999</td>\n",
              "      <td>127.720001</td>\n",
              "      <td>124.919998</td>\n",
              "      <td>122.849998</td>\n",
              "      <td>118.849998</td>\n",
              "      <td>117.000000</td>\n",
              "      <td>121.440002</td>\n",
              "      <td>121.400002</td>\n",
              "      <td>124.040001</td>\n",
              "      <td>123.510002</td>\n",
              "      <td>120.870003</td>\n",
              "      <td>116.260002</td>\n",
              "      <td>116.000000</td>\n",
              "      <td>117.870003</td>\n",
              "      <td>113.370003</td>\n",
              "      <td>115.589996</td>\n",
              "    </tr>\n",
              "  </tbody>\n",
              "</table>\n",
              "<p>6455 rows × 16 columns</p>\n",
              "</div>"
            ],
            "text/plain": [
              "                 Close  Close(t-1)  Close(t-2)  Close(t-3)  Close(t-4)  \\\n",
              "Date                                                                     \n",
              "1999-02-12    0.043490    0.041146    0.037891    0.038281    0.039844   \n",
              "1999-02-16    0.043750    0.043490    0.041146    0.037891    0.038281   \n",
              "1999-02-17    0.041406    0.043750    0.043490    0.041146    0.037891   \n",
              "1999-02-18    0.042057    0.041406    0.043750    0.043490    0.041146   \n",
              "1999-02-19    0.043490    0.042057    0.041406    0.043750    0.043490   \n",
              "...                ...         ...         ...         ...         ...   \n",
              "2024-10-02  118.849998  117.000000  121.440002  121.400002  124.040001   \n",
              "2024-10-03  122.849998  118.849998  117.000000  121.440002  121.400002   \n",
              "2024-10-04  124.919998  122.849998  118.849998  117.000000  121.440002   \n",
              "2024-10-07  127.720001  124.919998  122.849998  118.849998  117.000000   \n",
              "2024-10-08  132.889999  127.720001  124.919998  122.849998  118.849998   \n",
              "\n",
              "            Close(t-5)  Close(t-6)  Close(t-7)  Close(t-8)  Close(t-9)  \\\n",
              "Date                                                                     \n",
              "1999-02-12    0.041276    0.040104    0.038021    0.037240    0.040365   \n",
              "1999-02-16    0.039844    0.041276    0.040104    0.038021    0.037240   \n",
              "1999-02-17    0.038281    0.039844    0.041276    0.040104    0.038021   \n",
              "1999-02-18    0.037891    0.038281    0.039844    0.041276    0.040104   \n",
              "1999-02-19    0.041146    0.037891    0.038281    0.039844    0.041276   \n",
              "...                ...         ...         ...         ...         ...   \n",
              "2024-10-02  123.510002  120.870003  116.260002  116.000000  117.870003   \n",
              "2024-10-03  124.040001  123.510002  120.870003  116.260002  116.000000   \n",
              "2024-10-04  121.400002  124.040001  123.510002  120.870003  116.260002   \n",
              "2024-10-07  121.440002  121.400002  124.040001  123.510002  120.870003   \n",
              "2024-10-08  117.000000  121.440002  121.400002  124.040001  123.510002   \n",
              "\n",
              "            Close(t-10)  Close(t-11)  Close(t-12)  Close(t-13)  Close(t-14)  \\\n",
              "Date                                                                          \n",
              "1999-02-12     0.039583     0.041536     0.041667     0.041797     0.045313   \n",
              "1999-02-16     0.040365     0.039583     0.041536     0.041667     0.041797   \n",
              "1999-02-17     0.037240     0.040365     0.039583     0.041536     0.041667   \n",
              "1999-02-18     0.038021     0.037240     0.040365     0.039583     0.041536   \n",
              "1999-02-19     0.040104     0.038021     0.037240     0.040365     0.039583   \n",
              "...                 ...          ...          ...          ...          ...   \n",
              "2024-10-02   113.370003   115.589996   116.779999   119.099998   119.139999   \n",
              "2024-10-03   117.870003   113.370003   115.589996   116.779999   119.099998   \n",
              "2024-10-04   116.000000   117.870003   113.370003   115.589996   116.779999   \n",
              "2024-10-07   116.260002   116.000000   117.870003   113.370003   115.589996   \n",
              "2024-10-08   120.870003   116.260002   116.000000   117.870003   113.370003   \n",
              "\n",
              "            Close(t-15)  \n",
              "Date                     \n",
              "1999-02-12     0.041016  \n",
              "1999-02-16     0.045313  \n",
              "1999-02-17     0.041797  \n",
              "1999-02-18     0.041667  \n",
              "1999-02-19     0.041536  \n",
              "...                 ...  \n",
              "2024-10-02   116.910004  \n",
              "2024-10-03   119.139999  \n",
              "2024-10-04   119.099998  \n",
              "2024-10-07   116.779999  \n",
              "2024-10-08   115.589996  \n",
              "\n",
              "[6455 rows x 16 columns]"
            ]
          },
          "execution_count": 10,
          "metadata": {},
          "output_type": "execute_result"
        }
      ],
      "source": [
        "from copy import deepcopy as dc\n",
        "\n",
        "\n",
        "def prepare_dataframe_for_lstm(df, n_steps):\n",
        "    df = dc(df)\n",
        "\n",
        "    for i in range(1, n_steps + 1):\n",
        "        df[f\"Close(t-{i})\"] = df[\"Close\"].shift(i)\n",
        "\n",
        "    df.dropna(inplace=True)\n",
        "\n",
        "    return df\n",
        "\n",
        "\n",
        "lookback = 15\n",
        "shifted_df = prepare_dataframe_for_lstm(data, lookback)\n",
        "shifted_df"
      ]
    },
    {
      "cell_type": "code",
      "execution_count": 11,
      "id": "yWcD1tHjfAU-",
      "metadata": {
        "colab": {
          "base_uri": "https://localhost:8080/"
        },
        "id": "yWcD1tHjfAU-",
        "outputId": "e10f8cdf-7b44-4c1a-d0a2-9007aac1685c"
      },
      "outputs": [
        {
          "data": {
            "text/plain": [
              "array([[4.34900001e-02, 4.11459990e-02, 3.78910005e-02, ...,\n",
              "        4.17970009e-02, 4.53130007e-02, 4.10160013e-02],\n",
              "       [4.37499993e-02, 4.34900001e-02, 4.11459990e-02, ...,\n",
              "        4.16669995e-02, 4.17970009e-02, 4.53130007e-02],\n",
              "       [4.14059982e-02, 4.37499993e-02, 4.34900001e-02, ...,\n",
              "        4.15359996e-02, 4.16669995e-02, 4.17970009e-02],\n",
              "       ...,\n",
              "       [1.24919998e+02, 1.22849998e+02, 1.18849998e+02, ...,\n",
              "        1.15589996e+02, 1.16779999e+02, 1.19099998e+02],\n",
              "       [1.27720001e+02, 1.24919998e+02, 1.22849998e+02, ...,\n",
              "        1.13370003e+02, 1.15589996e+02, 1.16779999e+02],\n",
              "       [1.32889999e+02, 1.27720001e+02, 1.24919998e+02, ...,\n",
              "        1.17870003e+02, 1.13370003e+02, 1.15589996e+02]])"
            ]
          },
          "execution_count": 11,
          "metadata": {},
          "output_type": "execute_result"
        }
      ],
      "source": [
        "shifted_df_as_np = shifted_df.to_numpy()\n",
        "\n",
        "shifted_df_as_np"
      ]
    },
    {
      "cell_type": "code",
      "execution_count": 12,
      "id": "Pq2p3opGELA_",
      "metadata": {
        "colab": {
          "base_uri": "https://localhost:8080/"
        },
        "id": "Pq2p3opGELA_",
        "outputId": "5cb2ff07-5d8f-4117-eafd-6a3c5663c6ff"
      },
      "outputs": [
        {
          "data": {
            "text/plain": [
              "(6455, 16)"
            ]
          },
          "execution_count": 12,
          "metadata": {},
          "output_type": "execute_result"
        }
      ],
      "source": [
        "shifted_df_as_np.shape"
      ]
    },
    {
      "cell_type": "code",
      "execution_count": 13,
      "id": "pXHkuFeafNUU",
      "metadata": {
        "colab": {
          "base_uri": "https://localhost:8080/"
        },
        "id": "pXHkuFeafNUU",
        "outputId": "a67d1f79-d279-4c96-e40f-0d9a5f9f7d7d"
      },
      "outputs": [
        {
          "data": {
            "text/plain": [
              "array([[-0.99986167, -0.99989626, -0.99994428, ..., -0.99988665,\n",
              "        -0.99983477, -0.99989817],\n",
              "       [-0.99985783, -0.99986167, -0.99989626, ..., -0.99988857,\n",
              "        -0.99988665, -0.99983477],\n",
              "       [-0.99989242, -0.99985783, -0.99986167, ..., -0.9998905 ,\n",
              "        -0.99988857, -0.99988665],\n",
              "       ...,\n",
              "       [ 0.84271004,  0.81216688,  0.75314628, ...,  0.70504445,\n",
              "         0.72260312,  0.75683507],\n",
              "       [ 0.88402451,  0.84271004,  0.81216688, ...,  0.67228811,\n",
              "         0.70504445,  0.72260312],\n",
              "       [ 0.96030861,  0.88402451,  0.84271004, ...,  0.73868629,\n",
              "         0.67228811,  0.70504445]])"
            ]
          },
          "execution_count": 13,
          "metadata": {},
          "output_type": "execute_result"
        }
      ],
      "source": [
        "from sklearn.preprocessing import MinMaxScaler\n",
        "\n",
        "scaler = MinMaxScaler(feature_range=(-1, 1))\n",
        "shifted_df_as_np = scaler.fit_transform(shifted_df_as_np)\n",
        "\n",
        "shifted_df_as_np"
      ]
    },
    {
      "cell_type": "code",
      "execution_count": 14,
      "id": "Iui9unuTfxOe",
      "metadata": {
        "colab": {
          "base_uri": "https://localhost:8080/"
        },
        "id": "Iui9unuTfxOe",
        "outputId": "642f093d-5071-43ef-fb9c-4c54061aec3e"
      },
      "outputs": [
        {
          "data": {
            "text/plain": [
              "((6455, 15), (6455,))"
            ]
          },
          "execution_count": 14,
          "metadata": {},
          "output_type": "execute_result"
        }
      ],
      "source": [
        "X = shifted_df_as_np[:, 1:]\n",
        "y = shifted_df_as_np[:, 0]\n",
        "\n",
        "X.shape, y.shape"
      ]
    },
    {
      "cell_type": "code",
      "execution_count": 15,
      "id": "XmbIqwj-E0cv",
      "metadata": {
        "colab": {
          "base_uri": "https://localhost:8080/"
        },
        "id": "XmbIqwj-E0cv",
        "outputId": "48ccc3a1-1b5c-49fd-ae2f-3f8b143fbb4c"
      },
      "outputs": [
        {
          "data": {
            "text/plain": [
              "array([[-0.99989817, -0.99983477, -0.99988665, ..., -0.99993853,\n",
              "        -0.99994428, -0.99989626],\n",
              "       [-0.99983477, -0.99988665, -0.99988857, ..., -0.99994428,\n",
              "        -0.99989626, -0.99986167],\n",
              "       [-0.99988665, -0.99988857, -0.9998905 , ..., -0.99989626,\n",
              "        -0.99986167, -0.99985783],\n",
              "       ...,\n",
              "       [ 0.75683507,  0.72260312,  0.70504445, ...,  0.72584927,\n",
              "         0.75314628,  0.81216688],\n",
              "       [ 0.72260312,  0.70504445,  0.67228811, ...,  0.75314628,\n",
              "         0.81216688,  0.84271004],\n",
              "       [ 0.70504445,  0.67228811,  0.73868629, ...,  0.81216688,\n",
              "         0.84271004,  0.88402451]])"
            ]
          },
          "execution_count": 15,
          "metadata": {},
          "output_type": "execute_result"
        }
      ],
      "source": [
        "X = dc(np.flip(X, axis=1))\n",
        "X"
      ]
    },
    {
      "cell_type": "code",
      "execution_count": 16,
      "id": "GCHslawXgE21",
      "metadata": {
        "colab": {
          "base_uri": "https://localhost:8080/"
        },
        "id": "GCHslawXgE21",
        "outputId": "a2e50719-a1fb-460e-9ce4-9dd873642765"
      },
      "outputs": [
        {
          "data": {
            "text/plain": [
              "5809"
            ]
          },
          "execution_count": 16,
          "metadata": {},
          "output_type": "execute_result"
        }
      ],
      "source": [
        "split_index = int(len(X) * 0.90)\n",
        "\n",
        "split_index"
      ]
    },
    {
      "cell_type": "code",
      "execution_count": 17,
      "id": "hhGMh_nAgiST",
      "metadata": {
        "colab": {
          "base_uri": "https://localhost:8080/"
        },
        "id": "hhGMh_nAgiST",
        "outputId": "aeb231ef-e124-4821-f4ee-dbb2275c0f98"
      },
      "outputs": [
        {
          "data": {
            "text/plain": [
              "((5809, 15), (646, 15), (5809,), (646,))"
            ]
          },
          "execution_count": 17,
          "metadata": {},
          "output_type": "execute_result"
        }
      ],
      "source": [
        "X_train = X[:split_index]\n",
        "X_test = X[split_index:]\n",
        "\n",
        "y_train = y[:split_index]\n",
        "y_test = y[split_index:]\n",
        "\n",
        "X_train.shape, X_test.shape, y_train.shape, y_test.shape"
      ]
    },
    {
      "cell_type": "code",
      "execution_count": 18,
      "id": "Muqs9hKYhMUS",
      "metadata": {
        "colab": {
          "base_uri": "https://localhost:8080/"
        },
        "id": "Muqs9hKYhMUS",
        "outputId": "d35136a0-5855-4bfb-b66b-b8f7a1a8ea96"
      },
      "outputs": [
        {
          "data": {
            "text/plain": [
              "((5809, 15, 1), (646, 15, 1), (5809, 1), (646, 1))"
            ]
          },
          "execution_count": 18,
          "metadata": {},
          "output_type": "execute_result"
        }
      ],
      "source": [
        "X_train = X_train.reshape((-1, lookback, 1))\n",
        "X_test = X_test.reshape((-1, lookback, 1))\n",
        "\n",
        "y_train = y_train.reshape((-1, 1))\n",
        "y_test = y_test.reshape((-1, 1))\n",
        "\n",
        "X_train.shape, X_test.shape, y_train.shape, y_test.shape"
      ]
    },
    {
      "cell_type": "code",
      "execution_count": 19,
      "id": "i7-PBcrMhR7z",
      "metadata": {
        "colab": {
          "base_uri": "https://localhost:8080/"
        },
        "id": "i7-PBcrMhR7z",
        "outputId": "b01a297a-75d6-4573-e450-a3545360112e"
      },
      "outputs": [
        {
          "data": {
            "text/plain": [
              "(torch.Size([5809, 15, 1]),\n",
              " torch.Size([646, 15, 1]),\n",
              " torch.Size([5809, 1]),\n",
              " torch.Size([646, 1]))"
            ]
          },
          "execution_count": 19,
          "metadata": {},
          "output_type": "execute_result"
        }
      ],
      "source": [
        "X_train = torch.tensor(X_train).float()\n",
        "y_train = torch.tensor(y_train).float()\n",
        "X_test = torch.tensor(X_test).float()\n",
        "y_test = torch.tensor(y_test).float()\n",
        "\n",
        "X_train.shape, X_test.shape, y_train.shape, y_test.shape"
      ]
    },
    {
      "cell_type": "code",
      "execution_count": 20,
      "id": "DWutCAGKhdqU",
      "metadata": {
        "id": "DWutCAGKhdqU"
      },
      "outputs": [],
      "source": [
        "from torch.utils.data import Dataset\n",
        "\n",
        "\n",
        "class TimeSeriesDataset(Dataset):\n",
        "    def __init__(self, X, y):\n",
        "        self.X = X\n",
        "        self.y = y\n",
        "\n",
        "    def __len__(self):\n",
        "        return len(self.X)\n",
        "\n",
        "    def __getitem__(self, i):\n",
        "        return self.X[i], self.y[i]\n",
        "\n",
        "\n",
        "train_dataset = TimeSeriesDataset(X_train, y_train)\n",
        "test_dataset = TimeSeriesDataset(X_test, y_test)"
      ]
    },
    {
      "cell_type": "code",
      "execution_count": 21,
      "id": "12OWUTa5ijoq",
      "metadata": {
        "colab": {
          "base_uri": "https://localhost:8080/"
        },
        "id": "12OWUTa5ijoq",
        "outputId": "0928d3c2-d181-4035-cc57-a2ac6ce38075"
      },
      "outputs": [
        {
          "data": {
            "text/plain": [
              "<__main__.TimeSeriesDataset at 0x1672850cad0>"
            ]
          },
          "execution_count": 21,
          "metadata": {},
          "output_type": "execute_result"
        }
      ],
      "source": [
        "train_dataset"
      ]
    },
    {
      "cell_type": "code",
      "execution_count": 22,
      "id": "XYsUmPl3ik46",
      "metadata": {
        "id": "XYsUmPl3ik46"
      },
      "outputs": [],
      "source": [
        "from torch.utils.data import DataLoader\n",
        "\n",
        "batch_size = 16\n",
        "\n",
        "train_loader = DataLoader(train_dataset, batch_size=batch_size, shuffle=True)\n",
        "test_loader = DataLoader(test_dataset, batch_size=batch_size, shuffle=False)"
      ]
    },
    {
      "cell_type": "code",
      "execution_count": 23,
      "id": "TJTnbgBDjOSK",
      "metadata": {
        "colab": {
          "base_uri": "https://localhost:8080/"
        },
        "id": "TJTnbgBDjOSK",
        "outputId": "51226616-d4de-4a22-f4d9-576fd3e8bfba"
      },
      "outputs": [
        {
          "name": "stdout",
          "output_type": "stream",
          "text": [
            "torch.Size([16, 15, 1]) torch.Size([16, 1])\n"
          ]
        }
      ],
      "source": [
        "for _, batch in enumerate(train_loader):\n",
        "    x_batch, y_batch = batch[0].to(device), batch[1].to(device)\n",
        "    print(x_batch.shape, y_batch.shape)\n",
        "    break"
      ]
    },
    {
      "cell_type": "code",
      "execution_count": 24,
      "id": "njdkq_kmjib5",
      "metadata": {
        "colab": {
          "base_uri": "https://localhost:8080/"
        },
        "id": "njdkq_kmjib5",
        "outputId": "db355c8d-cc21-43f5-cdfa-2156444b4531"
      },
      "outputs": [
        {
          "data": {
            "text/plain": [
              "LSTM(\n",
              "  (lstm): LSTM(1, 4, batch_first=True)\n",
              "  (fc): Linear(in_features=4, out_features=1, bias=True)\n",
              ")"
            ]
          },
          "execution_count": 24,
          "metadata": {},
          "output_type": "execute_result"
        }
      ],
      "source": [
        "class LSTM(nn.Module):\n",
        "    def __init__(self, input_size, hidden_size, num_stacked_layers):\n",
        "        super().__init__()\n",
        "        self.hidden_size = hidden_size\n",
        "        self.num_stacked_layers = num_stacked_layers\n",
        "\n",
        "        self.lstm = nn.LSTM(\n",
        "            input_size, hidden_size, num_stacked_layers, batch_first=True\n",
        "        )\n",
        "\n",
        "        self.fc = nn.Linear(hidden_size, 1)\n",
        "\n",
        "    def forward(self, x):\n",
        "        batch_size = x.size(0)\n",
        "        h0 = torch.zeros(self.num_stacked_layers, batch_size, self.hidden_size).to(\n",
        "            device\n",
        "        )\n",
        "        c0 = torch.zeros(self.num_stacked_layers, batch_size, self.hidden_size).to(\n",
        "            device\n",
        "        )\n",
        "\n",
        "        out, _ = self.lstm(x, (h0, c0))\n",
        "        out = self.fc(out[:, -1, :])\n",
        "        return out\n",
        "\n",
        "\n",
        "model = LSTM(1, 4, 1)\n",
        "model.to(device)\n",
        "model"
      ]
    },
    {
      "cell_type": "code",
      "execution_count": 25,
      "id": "iue5WvTxmVKB",
      "metadata": {
        "id": "iue5WvTxmVKB"
      },
      "outputs": [],
      "source": [
        "def train_one_epoch():\n",
        "    model.train(True)\n",
        "    print(f\"Epoch: {epoch + 1}\")\n",
        "    running_loss = 0.0\n",
        "\n",
        "    for batch_index, batch in enumerate(train_loader):\n",
        "        x_batch, y_batch = batch[0].to(device), batch[1].to(device)\n",
        "\n",
        "        output = model(x_batch)\n",
        "        loss = loss_function(output, y_batch)\n",
        "        running_loss += loss.item()\n",
        "\n",
        "        optimizer.zero_grad()\n",
        "        loss.backward()\n",
        "        optimizer.step()\n",
        "\n",
        "        if batch_index % 100 == 99:  # print every 100 batches\n",
        "            avg_loss_across_batches = running_loss / 100\n",
        "            print(\n",
        "                \"Batch {0}, Loss: {1:.3f}\".format(\n",
        "                    batch_index + 1, avg_loss_across_batches\n",
        "                )\n",
        "            )\n",
        "            running_loss = 0.0\n",
        "    print()"
      ]
    },
    {
      "cell_type": "code",
      "execution_count": 26,
      "id": "gRmNuV3cmy-t",
      "metadata": {
        "id": "gRmNuV3cmy-t"
      },
      "outputs": [],
      "source": [
        "def validate_one_epoch():\n",
        "    model.train(False)\n",
        "    running_loss = 0.0\n",
        "\n",
        "    for batch_index, batch in enumerate(test_loader):\n",
        "        x_batch, y_batch = batch[0].to(device), batch[1].to(device)\n",
        "\n",
        "        with torch.no_grad():\n",
        "            output = model(x_batch)\n",
        "            loss = loss_function(output, y_batch)\n",
        "            running_loss += loss.item()\n",
        "\n",
        "    avg_loss_across_batches = running_loss / len(test_loader)\n",
        "\n",
        "    print(\"Val Loss: {0:.3f}\".format(avg_loss_across_batches))\n",
        "    print(\"***************************************************\")\n",
        "    print()"
      ]
    },
    {
      "cell_type": "code",
      "execution_count": 28,
      "id": "1jgb1aJ3lxlQ",
      "metadata": {
        "colab": {
          "base_uri": "https://localhost:8080/"
        },
        "id": "1jgb1aJ3lxlQ",
        "outputId": "2a25db36-4872-44e4-feca-4d26bad49f96"
      },
      "outputs": [
        {
          "name": "stdout",
          "output_type": "stream",
          "text": [
            "Epoch: 1\n",
            "Batch 100, Loss: 0.001\n",
            "Batch 200, Loss: 0.000\n",
            "Batch 300, Loss: 0.000\n",
            "\n",
            "Val Loss: 0.141\n",
            "***************************************************\n",
            "\n",
            "Epoch: 2\n",
            "Batch 100, Loss: 0.000\n",
            "Batch 200, Loss: 0.000\n",
            "Batch 300, Loss: 0.000\n",
            "\n",
            "Val Loss: 0.111\n",
            "***************************************************\n",
            "\n",
            "Epoch: 3\n",
            "Batch 100, Loss: 0.000\n",
            "Batch 200, Loss: 0.000\n",
            "Batch 300, Loss: 0.000\n",
            "\n",
            "Val Loss: 0.121\n",
            "***************************************************\n",
            "\n",
            "Epoch: 4\n",
            "Batch 100, Loss: 0.000\n",
            "Batch 200, Loss: 0.000\n",
            "Batch 300, Loss: 0.000\n",
            "\n",
            "Val Loss: 0.113\n",
            "***************************************************\n",
            "\n",
            "Epoch: 5\n",
            "Batch 100, Loss: 0.000\n",
            "Batch 200, Loss: 0.000\n",
            "Batch 300, Loss: 0.000\n",
            "\n",
            "Val Loss: 0.124\n",
            "***************************************************\n",
            "\n",
            "Epoch: 6\n",
            "Batch 100, Loss: 0.000\n",
            "Batch 200, Loss: 0.000\n",
            "Batch 300, Loss: 0.000\n",
            "\n",
            "Val Loss: 0.105\n",
            "***************************************************\n",
            "\n",
            "Epoch: 7\n",
            "Batch 100, Loss: 0.000\n",
            "Batch 200, Loss: 0.000\n",
            "Batch 300, Loss: 0.000\n",
            "\n",
            "Val Loss: 0.125\n",
            "***************************************************\n",
            "\n"
          ]
        }
      ],
      "source": [
        "learning_rate = 0.05\n",
        "num_epochs = 7\n",
        "loss_function = nn.MSELoss()\n",
        "optimizer = torch.optim.Adam(model.parameters(), lr=learning_rate)\n",
        "\n",
        "for epoch in range(num_epochs):\n",
        "    train_one_epoch()\n",
        "    validate_one_epoch()"
      ]
    },
    {
      "cell_type": "code",
      "execution_count": 29,
      "id": "-Xon2PHWno7t",
      "metadata": {
        "colab": {
          "base_uri": "https://localhost:8080/",
          "height": 449
        },
        "id": "-Xon2PHWno7t",
        "outputId": "862b1d87-3e42-4fe1-8618-3cf0720e0da5"
      },
      "outputs": [
        {
          "data": {
            "image/png": "[encoded data removed]",
            "text/plain": [
              "<Figure size 640x480 with 1 Axes>"
            ]
          },
          "metadata": {},
          "output_type": "display_data"
        }
      ],
      "source": [
        "with torch.no_grad():\n",
        "    predicted = model(X_train.to(device)).to(\"cpu\").numpy()\n",
        "\n",
        "plt.plot(y_train, label=\"Actual Close\")\n",
        "plt.plot(predicted, label=\"Predicted Close\")\n",
        "plt.xlabel(\"Day\")\n",
        "plt.ylabel(\"Price\")\n",
        "plt.legend()\n",
        "plt.show()\n"
      ]
    },
    {
      "cell_type": "code",
      "execution_count": 30,
      "id": "d3SDgEvPpOcD",
      "metadata": {
        "colab": {
          "base_uri": "https://localhost:8080/"
        },
        "id": "d3SDgEvPpOcD",
        "outputId": "e9b8491e-b15e-4aa5-ae97-6619bb4a3be9"
      },
      "outputs": [
        {
          "data": {
            "text/plain": [
              "array([ 0.4166594 ,  0.41899832,  0.41985067, ..., 22.32776134,\n",
              "       22.5654746 , 22.10921591])"
            ]
          },
          "execution_count": 30,
          "metadata": {},
          "output_type": "execute_result"
        }
      ],
      "source": [
        "train_predictions = predicted.flatten()\n",
        "\n",
        "dummies = np.zeros((X_train.shape[0], lookback + 1))\n",
        "dummies[:, 0] = train_predictions\n",
        "dummies = scaler.inverse_transform(dummies)\n",
        "\n",
        "train_predictions = dc(dummies[:, 0])\n",
        "train_predictions"
      ]
    },
    {
      "cell_type": "code",
      "execution_count": 31,
      "id": "PHnvejOdrL7Q",
      "metadata": {
        "colab": {
          "base_uri": "https://localhost:8080/"
        },
        "id": "PHnvejOdrL7Q",
        "outputId": "952cb861-3f21-42d2-f1b2-9e489c9cdcd7"
      },
      "outputs": [
        {
          "data": {
            "text/plain": [
              "array([ 0.04349087,  0.04374941,  0.04140645, ..., 22.65800123,\n",
              "       22.10000162, 21.33000069])"
            ]
          },
          "execution_count": 31,
          "metadata": {},
          "output_type": "execute_result"
        }
      ],
      "source": [
        "dummies = np.zeros((X_train.shape[0], lookback + 1))\n",
        "dummies[:, 0] = y_train.flatten()\n",
        "dummies = scaler.inverse_transform(dummies)\n",
        "\n",
        "new_y_train = dc(dummies[:, 0])\n",
        "new_y_train"
      ]
    },
    {
      "cell_type": "code",
      "execution_count": 32,
      "id": "2LlDAUtyrcrN",
      "metadata": {
        "colab": {
          "base_uri": "https://localhost:8080/",
          "height": 449
        },
        "id": "2LlDAUtyrcrN",
        "outputId": "819c2ff2-be0d-4781-d164-915936251f66"
      },
      "outputs": [
        {
          "data": {
            "image/png": "[encoded data removed]",
            "text/plain": [
              "<Figure size 640x480 with 1 Axes>"
            ]
          },
          "metadata": {},
          "output_type": "display_data"
        }
      ],
      "source": [
        "plt.plot(new_y_train, label=\"Actual Price\")\n",
        "plt.plot(train_predictions, label=\"Predicted Price\")\n",
        "plt.xlabel(\"Day\")\n",
        "plt.ylabel(\"Price\")\n",
        "plt.legend()\n",
        "plt.show()\n"
      ]
    },
    {
      "cell_type": "code",
      "execution_count": 33,
      "id": "yYeC2JMorftR",
      "metadata": {
        "colab": {
          "base_uri": "https://localhost:8080/"
        },
        "id": "yYeC2JMorftR",
        "outputId": "94df7137-866f-42aa-cb02-5a78961f6779"
      },
      "outputs": [
        {
          "data": {
            "text/plain": [
              "array([21.38043084, 22.26303512, 23.77054661, 24.41540128, 25.58445637,\n",
              "       26.17163792, 26.10722678, 25.43971814, 26.83342248, 27.17510246,\n",
              "       27.4337044 , 27.79508542, 27.28431257, 26.7818249 , 26.29277287,\n",
              "       26.58109402, 25.82625768, 24.46860257, 23.89949815, 23.12439119,\n",
              "       22.04373832, 21.41322821, 21.77595037, 21.36486229, 21.47132952,\n",
              "       21.8797636 , 21.53713431, 20.43738229, 19.56248957, 19.6187448 ,\n",
              "       18.99427386, 18.42406259, 19.23019354, 18.81514667, 19.15660851,\n",
              "       19.45561031, 20.01829583, 19.19925034, 18.62682538, 17.3306406 ,\n",
              "       17.26407232, 16.78060704, 16.21349413, 17.11359788, 17.3033411 ,\n",
              "       17.84660835, 17.22717478, 16.97866776, 16.69452759, 16.72958712,\n",
              "       16.27299718, 16.62131016, 17.47863069, 18.45765172, 18.66098005,\n",
              "       18.360217  , 19.09902427, 18.88092318, 18.69012564, 18.7637753 ,\n",
              "       18.62791203, 18.13276832, 17.18862908, 15.91610817, 15.61685188,\n",
              "       16.16803672, 15.79126892, 15.70554495, 16.23443129, 16.33449578,\n",
              "       16.18827906, 16.7498739 , 16.8555009 , 16.1776388 , 15.55762757,\n",
              "       15.12863605, 14.57714421, 14.6903333 , 14.95049856, 15.54228523,\n",
              "       15.75990965, 15.27936902, 14.98596609, 15.00130034, 15.19179088,\n",
              "       15.54247913, 15.90800477, 16.64093445, 17.48946081, 17.92171227,\n",
              "       17.47864281, 17.01820719, 16.55594164, 17.28975599, 17.83034904,\n",
              "       18.05408534, 18.27693293, 18.41040881, 18.69108706, 19.02290642,\n",
              "       18.96860636, 18.06485486, 17.18269898, 17.64426568, 17.87678403,\n",
              "       18.40803757, 18.84736233, 18.84906704, 18.41118441, 18.52949569,\n",
              "       18.01720395, 17.18376543, 17.00309511, 17.08313136, 17.60958183,\n",
              "       16.67992854, 15.84065282, 15.40699155, 15.06675369, 14.15719732,\n",
              "       13.58094284, 13.34492217, 13.48675594, 13.77496397, 14.15453524,\n",
              "       14.36584174, 13.4430921 , 12.97948136, 12.80379589, 12.96354117,\n",
              "       13.18894582, 13.11588998, 13.10421558, 12.63181876, 12.37624247,\n",
              "       12.14570351, 12.19742229, 12.48443056, 12.24304937, 12.02058957,\n",
              "       12.23141133, 12.82059248, 13.08035377, 13.04342795, 12.26255247,\n",
              "       11.62523566, 11.4129031 , 11.34743359, 11.65752   , 11.30296991,\n",
              "       11.53212733, 11.77587976, 11.89062814, 12.00801032, 12.23818571,\n",
              "       12.42018909, 12.92764544, 12.88483799, 12.96858661, 13.49350204,\n",
              "       13.48453417, 13.41635006, 13.17801067, 13.2170088 , 13.7926937 ,\n",
              "       14.14826581, 14.41864312, 13.92056667, 15.02765862, 16.04838833,\n",
              "       16.27203172, 16.48633964, 16.04449821, 15.64232953, 15.35713906,\n",
              "       15.21940547, 15.70152556, 16.27824864, 16.27689942, 15.87752208,\n",
              "       15.57883941, 16.41046416, 16.98266695, 16.90320836, 16.60561234,\n",
              "       16.06346809, 15.95639492, 16.73120699, 16.97155405, 17.31144046,\n",
              "       17.82229411, 17.71996341, 17.0895139 , 16.56904604, 16.21815985,\n",
              "       16.01392665, 16.2604462 , 15.59003713, 15.13555182, 14.29981477,\n",
              "       13.91053235, 14.27003497, 14.49175552, 14.30854027, 14.49850162,\n",
              "       14.28908968, 14.56376511, 15.27736539, 15.74513285, 15.90361374,\n",
              "       16.26959989, 16.69261686, 17.3835874 , 17.40623734, 16.87756913,\n",
              "       17.40170897, 18.67664151, 19.18727702, 19.24966837, 19.55628074,\n",
              "       20.08081645, 19.43035484, 19.31918958, 20.36766314, 21.34968962,\n",
              "       21.18072197, 20.96605453, 21.66602122, 22.01690337, 22.13647501,\n",
              "       21.42060448, 21.45604374, 22.39719368, 22.63106126, 22.06501076,\n",
              "       21.39138215, 20.69503896, 20.55556431, 22.58188742, 23.18890736,\n",
              "       23.26122396, 23.05672415, 22.61956057, 22.8843673 , 23.44802636,\n",
              "       23.4049725 , 23.12728758, 23.63091845, 23.38256089, 22.87569836,\n",
              "       22.71556932, 23.45999969, 23.89375387, 24.82673577, 25.27882158,\n",
              "       25.44397182, 25.66012582, 25.90624141, 26.44580437, 26.35946638,\n",
              "       26.09135123, 25.93010726, 26.27615403, 26.68885391, 27.0513135 ,\n",
              "       27.26171918, 26.97097833, 26.46549329, 26.41335844, 26.80968185,\n",
              "       26.69660991, 26.15848908, 25.94948514, 26.133783  , 26.38410379,\n",
              "       26.88258823, 27.21467017, 26.74531111, 26.53484888, 26.47550742,\n",
              "       25.9508586 , 26.21388791, 26.56800577, 26.99489266, 27.8598884 ,\n",
              "       27.69088036, 27.25420152, 26.97165698, 27.63561887, 28.21894666,\n",
              "       27.97561435, 28.01727052, 27.88151632, 27.66679637, 27.9952144 ,\n",
              "       28.31073809, 28.98755393, 30.1313778 , 30.20629185, 30.04677683,\n",
              "       29.69803565, 29.49831467, 33.92019487, 35.88016381, 36.64555961,\n",
              "       35.49544409, 36.15584711, 36.23165189, 36.09201566, 35.76789978,\n",
              "       35.02958735, 35.40866781, 35.73854817, 36.182064  , 37.11688796,\n",
              "       38.38346059, 38.47620536, 38.42148922, 38.98263566, 38.74941846,\n",
              "       38.6279765 , 38.19783775, 37.25704127, 37.68349188, 37.4850676 ,\n",
              "       37.2244176 , 37.95353593, 38.23608855, 38.19835885, 38.05892863,\n",
              "       38.2337052 , 38.12606245, 38.19668647, 38.99773966, 40.24472233,\n",
              "       40.2508423 , 40.64890677, 41.25779704, 41.17760729, 40.35800838,\n",
              "       39.55512525, 39.55940721, 40.15055967, 40.18441137, 40.36816793,\n",
              "       40.83229572, 40.92449919, 40.80632121, 39.6691869 , 39.50321662,\n",
              "       39.63267715, 40.03849762, 39.75806578, 38.58284629, 38.20065737,\n",
              "       37.38879022, 38.69598691, 39.21353818, 39.00451   , 38.84456274,\n",
              "       38.79934366, 40.63517219, 40.4680264 , 40.99080893, 41.16980282,\n",
              "       40.61836753, 40.86764207, 41.9048856 , 42.3562362 , 42.43449098,\n",
              "       42.03270202, 41.95182554, 41.25397963, 40.68709698, 40.26720665,\n",
              "       40.00286447, 39.80987343, 40.08332487, 40.21473247, 39.38744219,\n",
              "       39.19245156, 38.98228018, 38.27620564, 37.45602503, 37.59620661,\n",
              "       38.02369136, 37.96084354, 38.19786198, 38.59391878, 38.89101794,\n",
              "       39.58961521, 39.11520667, 39.19915323, 39.59250351, 40.2191235 ,\n",
              "       40.10853186, 40.29346797, 40.84698365, 41.03773272, 40.32193087,\n",
              "       40.44007653, 39.45596967, 38.28743164, 37.99777744, 37.63535016,\n",
              "       38.37816874, 38.96469588, 38.08720571, 37.0298794 , 36.90039867,\n",
              "       37.30402363, 37.2191924 , 37.97268355, 38.80436082, 39.72143081,\n",
              "       40.26981218, 40.4448392 , 40.75643237, 41.00754088, 41.71118359,\n",
              "       41.99970671, 42.50471912, 42.25032643, 42.43309329, 42.41193396,\n",
              "       42.90652424, 42.80976009, 42.18381067, 41.59990118, 41.72276507,\n",
              "       41.59054551, 41.69765099, 41.07907784, 40.91381045, 40.30635828,\n",
              "       40.67732927, 40.29631992, 40.70213231, 41.27612058, 40.96130382,\n",
              "       41.34000254, 41.66534645, 41.83864453, 42.11417635, 42.72170528,\n",
              "       42.62677106, 41.86701047, 42.10867848, 42.14372185, 42.34053838,\n",
              "       42.4505564 , 42.51176819, 42.51979888, 41.88466345, 41.44631626,\n",
              "       41.58917205, 42.17024575, 43.74132815, 44.44488198, 45.02968422,\n",
              "       45.3215602 , 45.30349114, 45.99525344, 45.99926879, 46.4024918 ,\n",
              "       47.45839416, 47.70302318, 47.78626281, 48.38102666, 48.58542144,\n",
              "       48.36721937, 48.87691769, 49.09664269, 48.6324543 , 49.11887251,\n",
              "       50.40041381, 51.73546342, 51.50768349, 52.09032456, 52.03044583,\n",
              "       52.86509623, 53.03283988, 52.99208049, 53.58093847, 53.2511793 ,\n",
              "       53.16993522, 52.07961562, 51.20562777, 54.8751681 , 55.48739102,\n",
              "       55.57298977, 55.45193965, 55.10315808, 55.51905731, 56.5674218 ,\n",
              "       57.58359891, 57.90575155, 58.7250071 , 59.92510638, 58.60707554,\n",
              "       57.93599994, 59.62658934, 59.53053615, 58.67599485, 58.55083647,\n",
              "       58.72232482, 59.01039955, 59.3152345 , 59.64270727, 60.45396041,\n",
              "       60.72452759, 60.09301566, 59.38954261, 59.34704621, 59.34819345,\n",
              "       59.09073876, 58.92313649, 58.02274593, 58.52873592, 58.34439363,\n",
              "       57.79557599, 58.22636107, 59.30390347, 58.7314058 , 58.02362252,\n",
              "       58.3595461 , 57.4127771 , 57.48063804, 54.8792198 , 55.57467024,\n",
              "       56.62425873, 55.89587358, 56.69565834, 58.32656695, 58.51167676,\n",
              "       58.12332749, 57.07859458, 57.78301288, 58.74368209, 59.78241622,\n",
              "       59.44765604, 59.36646448, 58.89195496, 59.1595086 , 59.33938312,\n",
              "       59.62293352, 60.54346543, 60.56221313, 60.05392866, 60.62518214,\n",
              "       60.8448829 , 60.74843383, 62.96074739, 63.73466671, 65.31585614,\n",
              "       65.53312911, 64.73062167, 64.55328805, 65.59259176, 65.85298727,\n",
              "       66.75757092, 66.50605037, 66.50457592, 66.64412329, 66.52796914,\n",
              "       67.07228669, 67.406142  , 67.41526338, 67.27557462, 67.46082986,\n",
              "       67.17162001, 67.02504377, 66.17512779, 67.28746715, 67.21395484,\n",
              "       66.9127959 , 66.88567819, 66.98192931, 66.77647212, 67.37687119,\n",
              "       67.04187671, 67.28019187, 67.45345763, 67.4848371 , 66.9790087 ,\n",
              "       67.30771354, 67.27043627, 67.12170694, 66.15732132, 66.67760335,\n",
              "       66.19570139, 66.97254132, 66.77583791, 65.50857249, 65.1697081 ,\n",
              "       65.30861721, 65.01406299, 63.31749098, 65.91707524, 64.48905061,\n",
              "       64.04617102, 62.45803754, 63.2426658 , 62.00239287, 63.3571314 ,\n",
              "       63.39454601, 64.34015161, 65.76035561, 66.09599642, 66.78173166,\n",
              "       66.93712631, 67.40207818, 67.05914997, 67.2180227 , 66.78121863,\n",
              "       67.41243971, 67.08403783, 67.28674811, 67.02593652, 66.06825257,\n",
              "       66.41124541, 64.38026466, 63.9011177 , 64.06150527, 63.04814375,\n",
              "       63.79804372, 64.18419546, 65.9014663 , 66.2641723 , 66.24630523,\n",
              "       65.89199348, 65.71807734, 65.33693468, 66.12014504, 65.79850946,\n",
              "       65.84403152, 66.56441829, 66.8714225 , 66.88769394, 66.55251364,\n",
              "       66.60247924, 65.96950902, 66.29095877, 66.84283438, 67.02922474,\n",
              "       67.2522218 ])"
            ]
          },
          "execution_count": 33,
          "metadata": {},
          "output_type": "execute_result"
        }
      ],
      "source": [
        "test_predictions = model(X_test.to(device)).detach().cpu().numpy().flatten()\n",
        "\n",
        "dummies = np.zeros((X_test.shape[0], lookback + 1))\n",
        "dummies[:, 0] = test_predictions\n",
        "dummies = scaler.inverse_transform(dummies)\n",
        "\n",
        "test_predictions = dc(dummies[:, 0])\n",
        "test_predictions"
      ]
    },
    {
      "cell_type": "code",
      "execution_count": 34,
      "id": "g-DJXBgYsFyI",
      "metadata": {
        "colab": {
          "base_uri": "https://localhost:8080/"
        },
        "id": "g-DJXBgYsFyI",
        "outputId": "b606685e-137b-41ef-8a56-6171133ed013"
      },
      "outputs": [
        {
          "data": {
            "text/plain": [
              "array([ 22.97299977,  24.49599902,  24.76600066,  26.45299886,\n",
              "        26.73400028,  26.52399856,  25.63400185,  28.14999908,\n",
              "        27.69199932,  28.21899918,  28.65600118,  27.68999973,\n",
              "        27.28600111,  26.71200072,  27.36000222,  25.93100001,\n",
              "        24.40699894,  24.20800105,  23.11899835,  21.91700047,\n",
              "        21.50400166,  22.20299885,  21.25799918,  21.78299944,\n",
              "        22.19800188,  21.48200209,  20.18300172,  19.51500025,\n",
              "        19.9020003 ,  18.78800067,  18.41500181,  19.78200047,\n",
              "        18.5469992 ,  19.53300062,  19.60200073,  20.3340013 ,\n",
              "        18.8440014 ,  18.6749974 ,  16.94999884,  17.59499894,\n",
              "        16.6299993 ,  16.17500096,  17.70599858,  17.26399961,\n",
              "        18.17700174,  16.93800128,  17.12399981,  16.6939984 ,\n",
              "        16.89800134,  16.15399917,  16.97499982,  17.85099938,\n",
              "        18.81100206,  18.67200003,  18.31999892,  19.59199872,\n",
              "        18.71999835,  18.78600108,  18.92600088,  18.64800087,\n",
              "        18.04800173,  16.97400204,  15.64699928,  15.83599922,\n",
              "        16.52700207,  15.60100056,  15.87999835,  16.5660002 ,\n",
              "        16.3600017 ,  16.22499887,  17.1259994 ,  16.86900118,\n",
              "        15.98200184,  15.54199842,  15.15900159,  14.52300169,\n",
              "        14.96399884,  15.13000143,  15.85799878,  15.83799881,\n",
              "        15.152001  ,  15.08199908,  15.16399856,  15.37200068,\n",
              "        15.76199811,  16.10099985,  16.99200242,  17.80700025,\n",
              "        18.04999728,  17.31899852,  17.02399995,  16.53300085,\n",
              "        17.79000169,  17.98399859,  18.16300055,  18.44100056,\n",
              "        18.52599741,  18.89300153,  19.21500067,  18.98900221,\n",
              "        17.79299906,  17.08599946,  18.09700186,  17.94199905,\n",
              "        18.70899856,  19.03199952,  18.87900034,  18.33499788,\n",
              "        18.77300171,  17.84899979,  17.03400196,  17.18099831,\n",
              "        17.22200007,  17.91299889,  16.26000185,  15.80100028,\n",
              "        15.46800136,  15.09400068,  13.93699969,  13.64700213,\n",
              "        13.46499875,  13.7139986 ,  13.98999901,  14.38700107,\n",
              "        14.50500131,  13.13099801,  13.12800064,  12.9289987 ,\n",
              "        13.19799852,  13.38200149,  13.17599896,  13.26099985,\n",
              "        12.56100084,  12.5159999 ,  12.22799788,  12.41299863,\n",
              "        12.73599959,  12.21999951,  12.13900185,  12.51200071,\n",
              "        13.16699877,  13.20899831,  13.13000024,  12.07600052,\n",
              "        11.66999827,  11.5859992 ,  11.50000053,  11.95999988,\n",
              "        11.22700153,  11.88799837,  11.96700048,  12.05099955,\n",
              "        12.19400076,  12.46599795,  12.59900119,  13.26099985,\n",
              "        12.89599936,  13.17599896,  13.83399843,  13.49700032,\n",
              "        13.54299904,  13.21900031,  13.42099962,  14.15600161,\n",
              "        14.30099837,  14.60199976,  13.77599811,  15.75000055,\n",
              "        16.32699832,  16.29500079,  16.66600006,  15.91000032,\n",
              "        15.67700126,  15.40899922,  15.31700177,  16.03799853,\n",
              "        16.51899966,  16.26999981,  15.82699903,  15.63900091,\n",
              "        16.92300232,  17.13499959,  16.87599774,  16.60999933,\n",
              "        15.9869988 ,  16.12000204,  17.16900075,  17.00099857,\n",
              "        17.53499902,  18.07200088,  17.67400105,  16.95199844,\n",
              "        16.57099716,  16.25399903,  16.08499906,  16.50099928,\n",
              "        15.33900134,  15.20600213,  14.12099863,  14.03600178,\n",
              "        14.60300158,  14.61400136,  14.31499956,  14.74900016,\n",
              "        14.26500165,  14.85900202,  15.62800113,  15.90899851,\n",
              "        16.00099999,  16.51100129,  16.89899912,  17.70199939,\n",
              "        17.37699884,  16.7649981 ,  17.83900182,  19.19300111,\n",
              "        19.26499858,  19.3229989 ,  19.80200044,  20.36500106,\n",
              "        19.16200135,  19.53699981,  20.94300064,  21.70899834,\n",
              "        21.099999  ,  21.08899922,  22.17300091,  22.20499844,\n",
              "        22.33699987,  21.26499978,  21.78800045,  22.97100018,\n",
              "        22.76399987,  22.00200135,  21.38800102,  20.65500266,\n",
              "        20.75400071,  23.66399859,  23.28599872,  23.50100145,\n",
              "        23.21600084,  22.69800117,  23.31400111,  23.89000109,\n",
              "        23.55400076,  23.28799831,  24.18100048,  23.43600053,\n",
              "        22.9650014 ,  22.96599918,  24.06300024,  24.22800102,\n",
              "        25.54099854,  25.72500151,  25.90000026,  26.19899801,\n",
              "        26.46800187,  27.19099822,  26.77900123,  26.53099916,\n",
              "        26.41000155,  26.98399791,  27.38299956,  27.77700021,\n",
              "        27.96499833,  27.45299744,  26.88100068,  27.03700126,\n",
              "        27.57900009,  27.16899865,  26.49500244,  26.46300087,\n",
              "        26.75799944,  27.00200232,  27.66699835,  27.9310012 ,\n",
              "        27.10400177,  27.11900074,  27.04199823,  26.24099755,\n",
              "        26.95599956,  27.2260012 ,  27.74900187,  28.90999799,\n",
              "        28.20999899,  27.80200119,  27.56200153,  28.68000034,\n",
              "        29.15099947,  28.57100029,  28.88500106,  28.57800089,\n",
              "        28.34000083,  28.95299935,  29.21299898,  30.17799862,\n",
              "        31.67800052,  31.2639999 ,  31.17600164,  30.68799991,\n",
              "        30.5379981 ,  37.97999924,  38.94599867,  40.11100004,\n",
              "        37.83399864,  39.77000073,  39.32699995,  39.17100138,\n",
              "        38.65399949,  37.47499894,  38.50999848,  38.77000013,\n",
              "        39.48199872,  41.02199855,  42.99700079,  42.65300006,\n",
              "        42.69200223,  43.80799943,  43.0449991 ,  43.02500115,\n",
              "        42.20899948,  40.6319991 ,  41.87599854,  41.11700144,\n",
              "        40.82199883,  42.30199875,  42.41299839,  42.31700175,\n",
              "        42.10300085,  42.50299826,  42.17999932,  42.40499799,\n",
              "        43.90200051,  45.97700059,  45.46900091,  46.46099909,\n",
              "        47.49399904,  47.07699902,  45.52000063,  44.30899852,\n",
              "        44.6119995 ,  45.67900061,  45.45200033,  45.90000211,\n",
              "        46.7500009 ,  46.72899912,  46.50699983,  44.26900059,\n",
              "        44.51499903,  44.67999981,  45.41699936,  44.66400104,\n",
              "        42.554     ,  42.38800145,  40.8550002 ,  43.7529985 ,\n",
              "        43.93999884,  43.48600029,  43.3440009 ,  43.29899995,\n",
              "        46.96699918,  45.66799881,  47.11600119,  47.16299769,\n",
              "        46.01800235,  46.83499977,  48.78400124,  49.26400056,\n",
              "        49.35500023,  48.5089986 ,  48.54800077,  47.06100026,\n",
              "        46.24100142,  45.57199813,  45.17800152,  44.86999954,\n",
              "        45.48499967,  45.58100034,  43.90000092,  43.96599961,\n",
              "        43.52000146,  42.23899742,  41.01699754,  41.61000013,\n",
              "        42.22200088,  41.9109995 ,  42.46799932,  43.08900025,\n",
              "        43.49899967,  44.78200128,  43.51699803,  44.04100051,\n",
              "        44.6880002 ,  45.7620019 ,  45.27299836,  45.79800064,\n",
              "        46.80599961,  46.94499962,  45.46099849,  46.09500082,\n",
              "        43.93799925,  42.19600011,  42.10100125,  41.38700106,\n",
              "        42.9749992 ,  43.66299863,  41.77900009,  40.32600075,\n",
              "        40.49999969,  41.16099855,  40.77999929,  42.32500013,\n",
              "        43.50600026,  45.00500035,  45.7510001 ,  45.95500102,\n",
              "        46.57400035,  46.95000062,  48.33499966,  48.61999824,\n",
              "        49.65599758,  48.88800029,  49.47999904,  49.2979997 ,\n",
              "        50.40899994,  49.94399959,  48.71599892,  47.77600025,\n",
              "        48.2420004 ,  47.82099918,  48.13999893,  46.77000087,\n",
              "        46.76499987,  45.50999863,  46.56600197,  45.50299803,\n",
              "        46.59599991,  47.50600064,  46.62699966,  47.65700224,\n",
              "        48.08800142,  48.34999863,  48.88999988,  50.0769988 ,\n",
              "        49.60400008,  48.11100079,  48.99000176,  48.83000198,\n",
              "        49.27899953,  49.41699974,  49.52199858,  49.52199858,\n",
              "        48.16799929,  47.56899994,  47.99800155,  49.09700019,\n",
              "        52.25299853,  53.13999889,  54.34999817,  54.82199811,\n",
              "        54.70999867,  56.38199993,  56.05300121,  57.1069989 ,\n",
              "        59.49100127,  59.65399942,  59.87300133,  61.36199941,\n",
              "        61.61700057,  61.03099807,  62.46500027,  62.77399801,\n",
              "        61.52700019,  63.02700058,  66.16000372,  69.3320007 ,\n",
              "        68.22299959,  70.09899896,  69.64099882,  72.13300308,\n",
              "        72.2480009 ,  72.12799855,  73.90000168,  72.65799729,\n",
              "        72.61299887,  69.45200344,  67.47200013,  78.53800155,\n",
              "        78.81700135,  79.09200298,  78.70099667,  77.66300178,\n",
              "        79.11199992,  82.27899906,  85.23699929,  85.96399685,\n",
              "        88.6999978 ,  92.66899842,  87.52799987,  85.77400116,\n",
              "        91.91300273,  90.88800115,  87.94400009,  87.83699762,\n",
              "        88.45500118,  89.39800327,  90.37200108,  91.43499694,\n",
              "        94.28900218,  95.00199854,  92.56099615,  90.24999964,\n",
              "        90.35600232,  90.36299887,  89.45200441,  88.96399662,\n",
              "        85.90499875,  88.00800323,  87.13300347,  85.35399569,\n",
              "        87.03900239,  90.61599791,  88.18599732,  86.00099942,\n",
              "        87.41500064,  84.03500343,  84.67099727,  76.1999969 ,\n",
              "        79.51799814,  82.42299602,  79.67700215,  82.63200401,\n",
              "        87.73500019,  87.75700379,  86.40200067,  83.0410006 ,\n",
              "        85.81700049,  88.78900192,  92.13999897,  90.55400042,\n",
              "        90.41200304,  88.74700238,  89.87799855,  90.39900165,\n",
              "        91.35600291,  94.62999745,  94.35900208,  92.47899667,\n",
              "        94.77999926,  95.38600122,  94.94999699, 103.79900481,\n",
              "       106.46900303, 113.90100216, 114.824996  , 110.50000114,\n",
              "       109.63300177, 114.99999878, 116.43699532, 122.44000436,\n",
              "       120.99800277, 120.88800091, 121.78999922, 120.91000451,\n",
              "       125.19999639, 129.61000022, 131.88000305, 130.97999625,\n",
              "       135.58000183, 130.78000058, 126.5700005 , 118.11000042,\n",
              "       126.08999715, 126.40000277, 123.98999609, 123.54000279,\n",
              "       124.30000171, 122.66999797, 128.28000009, 125.83000156,\n",
              "       128.19999617, 131.38000376, 134.9100048 , 127.40000134,\n",
              "       129.24000681, 128.44000391, 126.35999878, 117.98999655,\n",
              "       121.08999618, 117.93000067, 123.54000279, 122.58999809,\n",
              "       114.25000187, 112.27999861, 113.0599975 , 111.58999757,\n",
              "       103.73000471, 117.01999591, 109.21000095, 107.26999563,\n",
              "       100.44999725, 104.24999993,  98.91000348, 104.97000294,\n",
              "       104.74999922, 109.01999516, 116.1400012 , 118.08000248,\n",
              "       122.85999972, 124.58000132, 130.00000169, 127.24999954,\n",
              "       128.49999978, 123.73999847, 129.36999652, 126.45999864,\n",
              "       128.3000041 , 125.61000187, 117.58999712, 119.37000266,\n",
              "       108.00000065, 106.20999714, 107.20999976, 102.83000195,\n",
              "       106.47000081, 108.09999647, 116.91000212, 119.14000097,\n",
              "       119.09999699, 116.78000029, 115.58999592, 113.37000312,\n",
              "       117.87000076, 116.0000014 , 116.26000103, 120.87000457,\n",
              "       123.51000082, 124.04000208, 121.4000018 , 121.44000174,\n",
              "       116.99999998, 118.84999936, 122.84999772, 124.91999679,\n",
              "       127.72000089, 132.8899996 ])"
            ]
          },
          "execution_count": 34,
          "metadata": {},
          "output_type": "execute_result"
        }
      ],
      "source": [
        "dummies = np.zeros((X_test.shape[0], lookback + 1))\n",
        "dummies[:, 0] = y_test.flatten()\n",
        "dummies = scaler.inverse_transform(dummies)\n",
        "\n",
        "new_y_test = dc(dummies[:, 0])\n",
        "new_y_test"
      ]
    },
    {
      "cell_type": "code",
      "execution_count": 35,
      "id": "PhLmIlHOsSK4",
      "metadata": {
        "colab": {
          "base_uri": "https://localhost:8080/",
          "height": 449
        },
        "id": "PhLmIlHOsSK4",
        "outputId": "09c21535-ea22-4d65-bc50-b159bd4dc135"
      },
      "outputs": [
        {
          "data": {
            "image/png": "[encoded data removed]",
            "text/plain": [
              "<Figure size 640x480 with 1 Axes>"
            ]
          },
          "metadata": {},
          "output_type": "display_data"
        }
      ],
      "source": [
        "plt.plot(new_y_test, label=\"Actual Price\")\n",
        "plt.plot(test_predictions, label=\"Predicted Price\")\n",
        "plt.xlabel(\"Day\")\n",
        "plt.ylabel(\"Price\")\n",
        "plt.legend()\n",
        "plt.show()\n"
      ]
    },
    {
      "cell_type": "code",
      "execution_count": 36,
      "id": "c9521f1e",
      "metadata": {},
      "outputs": [],
      "source": [
        "torch.save(model.state_dict(), \"share_price_model.pth\")"
      ]
    }
  ],
  "metadata": {
    "colab": {
      "gpuType": "T4",
      "provenance": []
    },
    "gpuClass": "standard",
    "kernelspec": {
      "display_name": ".venv",
      "language": "python",
      "name": "python3"
    },
    "language_info": {
      "codemirror_mode": {
        "name": "ipython",
        "version": 3
      },
      "file_extension": ".py",
      "mimetype": "text/x-python",
      "name": "python",
      "nbconvert_exporter": "python",
      "pygments_lexer": "ipython3",
      "version": "3.12.3"
    }
  },
  "nbformat": 4,
  "nbformat_minor": 5
}
