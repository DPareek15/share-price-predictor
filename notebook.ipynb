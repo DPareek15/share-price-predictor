{
  "cells": [
    {
      "cell_type": "code",
      "execution_count": 31,
      "id": "2a4fdd0f",
      "metadata": {
        "colab": {
          "base_uri": "https://localhost:8080/",
          "height": 423
        },
        "id": "2a4fdd0f",
        "outputId": "d758fb02-8b42-4705-d4bd-bcaa6df69ea7"
      },
      "outputs": [
        {
          "data": {
            "text/html": [
              "<div>\n",
              "<style scoped>\n",
              "    .dataframe tbody tr th:only-of-type {\n",
              "        vertical-align: middle;\n",
              "    }\n",
              "\n",
              "    .dataframe tbody tr th {\n",
              "        vertical-align: top;\n",
              "    }\n",
              "\n",
              "    .dataframe thead th {\n",
              "        text-align: right;\n",
              "    }\n",
              "</style>\n",
              "<table border=\"1\" class=\"dataframe\">\n",
              "  <thead>\n",
              "    <tr style=\"text-align: right;\">\n",
              "      <th></th>\n",
              "      <th>Date</th>\n",
              "      <th>Price</th>\n",
              "      <th>Open</th>\n",
              "      <th>High</th>\n",
              "      <th>Low</th>\n",
              "      <th>Vol.</th>\n",
              "      <th>Change %</th>\n",
              "    </tr>\n",
              "  </thead>\n",
              "  <tbody>\n",
              "    <tr>\n",
              "      <th>0</th>\n",
              "      <td>30-11-2018</td>\n",
              "      <td>4.09</td>\n",
              "      <td>3.94</td>\n",
              "      <td>4.10</td>\n",
              "      <td>3.89</td>\n",
              "      <td>729.56M</td>\n",
              "      <td>4.07%</td>\n",
              "    </tr>\n",
              "    <tr>\n",
              "      <th>1</th>\n",
              "      <td>29-11-2018</td>\n",
              "      <td>3.93</td>\n",
              "      <td>4.00</td>\n",
              "      <td>4.04</td>\n",
              "      <td>3.90</td>\n",
              "      <td>549.17M</td>\n",
              "      <td>-1.75%</td>\n",
              "    </tr>\n",
              "    <tr>\n",
              "      <th>2</th>\n",
              "      <td>28-11-2018</td>\n",
              "      <td>4.00</td>\n",
              "      <td>3.96</td>\n",
              "      <td>4.01</td>\n",
              "      <td>3.83</td>\n",
              "      <td>804.53M</td>\n",
              "      <td>4.17%</td>\n",
              "    </tr>\n",
              "    <tr>\n",
              "      <th>3</th>\n",
              "      <td>27-11-2018</td>\n",
              "      <td>3.84</td>\n",
              "      <td>3.80</td>\n",
              "      <td>3.93</td>\n",
              "      <td>3.76</td>\n",
              "      <td>738.06M</td>\n",
              "      <td>0.26%</td>\n",
              "    </tr>\n",
              "    <tr>\n",
              "      <th>4</th>\n",
              "      <td>26-11-2018</td>\n",
              "      <td>3.83</td>\n",
              "      <td>3.75</td>\n",
              "      <td>3.84</td>\n",
              "      <td>3.66</td>\n",
              "      <td>814.83M</td>\n",
              "      <td>5.80%</td>\n",
              "    </tr>\n",
              "    <tr>\n",
              "      <th>...</th>\n",
              "      <td>...</td>\n",
              "      <td>...</td>\n",
              "      <td>...</td>\n",
              "      <td>...</td>\n",
              "      <td>...</td>\n",
              "      <td>...</td>\n",
              "      <td>...</td>\n",
              "    </tr>\n",
              "    <tr>\n",
              "      <th>4994</th>\n",
              "      <td>29-01-1999</td>\n",
              "      <td>0.04</td>\n",
              "      <td>0.04</td>\n",
              "      <td>0.04</td>\n",
              "      <td>0.04</td>\n",
              "      <td>244.03M</td>\n",
              "      <td>0.00%</td>\n",
              "    </tr>\n",
              "    <tr>\n",
              "      <th>4995</th>\n",
              "      <td>28-01-1999</td>\n",
              "      <td>0.04</td>\n",
              "      <td>0.04</td>\n",
              "      <td>0.04</td>\n",
              "      <td>0.04</td>\n",
              "      <td>227.52M</td>\n",
              "      <td>0.00%</td>\n",
              "    </tr>\n",
              "    <tr>\n",
              "      <th>4996</th>\n",
              "      <td>27-01-1999</td>\n",
              "      <td>0.04</td>\n",
              "      <td>0.04</td>\n",
              "      <td>0.04</td>\n",
              "      <td>0.04</td>\n",
              "      <td>244.37M</td>\n",
              "      <td>0.00%</td>\n",
              "    </tr>\n",
              "    <tr>\n",
              "      <th>4997</th>\n",
              "      <td>26-01-1999</td>\n",
              "      <td>0.04</td>\n",
              "      <td>0.05</td>\n",
              "      <td>0.05</td>\n",
              "      <td>0.04</td>\n",
              "      <td>343.20M</td>\n",
              "      <td>-20.00%</td>\n",
              "    </tr>\n",
              "    <tr>\n",
              "      <th>4998</th>\n",
              "      <td>25-01-1999</td>\n",
              "      <td>0.05</td>\n",
              "      <td>0.04</td>\n",
              "      <td>0.05</td>\n",
              "      <td>0.04</td>\n",
              "      <td>510.48M</td>\n",
              "      <td>25.00%</td>\n",
              "    </tr>\n",
              "  </tbody>\n",
              "</table>\n",
              "<p>4999 rows × 7 columns</p>\n",
              "</div>"
            ],
            "text/plain": [
              "            Date  Price  Open  High   Low     Vol. Change %\n",
              "0     30-11-2018   4.09  3.94  4.10  3.89  729.56M    4.07%\n",
              "1     29-11-2018   3.93  4.00  4.04  3.90  549.17M   -1.75%\n",
              "2     28-11-2018   4.00  3.96  4.01  3.83  804.53M    4.17%\n",
              "3     27-11-2018   3.84  3.80  3.93  3.76  738.06M    0.26%\n",
              "4     26-11-2018   3.83  3.75  3.84  3.66  814.83M    5.80%\n",
              "...          ...    ...   ...   ...   ...      ...      ...\n",
              "4994  29-01-1999   0.04  0.04  0.04  0.04  244.03M    0.00%\n",
              "4995  28-01-1999   0.04  0.04  0.04  0.04  227.52M    0.00%\n",
              "4996  27-01-1999   0.04  0.04  0.04  0.04  244.37M    0.00%\n",
              "4997  26-01-1999   0.04  0.05  0.05  0.04  343.20M  -20.00%\n",
              "4998  25-01-1999   0.05  0.04  0.05  0.04  510.48M   25.00%\n",
              "\n",
              "[4999 rows x 7 columns]"
            ]
          },
          "execution_count": 31,
          "metadata": {},
          "output_type": "execute_result"
        }
      ],
      "source": [
        "import matplotlib.pyplot as plt\n",
        "import numpy as np\n",
        "import pandas as pd\n",
        "import torch\n",
        "import torch.nn as nn\n",
        "\n",
        "data = pd.read_csv(\"NVDA.csv\")\n",
        "\n",
        "data"
      ]
    },
    {
      "cell_type": "code",
      "execution_count": 32,
      "id": "WtCP8-cDbg9R",
      "metadata": {
        "colab": {
          "base_uri": "https://localhost:8080/",
          "height": 423
        },
        "id": "WtCP8-cDbg9R",
        "outputId": "1a923823-8c15-4765-c9c9-19a233dc8131"
      },
      "outputs": [
        {
          "data": {
            "text/html": [
              "<div>\n",
              "<style scoped>\n",
              "    .dataframe tbody tr th:only-of-type {\n",
              "        vertical-align: middle;\n",
              "    }\n",
              "\n",
              "    .dataframe tbody tr th {\n",
              "        vertical-align: top;\n",
              "    }\n",
              "\n",
              "    .dataframe thead th {\n",
              "        text-align: right;\n",
              "    }\n",
              "</style>\n",
              "<table border=\"1\" class=\"dataframe\">\n",
              "  <thead>\n",
              "    <tr style=\"text-align: right;\">\n",
              "      <th></th>\n",
              "      <th>Date</th>\n",
              "      <th>Price</th>\n",
              "    </tr>\n",
              "  </thead>\n",
              "  <tbody>\n",
              "    <tr>\n",
              "      <th>0</th>\n",
              "      <td>30-11-2018</td>\n",
              "      <td>4.09</td>\n",
              "    </tr>\n",
              "    <tr>\n",
              "      <th>1</th>\n",
              "      <td>29-11-2018</td>\n",
              "      <td>3.93</td>\n",
              "    </tr>\n",
              "    <tr>\n",
              "      <th>2</th>\n",
              "      <td>28-11-2018</td>\n",
              "      <td>4.00</td>\n",
              "    </tr>\n",
              "    <tr>\n",
              "      <th>3</th>\n",
              "      <td>27-11-2018</td>\n",
              "      <td>3.84</td>\n",
              "    </tr>\n",
              "    <tr>\n",
              "      <th>4</th>\n",
              "      <td>26-11-2018</td>\n",
              "      <td>3.83</td>\n",
              "    </tr>\n",
              "    <tr>\n",
              "      <th>...</th>\n",
              "      <td>...</td>\n",
              "      <td>...</td>\n",
              "    </tr>\n",
              "    <tr>\n",
              "      <th>4994</th>\n",
              "      <td>29-01-1999</td>\n",
              "      <td>0.04</td>\n",
              "    </tr>\n",
              "    <tr>\n",
              "      <th>4995</th>\n",
              "      <td>28-01-1999</td>\n",
              "      <td>0.04</td>\n",
              "    </tr>\n",
              "    <tr>\n",
              "      <th>4996</th>\n",
              "      <td>27-01-1999</td>\n",
              "      <td>0.04</td>\n",
              "    </tr>\n",
              "    <tr>\n",
              "      <th>4997</th>\n",
              "      <td>26-01-1999</td>\n",
              "      <td>0.04</td>\n",
              "    </tr>\n",
              "    <tr>\n",
              "      <th>4998</th>\n",
              "      <td>25-01-1999</td>\n",
              "      <td>0.05</td>\n",
              "    </tr>\n",
              "  </tbody>\n",
              "</table>\n",
              "<p>4999 rows × 2 columns</p>\n",
              "</div>"
            ],
            "text/plain": [
              "            Date  Price\n",
              "0     30-11-2018   4.09\n",
              "1     29-11-2018   3.93\n",
              "2     28-11-2018   4.00\n",
              "3     27-11-2018   3.84\n",
              "4     26-11-2018   3.83\n",
              "...          ...    ...\n",
              "4994  29-01-1999   0.04\n",
              "4995  28-01-1999   0.04\n",
              "4996  27-01-1999   0.04\n",
              "4997  26-01-1999   0.04\n",
              "4998  25-01-1999   0.05\n",
              "\n",
              "[4999 rows x 2 columns]"
            ]
          },
          "execution_count": 32,
          "metadata": {},
          "output_type": "execute_result"
        }
      ],
      "source": [
        "data = data[[\"Date\", \"Price\"]]\n",
        "data"
      ]
    },
    {
      "cell_type": "code",
      "execution_count": 33,
      "id": "9akB333XcFJ6",
      "metadata": {
        "colab": {
          "base_uri": "https://localhost:8080/",
          "height": 36
        },
        "id": "9akB333XcFJ6",
        "outputId": "2e8630de-1369-4281-d87c-9634ed90ba97"
      },
      "outputs": [
        {
          "data": {
            "text/plain": [
              "'cpu'"
            ]
          },
          "execution_count": 33,
          "metadata": {},
          "output_type": "execute_result"
        }
      ],
      "source": [
        "device = \"cuda:0\" if torch.cuda.is_available() else \"cpu\"\n",
        "device"
      ]
    },
    {
      "cell_type": "code",
      "execution_count": 34,
      "id": "tr2YuqKGcXcJ",
      "metadata": {
        "colab": {
          "base_uri": "https://localhost:8080/",
          "height": 551
        },
        "id": "tr2YuqKGcXcJ",
        "outputId": "bd197a93-bf7f-413c-fac0-5f4dc1a8471d"
      },
      "outputs": [
        {
          "name": "stderr",
          "output_type": "stream",
          "text": [
            "C:\\Users\\dushy\\AppData\\Local\\Temp\\ipykernel_2924\\1981509944.py:1: UserWarning: Parsing dates in %d-%m-%Y format when dayfirst=False (the default) was specified. Pass `dayfirst=True` or specify a format to silence this warning.\n",
            "  data[\"Date\"] = pd.to_datetime(data[\"Date\"])\n",
            "C:\\Users\\dushy\\AppData\\Local\\Temp\\ipykernel_2924\\1981509944.py:1: SettingWithCopyWarning: \n",
            "A value is trying to be set on a copy of a slice from a DataFrame.\n",
            "Try using .loc[row_indexer,col_indexer] = value instead\n",
            "\n",
            "See the caveats in the documentation: https://pandas.pydata.org/pandas-docs/stable/user_guide/indexing.html#returning-a-view-versus-a-copy\n",
            "  data[\"Date\"] = pd.to_datetime(data[\"Date\"])\n",
            "C:\\Users\\dushy\\AppData\\Local\\Temp\\ipykernel_2924\\1981509944.py:2: SettingWithCopyWarning: \n",
            "A value is trying to be set on a copy of a slice from a DataFrame\n",
            "\n",
            "See the caveats in the documentation: https://pandas.pydata.org/pandas-docs/stable/user_guide/indexing.html#returning-a-view-versus-a-copy\n",
            "  data.sort_values(\"Date\", inplace=True)\n"
          ]
        },
        {
          "data": {
            "text/plain": [
              "[<matplotlib.lines.Line2D at 0x16a25f47860>]"
            ]
          },
          "execution_count": 34,
          "metadata": {},
          "output_type": "execute_result"
        },
        {
          "data": {
            "image/png": "[encoded data removed]",
            "text/plain": [
              "<Figure size 640x480 with 1 Axes>"
            ]
          },
          "metadata": {},
          "output_type": "display_data"
        }
      ],
      "source": [
        "data[\"Date\"] = pd.to_datetime(data[\"Date\"])\n",
        "data.sort_values(\"Date\", inplace=True)\n",
        "plt.plot(data[\"Date\"], data[\"Price\"])"
      ]
    },
    {
      "cell_type": "code",
      "execution_count": 35,
      "id": "Q4ma6QCscwfB",
      "metadata": {
        "colab": {
          "base_uri": "https://localhost:8080/",
          "height": 455
        },
        "id": "Q4ma6QCscwfB",
        "outputId": "61bd4c08-c3f7-453d-ed92-c2232a18a5ba"
      },
      "outputs": [
        {
          "data": {
            "text/html": [
              "<div>\n",
              "<style scoped>\n",
              "    .dataframe tbody tr th:only-of-type {\n",
              "        vertical-align: middle;\n",
              "    }\n",
              "\n",
              "    .dataframe tbody tr th {\n",
              "        vertical-align: top;\n",
              "    }\n",
              "\n",
              "    .dataframe thead th {\n",
              "        text-align: right;\n",
              "    }\n",
              "</style>\n",
              "<table border=\"1\" class=\"dataframe\">\n",
              "  <thead>\n",
              "    <tr style=\"text-align: right;\">\n",
              "      <th></th>\n",
              "      <th>Price</th>\n",
              "      <th>Price(t-1)</th>\n",
              "      <th>Price(t-2)</th>\n",
              "      <th>Price(t-3)</th>\n",
              "      <th>Price(t-4)</th>\n",
              "      <th>Price(t-5)</th>\n",
              "      <th>Price(t-6)</th>\n",
              "      <th>Price(t-7)</th>\n",
              "      <th>Price(t-8)</th>\n",
              "      <th>Price(t-9)</th>\n",
              "      <th>...</th>\n",
              "      <th>Price(t-21)</th>\n",
              "      <th>Price(t-22)</th>\n",
              "      <th>Price(t-23)</th>\n",
              "      <th>Price(t-24)</th>\n",
              "      <th>Price(t-25)</th>\n",
              "      <th>Price(t-26)</th>\n",
              "      <th>Price(t-27)</th>\n",
              "      <th>Price(t-28)</th>\n",
              "      <th>Price(t-29)</th>\n",
              "      <th>Price(t-30)</th>\n",
              "    </tr>\n",
              "    <tr>\n",
              "      <th>Date</th>\n",
              "      <th></th>\n",
              "      <th></th>\n",
              "      <th></th>\n",
              "      <th></th>\n",
              "      <th></th>\n",
              "      <th></th>\n",
              "      <th></th>\n",
              "      <th></th>\n",
              "      <th></th>\n",
              "      <th></th>\n",
              "      <th></th>\n",
              "      <th></th>\n",
              "      <th></th>\n",
              "      <th></th>\n",
              "      <th></th>\n",
              "      <th></th>\n",
              "      <th></th>\n",
              "      <th></th>\n",
              "      <th></th>\n",
              "      <th></th>\n",
              "      <th></th>\n",
              "    </tr>\n",
              "  </thead>\n",
              "  <tbody>\n",
              "    <tr>\n",
              "      <th>1999-03-09</th>\n",
              "      <td>0.05</td>\n",
              "      <td>0.04</td>\n",
              "      <td>0.04</td>\n",
              "      <td>0.04</td>\n",
              "      <td>0.04</td>\n",
              "      <td>0.05</td>\n",
              "      <td>0.05</td>\n",
              "      <td>0.05</td>\n",
              "      <td>0.05</td>\n",
              "      <td>0.05</td>\n",
              "      <td>...</td>\n",
              "      <td>0.04</td>\n",
              "      <td>0.04</td>\n",
              "      <td>0.04</td>\n",
              "      <td>0.04</td>\n",
              "      <td>0.04</td>\n",
              "      <td>0.04</td>\n",
              "      <td>0.04</td>\n",
              "      <td>0.04</td>\n",
              "      <td>0.04</td>\n",
              "      <td>0.05</td>\n",
              "    </tr>\n",
              "    <tr>\n",
              "      <th>1999-03-10</th>\n",
              "      <td>0.05</td>\n",
              "      <td>0.05</td>\n",
              "      <td>0.04</td>\n",
              "      <td>0.04</td>\n",
              "      <td>0.04</td>\n",
              "      <td>0.04</td>\n",
              "      <td>0.05</td>\n",
              "      <td>0.05</td>\n",
              "      <td>0.05</td>\n",
              "      <td>0.05</td>\n",
              "      <td>...</td>\n",
              "      <td>0.04</td>\n",
              "      <td>0.04</td>\n",
              "      <td>0.04</td>\n",
              "      <td>0.04</td>\n",
              "      <td>0.04</td>\n",
              "      <td>0.04</td>\n",
              "      <td>0.04</td>\n",
              "      <td>0.04</td>\n",
              "      <td>0.04</td>\n",
              "      <td>0.04</td>\n",
              "    </tr>\n",
              "    <tr>\n",
              "      <th>1999-03-11</th>\n",
              "      <td>0.04</td>\n",
              "      <td>0.05</td>\n",
              "      <td>0.05</td>\n",
              "      <td>0.04</td>\n",
              "      <td>0.04</td>\n",
              "      <td>0.04</td>\n",
              "      <td>0.04</td>\n",
              "      <td>0.05</td>\n",
              "      <td>0.05</td>\n",
              "      <td>0.05</td>\n",
              "      <td>...</td>\n",
              "      <td>0.04</td>\n",
              "      <td>0.04</td>\n",
              "      <td>0.04</td>\n",
              "      <td>0.04</td>\n",
              "      <td>0.04</td>\n",
              "      <td>0.04</td>\n",
              "      <td>0.04</td>\n",
              "      <td>0.04</td>\n",
              "      <td>0.04</td>\n",
              "      <td>0.04</td>\n",
              "    </tr>\n",
              "    <tr>\n",
              "      <th>1999-03-12</th>\n",
              "      <td>0.04</td>\n",
              "      <td>0.04</td>\n",
              "      <td>0.05</td>\n",
              "      <td>0.05</td>\n",
              "      <td>0.04</td>\n",
              "      <td>0.04</td>\n",
              "      <td>0.04</td>\n",
              "      <td>0.04</td>\n",
              "      <td>0.05</td>\n",
              "      <td>0.05</td>\n",
              "      <td>...</td>\n",
              "      <td>0.04</td>\n",
              "      <td>0.04</td>\n",
              "      <td>0.04</td>\n",
              "      <td>0.04</td>\n",
              "      <td>0.04</td>\n",
              "      <td>0.04</td>\n",
              "      <td>0.04</td>\n",
              "      <td>0.04</td>\n",
              "      <td>0.04</td>\n",
              "      <td>0.04</td>\n",
              "    </tr>\n",
              "    <tr>\n",
              "      <th>1999-03-15</th>\n",
              "      <td>0.04</td>\n",
              "      <td>0.04</td>\n",
              "      <td>0.04</td>\n",
              "      <td>0.05</td>\n",
              "      <td>0.05</td>\n",
              "      <td>0.04</td>\n",
              "      <td>0.04</td>\n",
              "      <td>0.04</td>\n",
              "      <td>0.04</td>\n",
              "      <td>0.05</td>\n",
              "      <td>...</td>\n",
              "      <td>0.04</td>\n",
              "      <td>0.04</td>\n",
              "      <td>0.04</td>\n",
              "      <td>0.04</td>\n",
              "      <td>0.04</td>\n",
              "      <td>0.04</td>\n",
              "      <td>0.04</td>\n",
              "      <td>0.04</td>\n",
              "      <td>0.04</td>\n",
              "      <td>0.04</td>\n",
              "    </tr>\n",
              "    <tr>\n",
              "      <th>...</th>\n",
              "      <td>...</td>\n",
              "      <td>...</td>\n",
              "      <td>...</td>\n",
              "      <td>...</td>\n",
              "      <td>...</td>\n",
              "      <td>...</td>\n",
              "      <td>...</td>\n",
              "      <td>...</td>\n",
              "      <td>...</td>\n",
              "      <td>...</td>\n",
              "      <td>...</td>\n",
              "      <td>...</td>\n",
              "      <td>...</td>\n",
              "      <td>...</td>\n",
              "      <td>...</td>\n",
              "      <td>...</td>\n",
              "      <td>...</td>\n",
              "      <td>...</td>\n",
              "      <td>...</td>\n",
              "      <td>...</td>\n",
              "      <td>...</td>\n",
              "    </tr>\n",
              "    <tr>\n",
              "      <th>2018-11-26</th>\n",
              "      <td>3.83</td>\n",
              "      <td>3.62</td>\n",
              "      <td>3.62</td>\n",
              "      <td>3.73</td>\n",
              "      <td>3.62</td>\n",
              "      <td>4.11</td>\n",
              "      <td>5.06</td>\n",
              "      <td>4.93</td>\n",
              "      <td>4.98</td>\n",
              "      <td>4.74</td>\n",
              "      <td>...</td>\n",
              "      <td>5.20</td>\n",
              "      <td>4.99</td>\n",
              "      <td>5.53</td>\n",
              "      <td>5.78</td>\n",
              "      <td>5.73</td>\n",
              "      <td>5.99</td>\n",
              "      <td>6.08</td>\n",
              "      <td>6.15</td>\n",
              "      <td>5.88</td>\n",
              "      <td>6.16</td>\n",
              "    </tr>\n",
              "    <tr>\n",
              "      <th>2018-11-27</th>\n",
              "      <td>3.84</td>\n",
              "      <td>3.83</td>\n",
              "      <td>3.62</td>\n",
              "      <td>3.62</td>\n",
              "      <td>3.73</td>\n",
              "      <td>3.62</td>\n",
              "      <td>4.11</td>\n",
              "      <td>5.06</td>\n",
              "      <td>4.93</td>\n",
              "      <td>4.98</td>\n",
              "      <td>...</td>\n",
              "      <td>4.96</td>\n",
              "      <td>5.20</td>\n",
              "      <td>4.99</td>\n",
              "      <td>5.53</td>\n",
              "      <td>5.78</td>\n",
              "      <td>5.73</td>\n",
              "      <td>5.99</td>\n",
              "      <td>6.08</td>\n",
              "      <td>6.15</td>\n",
              "      <td>5.88</td>\n",
              "    </tr>\n",
              "    <tr>\n",
              "      <th>2018-11-28</th>\n",
              "      <td>4.00</td>\n",
              "      <td>3.84</td>\n",
              "      <td>3.83</td>\n",
              "      <td>3.62</td>\n",
              "      <td>3.62</td>\n",
              "      <td>3.73</td>\n",
              "      <td>3.62</td>\n",
              "      <td>4.11</td>\n",
              "      <td>5.06</td>\n",
              "      <td>4.93</td>\n",
              "      <td>...</td>\n",
              "      <td>4.64</td>\n",
              "      <td>4.96</td>\n",
              "      <td>5.20</td>\n",
              "      <td>4.99</td>\n",
              "      <td>5.53</td>\n",
              "      <td>5.78</td>\n",
              "      <td>5.73</td>\n",
              "      <td>5.99</td>\n",
              "      <td>6.08</td>\n",
              "      <td>6.15</td>\n",
              "    </tr>\n",
              "    <tr>\n",
              "      <th>2018-11-29</th>\n",
              "      <td>3.93</td>\n",
              "      <td>4.00</td>\n",
              "      <td>3.84</td>\n",
              "      <td>3.83</td>\n",
              "      <td>3.62</td>\n",
              "      <td>3.62</td>\n",
              "      <td>3.73</td>\n",
              "      <td>3.62</td>\n",
              "      <td>4.11</td>\n",
              "      <td>5.06</td>\n",
              "      <td>...</td>\n",
              "      <td>5.08</td>\n",
              "      <td>4.64</td>\n",
              "      <td>4.96</td>\n",
              "      <td>5.20</td>\n",
              "      <td>4.99</td>\n",
              "      <td>5.53</td>\n",
              "      <td>5.78</td>\n",
              "      <td>5.73</td>\n",
              "      <td>5.99</td>\n",
              "      <td>6.08</td>\n",
              "    </tr>\n",
              "    <tr>\n",
              "      <th>2018-11-30</th>\n",
              "      <td>4.09</td>\n",
              "      <td>3.93</td>\n",
              "      <td>4.00</td>\n",
              "      <td>3.84</td>\n",
              "      <td>3.83</td>\n",
              "      <td>3.62</td>\n",
              "      <td>3.62</td>\n",
              "      <td>3.73</td>\n",
              "      <td>3.62</td>\n",
              "      <td>4.11</td>\n",
              "      <td>...</td>\n",
              "      <td>5.27</td>\n",
              "      <td>5.08</td>\n",
              "      <td>4.64</td>\n",
              "      <td>4.96</td>\n",
              "      <td>5.20</td>\n",
              "      <td>4.99</td>\n",
              "      <td>5.53</td>\n",
              "      <td>5.78</td>\n",
              "      <td>5.73</td>\n",
              "      <td>5.99</td>\n",
              "    </tr>\n",
              "  </tbody>\n",
              "</table>\n",
              "<p>4969 rows × 31 columns</p>\n",
              "</div>"
            ],
            "text/plain": [
              "            Price  Price(t-1)  Price(t-2)  Price(t-3)  Price(t-4)  Price(t-5)  \\\n",
              "Date                                                                            \n",
              "1999-03-09   0.05        0.04        0.04        0.04        0.04        0.05   \n",
              "1999-03-10   0.05        0.05        0.04        0.04        0.04        0.04   \n",
              "1999-03-11   0.04        0.05        0.05        0.04        0.04        0.04   \n",
              "1999-03-12   0.04        0.04        0.05        0.05        0.04        0.04   \n",
              "1999-03-15   0.04        0.04        0.04        0.05        0.05        0.04   \n",
              "...           ...         ...         ...         ...         ...         ...   \n",
              "2018-11-26   3.83        3.62        3.62        3.73        3.62        4.11   \n",
              "2018-11-27   3.84        3.83        3.62        3.62        3.73        3.62   \n",
              "2018-11-28   4.00        3.84        3.83        3.62        3.62        3.73   \n",
              "2018-11-29   3.93        4.00        3.84        3.83        3.62        3.62   \n",
              "2018-11-30   4.09        3.93        4.00        3.84        3.83        3.62   \n",
              "\n",
              "            Price(t-6)  Price(t-7)  Price(t-8)  Price(t-9)  ...  Price(t-21)  \\\n",
              "Date                                                        ...                \n",
              "1999-03-09        0.05        0.05        0.05        0.05  ...         0.04   \n",
              "1999-03-10        0.05        0.05        0.05        0.05  ...         0.04   \n",
              "1999-03-11        0.04        0.05        0.05        0.05  ...         0.04   \n",
              "1999-03-12        0.04        0.04        0.05        0.05  ...         0.04   \n",
              "1999-03-15        0.04        0.04        0.04        0.05  ...         0.04   \n",
              "...                ...         ...         ...         ...  ...          ...   \n",
              "2018-11-26        5.06        4.93        4.98        4.74  ...         5.20   \n",
              "2018-11-27        4.11        5.06        4.93        4.98  ...         4.96   \n",
              "2018-11-28        3.62        4.11        5.06        4.93  ...         4.64   \n",
              "2018-11-29        3.73        3.62        4.11        5.06  ...         5.08   \n",
              "2018-11-30        3.62        3.73        3.62        4.11  ...         5.27   \n",
              "\n",
              "            Price(t-22)  Price(t-23)  Price(t-24)  Price(t-25)  Price(t-26)  \\\n",
              "Date                                                                          \n",
              "1999-03-09         0.04         0.04         0.04         0.04         0.04   \n",
              "1999-03-10         0.04         0.04         0.04         0.04         0.04   \n",
              "1999-03-11         0.04         0.04         0.04         0.04         0.04   \n",
              "1999-03-12         0.04         0.04         0.04         0.04         0.04   \n",
              "1999-03-15         0.04         0.04         0.04         0.04         0.04   \n",
              "...                 ...          ...          ...          ...          ...   \n",
              "2018-11-26         4.99         5.53         5.78         5.73         5.99   \n",
              "2018-11-27         5.20         4.99         5.53         5.78         5.73   \n",
              "2018-11-28         4.96         5.20         4.99         5.53         5.78   \n",
              "2018-11-29         4.64         4.96         5.20         4.99         5.53   \n",
              "2018-11-30         5.08         4.64         4.96         5.20         4.99   \n",
              "\n",
              "            Price(t-27)  Price(t-28)  Price(t-29)  Price(t-30)  \n",
              "Date                                                            \n",
              "1999-03-09         0.04         0.04         0.04         0.05  \n",
              "1999-03-10         0.04         0.04         0.04         0.04  \n",
              "1999-03-11         0.04         0.04         0.04         0.04  \n",
              "1999-03-12         0.04         0.04         0.04         0.04  \n",
              "1999-03-15         0.04         0.04         0.04         0.04  \n",
              "...                 ...          ...          ...          ...  \n",
              "2018-11-26         6.08         6.15         5.88         6.16  \n",
              "2018-11-27         5.99         6.08         6.15         5.88  \n",
              "2018-11-28         5.73         5.99         6.08         6.15  \n",
              "2018-11-29         5.78         5.73         5.99         6.08  \n",
              "2018-11-30         5.53         5.78         5.73         5.99  \n",
              "\n",
              "[4969 rows x 31 columns]"
            ]
          },
          "execution_count": 35,
          "metadata": {},
          "output_type": "execute_result"
        }
      ],
      "source": [
        "from copy import deepcopy as dc\n",
        "\n",
        "\n",
        "def prepare_dataframe_for_lstm(df, n_steps):\n",
        "    df = dc(df)\n",
        "\n",
        "    df.set_index(\"Date\", inplace=True)\n",
        "\n",
        "    for i in range(1, n_steps + 1):\n",
        "        df[f\"Price(t-{i})\"] = df[\"Price\"].shift(i)\n",
        "\n",
        "    df.dropna(inplace=True)\n",
        "\n",
        "    return df\n",
        "\n",
        "\n",
        "lookback = 30\n",
        "shifted_df = prepare_dataframe_for_lstm(data, lookback)\n",
        "shifted_df"
      ]
    },
    {
      "cell_type": "code",
      "execution_count": 36,
      "id": "yWcD1tHjfAU-",
      "metadata": {
        "colab": {
          "base_uri": "https://localhost:8080/"
        },
        "id": "yWcD1tHjfAU-",
        "outputId": "e10f8cdf-7b44-4c1a-d0a2-9007aac1685c"
      },
      "outputs": [
        {
          "data": {
            "text/plain": [
              "array([[0.05, 0.04, 0.04, ..., 0.04, 0.04, 0.05],\n",
              "       [0.05, 0.05, 0.04, ..., 0.04, 0.04, 0.04],\n",
              "       [0.04, 0.05, 0.05, ..., 0.04, 0.04, 0.04],\n",
              "       ...,\n",
              "       [4.  , 3.84, 3.83, ..., 5.99, 6.08, 6.15],\n",
              "       [3.93, 4.  , 3.84, ..., 5.73, 5.99, 6.08],\n",
              "       [4.09, 3.93, 4.  , ..., 5.78, 5.73, 5.99]])"
            ]
          },
          "execution_count": 36,
          "metadata": {},
          "output_type": "execute_result"
        }
      ],
      "source": [
        "shifted_df_as_np = shifted_df.to_numpy()\n",
        "\n",
        "shifted_df_as_np"
      ]
    },
    {
      "cell_type": "code",
      "execution_count": 37,
      "id": "Pq2p3opGELA_",
      "metadata": {
        "colab": {
          "base_uri": "https://localhost:8080/"
        },
        "id": "Pq2p3opGELA_",
        "outputId": "5cb2ff07-5d8f-4117-eafd-6a3c5663c6ff"
      },
      "outputs": [
        {
          "data": {
            "text/plain": [
              "(4969, 31)"
            ]
          },
          "execution_count": 37,
          "metadata": {},
          "output_type": "execute_result"
        }
      ],
      "source": [
        "shifted_df_as_np.shape"
      ]
    },
    {
      "cell_type": "code",
      "execution_count": 38,
      "id": "pXHkuFeafNUU",
      "metadata": {
        "colab": {
          "base_uri": "https://localhost:8080/"
        },
        "id": "pXHkuFeafNUU",
        "outputId": "a67d1f79-d279-4c96-e40f-0d9a5f9f7d7d"
      },
      "outputs": [
        {
          "data": {
            "text/plain": [
              "array([[-0.99873538, -0.99936769, -0.99936769, ..., -0.99936769,\n",
              "        -0.99936769, -0.99873538],\n",
              "       [-0.99873538, -0.99873538, -0.99936769, ..., -0.99936769,\n",
              "        -0.99936769, -0.99936769],\n",
              "       [-0.99936769, -0.99873538, -0.99873538, ..., -0.99936769,\n",
              "        -0.99936769, -0.99936769],\n",
              "       ...,\n",
              "       [-0.74897249, -0.75908947, -0.75972178, ..., -0.62314259,\n",
              "        -0.61745179, -0.61302561],\n",
              "       [-0.75339867, -0.74897249, -0.75908947, ..., -0.63958267,\n",
              "        -0.62314259, -0.61745179],\n",
              "       [-0.74328169, -0.75339867, -0.74897249, ..., -0.63642112,\n",
              "        -0.63958267, -0.62314259]])"
            ]
          },
          "execution_count": 38,
          "metadata": {},
          "output_type": "execute_result"
        }
      ],
      "source": [
        "from sklearn.preprocessing import MinMaxScaler\n",
        "\n",
        "scaler = MinMaxScaler(feature_range=(-1, 1))\n",
        "shifted_df_as_np = scaler.fit_transform(shifted_df_as_np)\n",
        "\n",
        "shifted_df_as_np"
      ]
    },
    {
      "cell_type": "code",
      "execution_count": 39,
      "id": "Iui9unuTfxOe",
      "metadata": {
        "colab": {
          "base_uri": "https://localhost:8080/"
        },
        "id": "Iui9unuTfxOe",
        "outputId": "642f093d-5071-43ef-fb9c-4c54061aec3e"
      },
      "outputs": [
        {
          "data": {
            "text/plain": [
              "((4969, 30), (4969,))"
            ]
          },
          "execution_count": 39,
          "metadata": {},
          "output_type": "execute_result"
        }
      ],
      "source": [
        "X = shifted_df_as_np[:, 1:]\n",
        "y = shifted_df_as_np[:, 0]\n",
        "\n",
        "X.shape, y.shape"
      ]
    },
    {
      "cell_type": "code",
      "execution_count": 40,
      "id": "XmbIqwj-E0cv",
      "metadata": {
        "colab": {
          "base_uri": "https://localhost:8080/"
        },
        "id": "XmbIqwj-E0cv",
        "outputId": "48ccc3a1-1b5c-49fd-ae2f-3f8b143fbb4c"
      },
      "outputs": [
        {
          "data": {
            "text/plain": [
              "array([[-0.99873538, -0.99936769, -0.99936769, ..., -0.99936769,\n",
              "        -0.99936769, -0.99936769],\n",
              "       [-0.99936769, -0.99936769, -0.99936769, ..., -0.99936769,\n",
              "        -0.99936769, -0.99873538],\n",
              "       [-0.99936769, -0.99936769, -0.99936769, ..., -0.99936769,\n",
              "        -0.99873538, -0.99873538],\n",
              "       ...,\n",
              "       [-0.61302561, -0.61745179, -0.62314259, ..., -0.77300032,\n",
              "        -0.75972178, -0.75908947],\n",
              "       [-0.61745179, -0.62314259, -0.63958267, ..., -0.75972178,\n",
              "        -0.75908947, -0.74897249],\n",
              "       [-0.62314259, -0.63958267, -0.63642112, ..., -0.75908947,\n",
              "        -0.74897249, -0.75339867]])"
            ]
          },
          "execution_count": 40,
          "metadata": {},
          "output_type": "execute_result"
        }
      ],
      "source": [
        "X = dc(np.flip(X, axis=1))\n",
        "X"
      ]
    },
    {
      "cell_type": "code",
      "execution_count": 41,
      "id": "GCHslawXgE21",
      "metadata": {
        "colab": {
          "base_uri": "https://localhost:8080/"
        },
        "id": "GCHslawXgE21",
        "outputId": "a2e50719-a1fb-460e-9ce4-9dd873642765"
      },
      "outputs": [
        {
          "data": {
            "text/plain": [
              "4720"
            ]
          },
          "execution_count": 41,
          "metadata": {},
          "output_type": "execute_result"
        }
      ],
      "source": [
        "split_index = int(len(X) * 0.95)\n",
        "\n",
        "split_index"
      ]
    },
    {
      "cell_type": "code",
      "execution_count": 42,
      "id": "hhGMh_nAgiST",
      "metadata": {
        "colab": {
          "base_uri": "https://localhost:8080/"
        },
        "id": "hhGMh_nAgiST",
        "outputId": "aeb231ef-e124-4821-f4ee-dbb2275c0f98"
      },
      "outputs": [
        {
          "data": {
            "text/plain": [
              "((4720, 30), (249, 30), (4720,), (249,))"
            ]
          },
          "execution_count": 42,
          "metadata": {},
          "output_type": "execute_result"
        }
      ],
      "source": [
        "X_train = X[:split_index]\n",
        "X_test = X[split_index:]\n",
        "\n",
        "y_train = y[:split_index]\n",
        "y_test = y[split_index:]\n",
        "\n",
        "X_train.shape, X_test.shape, y_train.shape, y_test.shape"
      ]
    },
    {
      "cell_type": "code",
      "execution_count": 43,
      "id": "Muqs9hKYhMUS",
      "metadata": {
        "colab": {
          "base_uri": "https://localhost:8080/"
        },
        "id": "Muqs9hKYhMUS",
        "outputId": "d35136a0-5855-4bfb-b66b-b8f7a1a8ea96"
      },
      "outputs": [
        {
          "data": {
            "text/plain": [
              "((4720, 30, 1), (249, 30, 1), (4720, 1), (249, 1))"
            ]
          },
          "execution_count": 43,
          "metadata": {},
          "output_type": "execute_result"
        }
      ],
      "source": [
        "X_train = X_train.reshape((-1, lookback, 1))\n",
        "X_test = X_test.reshape((-1, lookback, 1))\n",
        "\n",
        "y_train = y_train.reshape((-1, 1))\n",
        "y_test = y_test.reshape((-1, 1))\n",
        "\n",
        "X_train.shape, X_test.shape, y_train.shape, y_test.shape"
      ]
    },
    {
      "cell_type": "code",
      "execution_count": 44,
      "id": "i7-PBcrMhR7z",
      "metadata": {
        "colab": {
          "base_uri": "https://localhost:8080/"
        },
        "id": "i7-PBcrMhR7z",
        "outputId": "b01a297a-75d6-4573-e450-a3545360112e"
      },
      "outputs": [
        {
          "data": {
            "text/plain": [
              "(torch.Size([4720, 30, 1]),\n",
              " torch.Size([249, 30, 1]),\n",
              " torch.Size([4720, 1]),\n",
              " torch.Size([249, 1]))"
            ]
          },
          "execution_count": 44,
          "metadata": {},
          "output_type": "execute_result"
        }
      ],
      "source": [
        "X_train = torch.tensor(X_train).float()\n",
        "y_train = torch.tensor(y_train).float()\n",
        "X_test = torch.tensor(X_test).float()\n",
        "y_test = torch.tensor(y_test).float()\n",
        "\n",
        "X_train.shape, X_test.shape, y_train.shape, y_test.shape"
      ]
    },
    {
      "cell_type": "code",
      "execution_count": 45,
      "id": "DWutCAGKhdqU",
      "metadata": {
        "id": "DWutCAGKhdqU"
      },
      "outputs": [],
      "source": [
        "from torch.utils.data import Dataset\n",
        "\n",
        "\n",
        "class TimeSeriesDataset(Dataset):\n",
        "    def __init__(self, X, y):\n",
        "        self.X = X\n",
        "        self.y = y\n",
        "\n",
        "    def __len__(self):\n",
        "        return len(self.X)\n",
        "\n",
        "    def __getitem__(self, i):\n",
        "        return self.X[i], self.y[i]\n",
        "\n",
        "\n",
        "train_dataset = TimeSeriesDataset(X_train, y_train)\n",
        "test_dataset = TimeSeriesDataset(X_test, y_test)"
      ]
    },
    {
      "cell_type": "code",
      "execution_count": 46,
      "id": "12OWUTa5ijoq",
      "metadata": {
        "colab": {
          "base_uri": "https://localhost:8080/"
        },
        "id": "12OWUTa5ijoq",
        "outputId": "0928d3c2-d181-4035-cc57-a2ac6ce38075"
      },
      "outputs": [
        {
          "data": {
            "text/plain": [
              "<__main__.TimeSeriesDataset at 0x16a25f56db0>"
            ]
          },
          "execution_count": 46,
          "metadata": {},
          "output_type": "execute_result"
        }
      ],
      "source": [
        "train_dataset"
      ]
    },
    {
      "cell_type": "code",
      "execution_count": 47,
      "id": "XYsUmPl3ik46",
      "metadata": {
        "id": "XYsUmPl3ik46"
      },
      "outputs": [],
      "source": [
        "from torch.utils.data import DataLoader\n",
        "\n",
        "batch_size = 16\n",
        "\n",
        "train_loader = DataLoader(train_dataset, batch_size=batch_size, shuffle=True)\n",
        "test_loader = DataLoader(test_dataset, batch_size=batch_size, shuffle=False)"
      ]
    },
    {
      "cell_type": "code",
      "execution_count": 48,
      "id": "TJTnbgBDjOSK",
      "metadata": {
        "colab": {
          "base_uri": "https://localhost:8080/"
        },
        "id": "TJTnbgBDjOSK",
        "outputId": "51226616-d4de-4a22-f4d9-576fd3e8bfba"
      },
      "outputs": [
        {
          "name": "stdout",
          "output_type": "stream",
          "text": [
            "torch.Size([16, 30, 1]) torch.Size([16, 1])\n"
          ]
        }
      ],
      "source": [
        "for _, batch in enumerate(train_loader):\n",
        "    x_batch, y_batch = batch[0].to(device), batch[1].to(device)\n",
        "    print(x_batch.shape, y_batch.shape)\n",
        "    break"
      ]
    },
    {
      "cell_type": "code",
      "execution_count": 49,
      "id": "njdkq_kmjib5",
      "metadata": {
        "colab": {
          "base_uri": "https://localhost:8080/"
        },
        "id": "njdkq_kmjib5",
        "outputId": "db355c8d-cc21-43f5-cdfa-2156444b4531"
      },
      "outputs": [
        {
          "data": {
            "text/plain": [
              "LSTM(\n",
              "  (lstm): LSTM(1, 4, batch_first=True)\n",
              "  (fc): Linear(in_features=4, out_features=1, bias=True)\n",
              ")"
            ]
          },
          "execution_count": 49,
          "metadata": {},
          "output_type": "execute_result"
        }
      ],
      "source": [
        "class LSTM(nn.Module):\n",
        "    def __init__(self, input_size, hidden_size, num_stacked_layers):\n",
        "        super().__init__()\n",
        "        self.hidden_size = hidden_size\n",
        "        self.num_stacked_layers = num_stacked_layers\n",
        "\n",
        "        self.lstm = nn.LSTM(\n",
        "            input_size, hidden_size, num_stacked_layers, batch_first=True\n",
        "        )\n",
        "\n",
        "        self.fc = nn.Linear(hidden_size, 1)\n",
        "\n",
        "    def forward(self, x):\n",
        "        batch_size = x.size(0)\n",
        "        h0 = torch.zeros(self.num_stacked_layers, batch_size, self.hidden_size).to(\n",
        "            device\n",
        "        )\n",
        "        c0 = torch.zeros(self.num_stacked_layers, batch_size, self.hidden_size).to(\n",
        "            device\n",
        "        )\n",
        "\n",
        "        out, _ = self.lstm(x, (h0, c0))\n",
        "        out = self.fc(out[:, -1, :])\n",
        "        return out\n",
        "\n",
        "\n",
        "model = LSTM(1, 4, 1)\n",
        "model.to(device)\n",
        "model"
      ]
    },
    {
      "cell_type": "code",
      "execution_count": 50,
      "id": "iue5WvTxmVKB",
      "metadata": {
        "id": "iue5WvTxmVKB"
      },
      "outputs": [],
      "source": [
        "def train_one_epoch():\n",
        "    model.train(True)\n",
        "    print(f\"Epoch: {epoch + 1}\")\n",
        "    running_loss = 0.0\n",
        "\n",
        "    for batch_index, batch in enumerate(train_loader):\n",
        "        x_batch, y_batch = batch[0].to(device), batch[1].to(device)\n",
        "\n",
        "        output = model(x_batch)\n",
        "        loss = loss_function(output, y_batch)\n",
        "        running_loss += loss.item()\n",
        "\n",
        "        optimizer.zero_grad()\n",
        "        loss.backward()\n",
        "        optimizer.step()\n",
        "\n",
        "        if batch_index % 100 == 99:  # print every 100 batches\n",
        "            avg_loss_across_batches = running_loss / 100\n",
        "            print(\n",
        "                \"Batch {0}, Loss: {1:.3f}\".format(\n",
        "                    batch_index + 1, avg_loss_across_batches\n",
        "                )\n",
        "            )\n",
        "            running_loss = 0.0\n",
        "    print()"
      ]
    },
    {
      "cell_type": "code",
      "execution_count": 51,
      "id": "gRmNuV3cmy-t",
      "metadata": {
        "id": "gRmNuV3cmy-t"
      },
      "outputs": [],
      "source": [
        "def validate_one_epoch():\n",
        "    model.train(False)\n",
        "    running_loss = 0.0\n",
        "\n",
        "    for batch_index, batch in enumerate(test_loader):\n",
        "        x_batch, y_batch = batch[0].to(device), batch[1].to(device)\n",
        "\n",
        "        with torch.no_grad():\n",
        "            output = model(x_batch)\n",
        "            loss = loss_function(output, y_batch)\n",
        "            running_loss += loss.item()\n",
        "\n",
        "    avg_loss_across_batches = running_loss / len(test_loader)\n",
        "\n",
        "    print(\"Val Loss: {0:.3f}\".format(avg_loss_across_batches))\n",
        "    print(\"***************************************************\")\n",
        "    print()"
      ]
    },
    {
      "cell_type": "code",
      "execution_count": 52,
      "id": "1jgb1aJ3lxlQ",
      "metadata": {
        "colab": {
          "base_uri": "https://localhost:8080/"
        },
        "id": "1jgb1aJ3lxlQ",
        "outputId": "2a25db36-4872-44e4-feca-4d26bad49f96"
      },
      "outputs": [
        {
          "name": "stdout",
          "output_type": "stream",
          "text": [
            "Epoch: 1\n",
            "Batch 100, Loss: 0.226\n",
            "Batch 200, Loss: 0.018\n",
            "\n",
            "Val Loss: 0.091\n",
            "***************************************************\n",
            "\n",
            "Epoch: 2\n",
            "Batch 100, Loss: 0.002\n",
            "Batch 200, Loss: 0.005\n",
            "\n",
            "Val Loss: 0.090\n",
            "***************************************************\n",
            "\n",
            "Epoch: 3\n",
            "Batch 100, Loss: 0.002\n",
            "Batch 200, Loss: 0.004\n",
            "\n",
            "Val Loss: 0.087\n",
            "***************************************************\n",
            "\n",
            "Epoch: 4\n",
            "Batch 100, Loss: 0.002\n",
            "Batch 200, Loss: 0.004\n",
            "\n",
            "Val Loss: 0.076\n",
            "***************************************************\n",
            "\n",
            "Epoch: 5\n",
            "Batch 100, Loss: 0.002\n",
            "Batch 200, Loss: 0.001\n",
            "\n",
            "Val Loss: 0.011\n",
            "***************************************************\n",
            "\n",
            "Epoch: 6\n",
            "Batch 100, Loss: 0.000\n",
            "Batch 200, Loss: 0.003\n",
            "\n",
            "Val Loss: 0.008\n",
            "***************************************************\n",
            "\n",
            "Epoch: 7\n",
            "Batch 100, Loss: 0.000\n",
            "Batch 200, Loss: 0.003\n",
            "\n",
            "Val Loss: 0.006\n",
            "***************************************************\n",
            "\n",
            "Epoch: 8\n",
            "Batch 100, Loss: 0.003\n",
            "Batch 200, Loss: 0.000\n",
            "\n",
            "Val Loss: 0.005\n",
            "***************************************************\n",
            "\n",
            "Epoch: 9\n",
            "Batch 100, Loss: 0.003\n",
            "Batch 200, Loss: 0.000\n",
            "\n",
            "Val Loss: 0.005\n",
            "***************************************************\n",
            "\n",
            "Epoch: 10\n",
            "Batch 100, Loss: 0.000\n",
            "Batch 200, Loss: 0.000\n",
            "\n",
            "Val Loss: 0.004\n",
            "***************************************************\n",
            "\n",
            "Epoch: 11\n",
            "Batch 100, Loss: 0.003\n",
            "Batch 200, Loss: 0.000\n",
            "\n",
            "Val Loss: 0.004\n",
            "***************************************************\n",
            "\n",
            "Epoch: 12\n",
            "Batch 100, Loss: 0.000\n",
            "Batch 200, Loss: 0.000\n",
            "\n",
            "Val Loss: 0.003\n",
            "***************************************************\n",
            "\n",
            "Epoch: 13\n",
            "Batch 100, Loss: 0.000\n",
            "Batch 200, Loss: 0.000\n",
            "\n",
            "Val Loss: 0.003\n",
            "***************************************************\n",
            "\n",
            "Epoch: 14\n",
            "Batch 100, Loss: 0.000\n",
            "Batch 200, Loss: 0.000\n",
            "\n",
            "Val Loss: 0.003\n",
            "***************************************************\n",
            "\n",
            "Epoch: 15\n",
            "Batch 100, Loss: 0.003\n",
            "Batch 200, Loss: 0.000\n",
            "\n",
            "Val Loss: 0.003\n",
            "***************************************************\n",
            "\n",
            "Epoch: 16\n",
            "Batch 100, Loss: 0.003\n",
            "Batch 200, Loss: 0.000\n",
            "\n",
            "Val Loss: 0.003\n",
            "***************************************************\n",
            "\n",
            "Epoch: 17\n",
            "Batch 100, Loss: 0.000\n",
            "Batch 200, Loss: 0.003\n",
            "\n",
            "Val Loss: 0.003\n",
            "***************************************************\n",
            "\n",
            "Epoch: 18\n",
            "Batch 100, Loss: 0.000\n",
            "Batch 200, Loss: 0.000\n",
            "\n",
            "Val Loss: 0.003\n",
            "***************************************************\n",
            "\n",
            "Epoch: 19\n",
            "Batch 100, Loss: 0.000\n",
            "Batch 200, Loss: 0.000\n",
            "\n",
            "Val Loss: 0.002\n",
            "***************************************************\n",
            "\n",
            "Epoch: 20\n",
            "Batch 100, Loss: 0.000\n",
            "Batch 200, Loss: 0.003\n",
            "\n",
            "Val Loss: 0.002\n",
            "***************************************************\n",
            "\n",
            "Epoch: 21\n",
            "Batch 100, Loss: 0.000\n",
            "Batch 200, Loss: 0.003\n",
            "\n",
            "Val Loss: 0.002\n",
            "***************************************************\n",
            "\n",
            "Epoch: 22\n",
            "Batch 100, Loss: 0.000\n",
            "Batch 200, Loss: 0.000\n",
            "\n",
            "Val Loss: 0.003\n",
            "***************************************************\n",
            "\n",
            "Epoch: 23\n",
            "Batch 100, Loss: 0.003\n",
            "Batch 200, Loss: 0.000\n",
            "\n",
            "Val Loss: 0.003\n",
            "***************************************************\n",
            "\n",
            "Epoch: 24\n",
            "Batch 100, Loss: 0.003\n",
            "Batch 200, Loss: 0.000\n",
            "\n",
            "Val Loss: 0.002\n",
            "***************************************************\n",
            "\n",
            "Epoch: 25\n",
            "Batch 100, Loss: 0.000\n",
            "Batch 200, Loss: 0.000\n",
            "\n",
            "Val Loss: 0.002\n",
            "***************************************************\n",
            "\n",
            "Epoch: 26\n",
            "Batch 100, Loss: 0.000\n",
            "Batch 200, Loss: 0.000\n",
            "\n",
            "Val Loss: 0.002\n",
            "***************************************************\n",
            "\n",
            "Epoch: 27\n",
            "Batch 100, Loss: 0.000\n",
            "Batch 200, Loss: 0.003\n",
            "\n",
            "Val Loss: 0.002\n",
            "***************************************************\n",
            "\n",
            "Epoch: 28\n",
            "Batch 100, Loss: 0.000\n",
            "Batch 200, Loss: 0.003\n",
            "\n",
            "Val Loss: 0.002\n",
            "***************************************************\n",
            "\n",
            "Epoch: 29\n",
            "Batch 100, Loss: 0.000\n",
            "Batch 200, Loss: 0.003\n",
            "\n",
            "Val Loss: 0.002\n",
            "***************************************************\n",
            "\n",
            "Epoch: 30\n",
            "Batch 100, Loss: 0.003\n",
            "Batch 200, Loss: 0.000\n",
            "\n",
            "Val Loss: 0.002\n",
            "***************************************************\n",
            "\n"
          ]
        }
      ],
      "source": [
        "learning_rate = 0.001\n",
        "num_epochs = 30\n",
        "loss_function = nn.MSELoss()\n",
        "optimizer = torch.optim.Adam(model.parameters(), lr=learning_rate)\n",
        "\n",
        "for epoch in range(num_epochs):\n",
        "    train_one_epoch()\n",
        "    validate_one_epoch()"
      ]
    },
    {
      "cell_type": "code",
      "execution_count": 53,
      "id": "-Xon2PHWno7t",
      "metadata": {
        "colab": {
          "base_uri": "https://localhost:8080/",
          "height": 449
        },
        "id": "-Xon2PHWno7t",
        "outputId": "862b1d87-3e42-4fe1-8618-3cf0720e0da5"
      },
      "outputs": [
        {
          "data": {
            "image/png": "[encoded data removed]",
            "text/plain": [
              "<Figure size 640x480 with 1 Axes>"
            ]
          },
          "metadata": {},
          "output_type": "display_data"
        }
      ],
      "source": [
        "with torch.no_grad():\n",
        "    predicted = model(X_train.to(device)).to(\"cpu\").numpy()\n",
        "\n",
        "plt.plot(y_train, label=\"Actual Price\")\n",
        "plt.plot(predicted, label=\"Predicted Price\")\n",
        "plt.xlabel(\"Day\")\n",
        "plt.ylabel(\"Price\")\n",
        "plt.legend()\n",
        "plt.show()\n"
      ]
    },
    {
      "cell_type": "code",
      "execution_count": 54,
      "id": "d3SDgEvPpOcD",
      "metadata": {
        "colab": {
          "base_uri": "https://localhost:8080/"
        },
        "id": "d3SDgEvPpOcD",
        "outputId": "e9b8491e-b15e-4aa5-ae97-6619bb4a3be9"
      },
      "outputs": [
        {
          "data": {
            "text/plain": [
              "array([0.13090287, 0.13158252, 0.13195863, ..., 4.98403846, 4.96379417,\n",
              "       4.92660295])"
            ]
          },
          "execution_count": 54,
          "metadata": {},
          "output_type": "execute_result"
        }
      ],
      "source": [
        "train_predictions = predicted.flatten()\n",
        "\n",
        "dummies = np.zeros((X_train.shape[0], lookback + 1))\n",
        "dummies[:, 0] = train_predictions\n",
        "dummies = scaler.inverse_transform(dummies)\n",
        "\n",
        "train_predictions = dc(dummies[:, 0])\n",
        "train_predictions"
      ]
    },
    {
      "cell_type": "code",
      "execution_count": 55,
      "id": "PHnvejOdrL7Q",
      "metadata": {
        "colab": {
          "base_uri": "https://localhost:8080/"
        },
        "id": "PHnvejOdrL7Q",
        "outputId": "952cb861-3f21-42d2-f1b2-9e489c9cdcd7"
      },
      "outputs": [
        {
          "name": "stderr",
          "output_type": "stream",
          "text": [
            "C:\\Users\\dushy\\AppData\\Local\\Temp\\ipykernel_2924\\3558067691.py:2: DeprecationWarning: __array__ implementation doesn't accept a copy keyword, so passing copy=False failed. __array__ must implement 'dtype' and 'copy' keyword arguments.\n",
            "  dummies[:, 0] = y_train.flatten()\n"
          ]
        },
        {
          "data": {
            "text/plain": [
              "array([0.05000015, 0.05000015, 0.0399996 , ..., 4.93999986, 4.67000018,\n",
              "       4.69000033])"
            ]
          },
          "execution_count": 55,
          "metadata": {},
          "output_type": "execute_result"
        }
      ],
      "source": [
        "dummies = np.zeros((X_train.shape[0], lookback + 1))\n",
        "dummies[:, 0] = y_train.flatten()\n",
        "dummies = scaler.inverse_transform(dummies)\n",
        "\n",
        "new_y_train = dc(dummies[:, 0])\n",
        "new_y_train"
      ]
    },
    {
      "cell_type": "code",
      "execution_count": 56,
      "id": "2LlDAUtyrcrN",
      "metadata": {
        "colab": {
          "base_uri": "https://localhost:8080/",
          "height": 449
        },
        "id": "2LlDAUtyrcrN",
        "outputId": "819c2ff2-be0d-4781-d164-915936251f66"
      },
      "outputs": [
        {
          "data": {
            "image/png": "[encoded data removed]",
            "text/plain": [
              "<Figure size 640x480 with 1 Axes>"
            ]
          },
          "metadata": {},
          "output_type": "display_data"
        }
      ],
      "source": [
        "plt.plot(new_y_train, label=\"Actual Price\")\n",
        "plt.plot(train_predictions, label=\"Predicted Price\")\n",
        "plt.xlabel(\"Day\")\n",
        "plt.ylabel(\"Price\")\n",
        "plt.legend()\n",
        "plt.show()\n"
      ]
    },
    {
      "cell_type": "code",
      "execution_count": 57,
      "id": "yYeC2JMorftR",
      "metadata": {
        "colab": {
          "base_uri": "https://localhost:8080/"
        },
        "id": "yYeC2JMorftR",
        "outputId": "94df7137-866f-42aa-cb02-5a78961f6779"
      },
      "outputs": [
        {
          "data": {
            "text/plain": [
              "array([4.89679079, 4.87121487, 4.85259947, 4.83459114, 4.82494691,\n",
              "       4.80857595, 4.78681116, 4.7692421 , 4.76251631, 4.76687794,\n",
              "       4.76611628, 4.76870008, 4.76984728, 4.7699981 , 4.77461425,\n",
              "       4.77735924, 4.78013251, 4.77606498, 4.78368063, 4.81297152,\n",
              "       4.83811852, 4.86493779, 4.90191313, 4.93350031, 4.96554372,\n",
              "       4.99471866, 5.01883064, 5.03531094, 5.0588677 , 5.07722671,\n",
              "       5.10335878, 5.13099532, 5.16379474, 5.18616847, 5.20864402,\n",
              "       5.23974101, 5.27123109, 5.29141412, 5.3151283 , 5.32580096,\n",
              "       5.32488282, 5.29115772, 5.28508236, 5.27928319, 5.25424553,\n",
              "       5.25980809, 5.25349424, 5.2584092 , 5.27675312, 5.29938797,\n",
              "       5.31527724, 5.33970689, 5.34709159, 5.35665286, 5.37086516,\n",
              "       5.382488  , 5.39196632, 5.3936744 , 5.3799306 , 5.376193  ,\n",
              "       5.36910618, 5.3734499 , 5.37549167, 5.3766417 , 5.38485593,\n",
              "       5.39841874, 5.4063087 , 5.41641766, 5.42567257, 5.4358032 ,\n",
              "       5.42926028, 5.43985376, 5.44389583, 5.43747074, 5.41829824,\n",
              "       5.42194345, 5.38992172, 5.35944216, 5.34919464, 5.31910062,\n",
              "       5.30255527, 5.28846929, 5.26741337, 5.23899349, 5.21729941,\n",
              "       5.21843341, 5.21374468, 5.2261339 , 5.23033433, 5.23617592,\n",
              "       5.25193039, 5.26226652, 5.26003056, 5.25927078, 5.24958602,\n",
              "       5.23680749, 5.21780561, 5.21571199, 5.21308483, 5.20837725,\n",
              "       5.20941793, 5.20843004, 5.21921769, 5.23837229, 5.27095207,\n",
              "       5.30071993, 5.3369044 , 5.37532011, 5.39884765, 5.42279655,\n",
              "       5.42689612, 5.43299977, 5.43939469, 5.44109805, 5.43988958,\n",
              "       5.43598796, 5.44044857, 5.44270998, 5.44769093, 5.45050567,\n",
              "       5.46059577, 5.46707176, 5.48262733, 5.50666295, 5.5269968 ,\n",
              "       5.54546044, 5.55794769, 5.56861846, 5.57494268, 5.58295895,\n",
              "       5.58897776, 5.60101725, 5.60756394, 5.61382312, 5.61077459,\n",
              "       5.61304637, 5.60547032, 5.58979315, 5.55854721, 5.53749129,\n",
              "       5.50660828, 5.48918344, 5.46564553, 5.45569023, 5.43659031,\n",
              "       5.43194117, 5.43371524, 5.43833515, 5.44946216, 5.44972705,\n",
              "       5.45799878, 5.46079561, 5.46255176, 5.47257682, 5.47654537,\n",
              "       5.48153386, 5.48376039, 5.48396777, 5.48291766, 5.48711904,\n",
              "       5.49432275, 5.49551332, 5.48457107, 5.47809602, 5.47396817,\n",
              "       5.4768225 , 5.48034046, 5.48700875, 5.49742312, 5.50879616,\n",
              "       5.51554269, 5.51957534, 5.52530852, 5.53870542, 5.54502399,\n",
              "       5.5489077 , 5.53187312, 5.52491544, 5.52495408, 5.53895617,\n",
              "       5.55565234, 5.57939292, 5.60526859, 5.62503496, 5.64949667,\n",
              "       5.66888692, 5.69022846, 5.71207903, 5.72198908, 5.72306464,\n",
              "       5.72338232, 5.7271727 , 5.72602173, 5.71853428, 5.71717027,\n",
              "       5.72283935, 5.72277619, 5.71947127, 5.71855502, 5.70859972,\n",
              "       5.69692126, 5.69006821, 5.68757774, 5.6823008 , 5.67916555,\n",
              "       5.69845589, 5.72442394, 5.7417762 , 5.75930944, 5.76270768,\n",
              "       5.75321522, 5.73945163, 5.72709446, 5.68413048, 5.63441054,\n",
              "       5.60878278, 5.56427191, 5.54582995, 5.52240894, 5.4981122 ,\n",
              "       5.46142907, 5.43508585, 5.39425224, 5.32472822, 5.28109024,\n",
              "       5.22165349, 5.14908189, 5.11702717, 5.09655475, 5.09131834,\n",
              "       5.08171371, 5.0706885 , 5.06194073, 5.05869803, 5.04182181,\n",
              "       5.02817133, 4.98681927, 4.97050205, 4.94788416, 4.93787985,\n",
              "       4.85908677, 4.76218827, 4.6822348 , 4.59579308, 4.51674173,\n",
              "       4.45978791, 4.406961  , 4.37278626, 4.33599285])"
            ]
          },
          "execution_count": 57,
          "metadata": {},
          "output_type": "execute_result"
        }
      ],
      "source": [
        "test_predictions = model(X_test.to(device)).detach().cpu().numpy().flatten()\n",
        "\n",
        "dummies = np.zeros((X_test.shape[0], lookback + 1))\n",
        "dummies[:, 0] = test_predictions\n",
        "dummies = scaler.inverse_transform(dummies)\n",
        "\n",
        "test_predictions = dc(dummies[:, 0])\n",
        "test_predictions"
      ]
    },
    {
      "cell_type": "code",
      "execution_count": 58,
      "id": "g-DJXBgYsFyI",
      "metadata": {
        "colab": {
          "base_uri": "https://localhost:8080/"
        },
        "id": "g-DJXBgYsFyI",
        "outputId": "b606685e-137b-41ef-8a56-6171133ed013"
      },
      "outputs": [
        {
          "name": "stderr",
          "output_type": "stream",
          "text": [
            "C:\\Users\\dushy\\AppData\\Local\\Temp\\ipykernel_2924\\1391370247.py:2: DeprecationWarning: __array__ implementation doesn't accept a copy keyword, so passing copy=False failed. __array__ must implement 'dtype' and 'copy' keyword arguments.\n",
            "  dummies[:, 0] = y_test.flatten()\n"
          ]
        },
        {
          "data": {
            "text/plain": [
              "array([4.72999969, 4.79999974, 4.79000014, 4.8699998 , 4.76999999,\n",
              "       4.65000003, 4.65999963, 4.79000014, 4.95000041, 4.89999956,\n",
              "       4.91999971, 4.89999956, 4.88000035, 4.93999986, 4.93000026,\n",
              "       4.93000026, 4.84000005, 4.98000016, 5.3100003 , 5.34000005,\n",
              "       5.38000036, 5.55000023, 5.55000023, 5.58999959, 5.60000013,\n",
              "       5.57000038, 5.50000032, 5.62000028, 5.60999974, 5.74999985,\n",
              "       5.84000006, 5.96999963, 5.88999997, 5.91000012, 6.07999999,\n",
              "       6.1700002 , 6.07000038, 6.14000044, 6.00999993, 5.84000006,\n",
              "       5.34000005, 5.64000044, 5.7200001 , 5.43999987, 5.79999976,\n",
              "       5.69999995, 5.81999991, 6.03999969, 6.15999965, 6.10000014,\n",
              "       6.22999971, 6.03999969, 6.05000023, 6.15000005, 6.15999965,\n",
              "       6.15000005, 6.05000023, 5.81000031, 5.91000012, 5.88999997,\n",
              "       6.05000023, 6.05000023, 6.03000008, 6.1299999 , 6.24000025,\n",
              "       6.19000035, 6.2200001 , 6.22999971, 6.26000041, 6.03000008,\n",
              "       6.24000025, 6.20999956, 6.05000023, 5.81999991, 6.10999974,\n",
              "       5.64000044, 5.53000008, 5.79000015, 5.53000008, 5.62999989,\n",
              "       5.65999964, 5.53000008, 5.36000021, 5.38999996, 5.69999995,\n",
              "       5.65999964, 5.86999982, 5.79000015, 5.79000015, 5.93999987,\n",
              "       5.91000012, 5.7299997 , 5.7200001 , 5.60000013, 5.53000008,\n",
              "       5.41999972, 5.62999989, 5.65999964, 5.62000028, 5.67999979,\n",
              "       5.65999964, 5.81999991, 5.98000018, 6.2200001 , 6.26000041,\n",
              "       6.38999997, 6.50000033, 6.36000022, 6.38000037, 6.14000044,\n",
              "       6.15000005, 6.19000035, 6.15000005, 6.10999974, 6.07000038,\n",
              "       6.19000035, 6.19000035, 6.22999971, 6.20999956, 6.31999992,\n",
              "       6.29999977, 6.43999988, 6.6200003 , 6.6299999 , 6.6299999 ,\n",
              "       6.57000039, 6.55999984, 6.51999954, 6.55999984, 6.55999984,\n",
              "       6.6700002 , 6.6299999 , 6.6299999 , 6.50000033, 6.55999984,\n",
              "       6.43000028, 6.27000001, 5.98000018, 6.05000023, 5.88999997,\n",
              "       6.01999954, 5.91999972, 6.05999984, 5.91999972, 6.07000038,\n",
              "       6.1799998 , 6.22999971, 6.33000046, 6.19000035, 6.27999961,\n",
              "       6.22999971, 6.20999956, 6.34000007, 6.29000016, 6.29999977,\n",
              "       6.27000001, 6.24000025, 6.2200001 , 6.29999977, 6.36999982,\n",
              "       6.29999977, 6.10000014, 6.12000029, 6.15999965, 6.27000001,\n",
              "       6.29999977, 6.34999967, 6.41999973, 6.46000003, 6.41000013,\n",
              "       6.36999982, 6.39999958, 6.53999969, 6.48000018, 6.43999988,\n",
              "       6.12000029, 6.19999995, 6.33000046, 6.57000039, 6.6700002 ,\n",
              "       6.81000032, 6.89999959, 6.86000023, 6.96000004, 6.95000043,\n",
              "       7.01999955, 7.08999961, 6.96000004, 6.81999992, 6.79999977,\n",
              "       6.86999983, 6.81999992, 6.70999956, 6.77999962, 6.91000013,\n",
              "       6.84999968, 6.77999962, 6.79999977, 6.65999966, 6.5899996 ,\n",
              "       6.64000045, 6.70999956, 6.6700002 , 6.67999981, 7.0300001 ,\n",
              "       7.22999972, 7.15999966, 7.17000021, 6.98000019, 6.74999987,\n",
              "       6.64000045, 6.64000045, 6.14000044, 5.88000036, 6.15999965,\n",
              "       5.88000036, 6.15000005, 6.07999999, 5.98999978, 5.7299997 ,\n",
              "       5.77999961, 5.53000008, 4.98999977, 5.19999994, 4.96000001,\n",
              "       4.64000042, 5.07999997, 5.27      , 5.45000041, 5.36999981,\n",
              "       5.29000015, 5.2799996 , 5.34000005, 5.15000003, 5.14000043,\n",
              "       4.74000023, 4.98000016, 4.93000026, 5.05999982, 4.10999972,\n",
              "       3.62000026, 3.72999967, 3.62000026, 3.62000026, 3.83000043,\n",
              "       3.84000003, 4.0000003 , 3.93000024, 4.08999957])"
            ]
          },
          "execution_count": 58,
          "metadata": {},
          "output_type": "execute_result"
        }
      ],
      "source": [
        "dummies = np.zeros((X_test.shape[0], lookback + 1))\n",
        "dummies[:, 0] = y_test.flatten()\n",
        "dummies = scaler.inverse_transform(dummies)\n",
        "\n",
        "new_y_test = dc(dummies[:, 0])\n",
        "new_y_test"
      ]
    },
    {
      "cell_type": "code",
      "execution_count": 59,
      "id": "PhLmIlHOsSK4",
      "metadata": {
        "colab": {
          "base_uri": "https://localhost:8080/",
          "height": 449
        },
        "id": "PhLmIlHOsSK4",
        "outputId": "09c21535-ea22-4d65-bc50-b159bd4dc135"
      },
      "outputs": [
        {
          "data": {
            "image/png": "[encoded data removed]",
            "text/plain": [
              "<Figure size 640x480 with 1 Axes>"
            ]
          },
          "metadata": {},
          "output_type": "display_data"
        }
      ],
      "source": [
        "plt.plot(new_y_test, label=\"Actual Price\")\n",
        "plt.plot(test_predictions, label=\"Predicted Price\")\n",
        "plt.xlabel(\"Day\")\n",
        "plt.ylabel(\"Price\")\n",
        "plt.legend()\n",
        "plt.show()\n"
      ]
    },
    {
      "cell_type": "code",
      "execution_count": 60,
      "id": "-CuelDg2seDP",
      "metadata": {
        "id": "-CuelDg2seDP"
      },
      "outputs": [
        {
          "name": "stdout",
          "output_type": "stream",
          "text": [
            "MSE: 5.955 \n",
            " MAE: 5.912\n"
          ]
        }
      ],
      "source": [
        "print(\n",
        "    \"MSE: {0:.3f} \\n MAE: {1:.3f}\".format(\n",
        "        np.sqrt(np.mean(np.square(new_y_test, test_predictions))),\n",
        "        np.mean(np.abs(new_y_test, test_predictions)),\n",
        "    )\n",
        ")"
      ]
    }
  ],
  "metadata": {
    "colab": {
      "gpuType": "T4",
      "provenance": []
    },
    "gpuClass": "standard",
    "kernelspec": {
      "display_name": ".venv",
      "language": "python",
      "name": "python3"
    },
    "language_info": {
      "codemirror_mode": {
        "name": "ipython",
        "version": 3
      },
      "file_extension": ".py",
      "mimetype": "text/x-python",
      "name": "python",
      "nbconvert_exporter": "python",
      "pygments_lexer": "ipython3",
      "version": "3.12.3"
    }
  },
  "nbformat": 4,
  "nbformat_minor": 5
}
