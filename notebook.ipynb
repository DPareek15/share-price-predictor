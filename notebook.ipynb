{
  "cells": [
    {
      "cell_type": "code",
      "execution_count": 147,
      "id": "2a4fdd0f",
      "metadata": {
        "colab": {
          "base_uri": "https://localhost:8080/",
          "height": 423
        },
        "id": "2a4fdd0f",
        "outputId": "d758fb02-8b42-4705-d4bd-bcaa6df69ea7"
      },
      "outputs": [
        {
          "data": {
            "text/html": [
              "<div>\n",
              "<style scoped>\n",
              "    .dataframe tbody tr th:only-of-type {\n",
              "        vertical-align: middle;\n",
              "    }\n",
              "\n",
              "    .dataframe tbody tr th {\n",
              "        vertical-align: top;\n",
              "    }\n",
              "\n",
              "    .dataframe thead th {\n",
              "        text-align: right;\n",
              "    }\n",
              "</style>\n",
              "<table border=\"1\" class=\"dataframe\">\n",
              "  <thead>\n",
              "    <tr style=\"text-align: right;\">\n",
              "      <th></th>\n",
              "      <th>Date</th>\n",
              "      <th>Price</th>\n",
              "      <th>Open</th>\n",
              "      <th>High</th>\n",
              "      <th>Low</th>\n",
              "      <th>Vol.</th>\n",
              "      <th>Change %</th>\n",
              "    </tr>\n",
              "  </thead>\n",
              "  <tbody>\n",
              "    <tr>\n",
              "      <th>0</th>\n",
              "      <td>30-11-2018</td>\n",
              "      <td>4.09</td>\n",
              "      <td>3.94</td>\n",
              "      <td>4.10</td>\n",
              "      <td>3.89</td>\n",
              "      <td>729.56M</td>\n",
              "      <td>4.07%</td>\n",
              "    </tr>\n",
              "    <tr>\n",
              "      <th>1</th>\n",
              "      <td>29-11-2018</td>\n",
              "      <td>3.93</td>\n",
              "      <td>4.00</td>\n",
              "      <td>4.04</td>\n",
              "      <td>3.90</td>\n",
              "      <td>549.17M</td>\n",
              "      <td>-1.75%</td>\n",
              "    </tr>\n",
              "    <tr>\n",
              "      <th>2</th>\n",
              "      <td>28-11-2018</td>\n",
              "      <td>4.00</td>\n",
              "      <td>3.96</td>\n",
              "      <td>4.01</td>\n",
              "      <td>3.83</td>\n",
              "      <td>804.53M</td>\n",
              "      <td>4.17%</td>\n",
              "    </tr>\n",
              "    <tr>\n",
              "      <th>3</th>\n",
              "      <td>27-11-2018</td>\n",
              "      <td>3.84</td>\n",
              "      <td>3.80</td>\n",
              "      <td>3.93</td>\n",
              "      <td>3.76</td>\n",
              "      <td>738.06M</td>\n",
              "      <td>0.26%</td>\n",
              "    </tr>\n",
              "    <tr>\n",
              "      <th>4</th>\n",
              "      <td>26-11-2018</td>\n",
              "      <td>3.83</td>\n",
              "      <td>3.75</td>\n",
              "      <td>3.84</td>\n",
              "      <td>3.66</td>\n",
              "      <td>814.83M</td>\n",
              "      <td>5.80%</td>\n",
              "    </tr>\n",
              "    <tr>\n",
              "      <th>...</th>\n",
              "      <td>...</td>\n",
              "      <td>...</td>\n",
              "      <td>...</td>\n",
              "      <td>...</td>\n",
              "      <td>...</td>\n",
              "      <td>...</td>\n",
              "      <td>...</td>\n",
              "    </tr>\n",
              "    <tr>\n",
              "      <th>4994</th>\n",
              "      <td>29-01-1999</td>\n",
              "      <td>0.04</td>\n",
              "      <td>0.04</td>\n",
              "      <td>0.04</td>\n",
              "      <td>0.04</td>\n",
              "      <td>244.03M</td>\n",
              "      <td>0.00%</td>\n",
              "    </tr>\n",
              "    <tr>\n",
              "      <th>4995</th>\n",
              "      <td>28-01-1999</td>\n",
              "      <td>0.04</td>\n",
              "      <td>0.04</td>\n",
              "      <td>0.04</td>\n",
              "      <td>0.04</td>\n",
              "      <td>227.52M</td>\n",
              "      <td>0.00%</td>\n",
              "    </tr>\n",
              "    <tr>\n",
              "      <th>4996</th>\n",
              "      <td>27-01-1999</td>\n",
              "      <td>0.04</td>\n",
              "      <td>0.04</td>\n",
              "      <td>0.04</td>\n",
              "      <td>0.04</td>\n",
              "      <td>244.37M</td>\n",
              "      <td>0.00%</td>\n",
              "    </tr>\n",
              "    <tr>\n",
              "      <th>4997</th>\n",
              "      <td>26-01-1999</td>\n",
              "      <td>0.04</td>\n",
              "      <td>0.05</td>\n",
              "      <td>0.05</td>\n",
              "      <td>0.04</td>\n",
              "      <td>343.20M</td>\n",
              "      <td>-20.00%</td>\n",
              "    </tr>\n",
              "    <tr>\n",
              "      <th>4998</th>\n",
              "      <td>25-01-1999</td>\n",
              "      <td>0.05</td>\n",
              "      <td>0.04</td>\n",
              "      <td>0.05</td>\n",
              "      <td>0.04</td>\n",
              "      <td>510.48M</td>\n",
              "      <td>25.00%</td>\n",
              "    </tr>\n",
              "  </tbody>\n",
              "</table>\n",
              "<p>4999 rows × 7 columns</p>\n",
              "</div>"
            ],
            "text/plain": [
              "            Date  Price  Open  High   Low     Vol. Change %\n",
              "0     30-11-2018   4.09  3.94  4.10  3.89  729.56M    4.07%\n",
              "1     29-11-2018   3.93  4.00  4.04  3.90  549.17M   -1.75%\n",
              "2     28-11-2018   4.00  3.96  4.01  3.83  804.53M    4.17%\n",
              "3     27-11-2018   3.84  3.80  3.93  3.76  738.06M    0.26%\n",
              "4     26-11-2018   3.83  3.75  3.84  3.66  814.83M    5.80%\n",
              "...          ...    ...   ...   ...   ...      ...      ...\n",
              "4994  29-01-1999   0.04  0.04  0.04  0.04  244.03M    0.00%\n",
              "4995  28-01-1999   0.04  0.04  0.04  0.04  227.52M    0.00%\n",
              "4996  27-01-1999   0.04  0.04  0.04  0.04  244.37M    0.00%\n",
              "4997  26-01-1999   0.04  0.05  0.05  0.04  343.20M  -20.00%\n",
              "4998  25-01-1999   0.05  0.04  0.05  0.04  510.48M   25.00%\n",
              "\n",
              "[4999 rows x 7 columns]"
            ]
          },
          "execution_count": 147,
          "metadata": {},
          "output_type": "execute_result"
        }
      ],
      "source": [
        "import matplotlib.pyplot as plt\n",
        "import numpy as np\n",
        "import pandas as pd\n",
        "import torch\n",
        "import torch.nn as nn\n",
        "\n",
        "data = pd.read_csv(\"NVDA.csv\")\n",
        "\n",
        "data"
      ]
    },
    {
      "cell_type": "code",
      "execution_count": 148,
      "id": "WtCP8-cDbg9R",
      "metadata": {
        "colab": {
          "base_uri": "https://localhost:8080/",
          "height": 423
        },
        "id": "WtCP8-cDbg9R",
        "outputId": "1a923823-8c15-4765-c9c9-19a233dc8131"
      },
      "outputs": [
        {
          "data": {
            "text/html": [
              "<div>\n",
              "<style scoped>\n",
              "    .dataframe tbody tr th:only-of-type {\n",
              "        vertical-align: middle;\n",
              "    }\n",
              "\n",
              "    .dataframe tbody tr th {\n",
              "        vertical-align: top;\n",
              "    }\n",
              "\n",
              "    .dataframe thead th {\n",
              "        text-align: right;\n",
              "    }\n",
              "</style>\n",
              "<table border=\"1\" class=\"dataframe\">\n",
              "  <thead>\n",
              "    <tr style=\"text-align: right;\">\n",
              "      <th></th>\n",
              "      <th>Date</th>\n",
              "      <th>Price</th>\n",
              "    </tr>\n",
              "  </thead>\n",
              "  <tbody>\n",
              "    <tr>\n",
              "      <th>0</th>\n",
              "      <td>30-11-2018</td>\n",
              "      <td>4.09</td>\n",
              "    </tr>\n",
              "    <tr>\n",
              "      <th>1</th>\n",
              "      <td>29-11-2018</td>\n",
              "      <td>3.93</td>\n",
              "    </tr>\n",
              "    <tr>\n",
              "      <th>2</th>\n",
              "      <td>28-11-2018</td>\n",
              "      <td>4.00</td>\n",
              "    </tr>\n",
              "    <tr>\n",
              "      <th>3</th>\n",
              "      <td>27-11-2018</td>\n",
              "      <td>3.84</td>\n",
              "    </tr>\n",
              "    <tr>\n",
              "      <th>4</th>\n",
              "      <td>26-11-2018</td>\n",
              "      <td>3.83</td>\n",
              "    </tr>\n",
              "    <tr>\n",
              "      <th>...</th>\n",
              "      <td>...</td>\n",
              "      <td>...</td>\n",
              "    </tr>\n",
              "    <tr>\n",
              "      <th>4994</th>\n",
              "      <td>29-01-1999</td>\n",
              "      <td>0.04</td>\n",
              "    </tr>\n",
              "    <tr>\n",
              "      <th>4995</th>\n",
              "      <td>28-01-1999</td>\n",
              "      <td>0.04</td>\n",
              "    </tr>\n",
              "    <tr>\n",
              "      <th>4996</th>\n",
              "      <td>27-01-1999</td>\n",
              "      <td>0.04</td>\n",
              "    </tr>\n",
              "    <tr>\n",
              "      <th>4997</th>\n",
              "      <td>26-01-1999</td>\n",
              "      <td>0.04</td>\n",
              "    </tr>\n",
              "    <tr>\n",
              "      <th>4998</th>\n",
              "      <td>25-01-1999</td>\n",
              "      <td>0.05</td>\n",
              "    </tr>\n",
              "  </tbody>\n",
              "</table>\n",
              "<p>4999 rows × 2 columns</p>\n",
              "</div>"
            ],
            "text/plain": [
              "            Date  Price\n",
              "0     30-11-2018   4.09\n",
              "1     29-11-2018   3.93\n",
              "2     28-11-2018   4.00\n",
              "3     27-11-2018   3.84\n",
              "4     26-11-2018   3.83\n",
              "...          ...    ...\n",
              "4994  29-01-1999   0.04\n",
              "4995  28-01-1999   0.04\n",
              "4996  27-01-1999   0.04\n",
              "4997  26-01-1999   0.04\n",
              "4998  25-01-1999   0.05\n",
              "\n",
              "[4999 rows x 2 columns]"
            ]
          },
          "execution_count": 148,
          "metadata": {},
          "output_type": "execute_result"
        }
      ],
      "source": [
        "data = data[[\"Date\", \"Price\"]]\n",
        "data"
      ]
    },
    {
      "cell_type": "code",
      "execution_count": 149,
      "id": "9akB333XcFJ6",
      "metadata": {
        "colab": {
          "base_uri": "https://localhost:8080/",
          "height": 36
        },
        "id": "9akB333XcFJ6",
        "outputId": "2e8630de-1369-4281-d87c-9634ed90ba97"
      },
      "outputs": [
        {
          "data": {
            "text/plain": [
              "'cpu'"
            ]
          },
          "execution_count": 149,
          "metadata": {},
          "output_type": "execute_result"
        }
      ],
      "source": [
        "device = \"cuda:0\" if torch.cuda.is_available() else \"cpu\"\n",
        "device"
      ]
    },
    {
      "cell_type": "code",
      "execution_count": 150,
      "id": "tr2YuqKGcXcJ",
      "metadata": {
        "colab": {
          "base_uri": "https://localhost:8080/",
          "height": 551
        },
        "id": "tr2YuqKGcXcJ",
        "outputId": "bd197a93-bf7f-413c-fac0-5f4dc1a8471d"
      },
      "outputs": [
        {
          "name": "stderr",
          "output_type": "stream",
          "text": [
            "C:\\Users\\dushy\\AppData\\Local\\Temp\\ipykernel_22592\\1981509944.py:1: UserWarning: Parsing dates in %d-%m-%Y format when dayfirst=False (the default) was specified. Pass `dayfirst=True` or specify a format to silence this warning.\n",
            "  data[\"Date\"] = pd.to_datetime(data[\"Date\"])\n",
            "C:\\Users\\dushy\\AppData\\Local\\Temp\\ipykernel_22592\\1981509944.py:1: SettingWithCopyWarning: \n",
            "A value is trying to be set on a copy of a slice from a DataFrame.\n",
            "Try using .loc[row_indexer,col_indexer] = value instead\n",
            "\n",
            "See the caveats in the documentation: https://pandas.pydata.org/pandas-docs/stable/user_guide/indexing.html#returning-a-view-versus-a-copy\n",
            "  data[\"Date\"] = pd.to_datetime(data[\"Date\"])\n",
            "C:\\Users\\dushy\\AppData\\Local\\Temp\\ipykernel_22592\\1981509944.py:2: SettingWithCopyWarning: \n",
            "A value is trying to be set on a copy of a slice from a DataFrame\n",
            "\n",
            "See the caveats in the documentation: https://pandas.pydata.org/pandas-docs/stable/user_guide/indexing.html#returning-a-view-versus-a-copy\n",
            "  data.sort_values(\"Date\", inplace=True)\n"
          ]
        },
        {
          "data": {
            "text/plain": [
              "[<matplotlib.lines.Line2D at 0x22d0c1b4ef0>]"
            ]
          },
          "execution_count": 150,
          "metadata": {},
          "output_type": "execute_result"
        },
        {
          "data": {
            "image/png": "[encoded data removed]",
            "text/plain": [
              "<Figure size 640x480 with 1 Axes>"
            ]
          },
          "metadata": {},
          "output_type": "display_data"
        }
      ],
      "source": [
        "data[\"Date\"] = pd.to_datetime(data[\"Date\"])\n",
        "data.sort_values(\"Date\", inplace=True)\n",
        "plt.plot(data[\"Date\"], data[\"Price\"])"
      ]
    },
    {
      "cell_type": "code",
      "execution_count": 151,
      "id": "Q4ma6QCscwfB",
      "metadata": {
        "colab": {
          "base_uri": "https://localhost:8080/",
          "height": 455
        },
        "id": "Q4ma6QCscwfB",
        "outputId": "61bd4c08-c3f7-453d-ed92-c2232a18a5ba"
      },
      "outputs": [
        {
          "data": {
            "text/html": [
              "<div>\n",
              "<style scoped>\n",
              "    .dataframe tbody tr th:only-of-type {\n",
              "        vertical-align: middle;\n",
              "    }\n",
              "\n",
              "    .dataframe tbody tr th {\n",
              "        vertical-align: top;\n",
              "    }\n",
              "\n",
              "    .dataframe thead th {\n",
              "        text-align: right;\n",
              "    }\n",
              "</style>\n",
              "<table border=\"1\" class=\"dataframe\">\n",
              "  <thead>\n",
              "    <tr style=\"text-align: right;\">\n",
              "      <th></th>\n",
              "      <th>Price</th>\n",
              "      <th>Price(t-1)</th>\n",
              "      <th>Price(t-2)</th>\n",
              "      <th>Price(t-3)</th>\n",
              "      <th>Price(t-4)</th>\n",
              "      <th>Price(t-5)</th>\n",
              "      <th>Price(t-6)</th>\n",
              "      <th>Price(t-7)</th>\n",
              "      <th>Price(t-8)</th>\n",
              "      <th>Price(t-9)</th>\n",
              "      <th>...</th>\n",
              "      <th>Price(t-21)</th>\n",
              "      <th>Price(t-22)</th>\n",
              "      <th>Price(t-23)</th>\n",
              "      <th>Price(t-24)</th>\n",
              "      <th>Price(t-25)</th>\n",
              "      <th>Price(t-26)</th>\n",
              "      <th>Price(t-27)</th>\n",
              "      <th>Price(t-28)</th>\n",
              "      <th>Price(t-29)</th>\n",
              "      <th>Price(t-30)</th>\n",
              "    </tr>\n",
              "    <tr>\n",
              "      <th>Date</th>\n",
              "      <th></th>\n",
              "      <th></th>\n",
              "      <th></th>\n",
              "      <th></th>\n",
              "      <th></th>\n",
              "      <th></th>\n",
              "      <th></th>\n",
              "      <th></th>\n",
              "      <th></th>\n",
              "      <th></th>\n",
              "      <th></th>\n",
              "      <th></th>\n",
              "      <th></th>\n",
              "      <th></th>\n",
              "      <th></th>\n",
              "      <th></th>\n",
              "      <th></th>\n",
              "      <th></th>\n",
              "      <th></th>\n",
              "      <th></th>\n",
              "      <th></th>\n",
              "    </tr>\n",
              "  </thead>\n",
              "  <tbody>\n",
              "    <tr>\n",
              "      <th>1999-03-09</th>\n",
              "      <td>0.05</td>\n",
              "      <td>0.04</td>\n",
              "      <td>0.04</td>\n",
              "      <td>0.04</td>\n",
              "      <td>0.04</td>\n",
              "      <td>0.05</td>\n",
              "      <td>0.05</td>\n",
              "      <td>0.05</td>\n",
              "      <td>0.05</td>\n",
              "      <td>0.05</td>\n",
              "      <td>...</td>\n",
              "      <td>0.04</td>\n",
              "      <td>0.04</td>\n",
              "      <td>0.04</td>\n",
              "      <td>0.04</td>\n",
              "      <td>0.04</td>\n",
              "      <td>0.04</td>\n",
              "      <td>0.04</td>\n",
              "      <td>0.04</td>\n",
              "      <td>0.04</td>\n",
              "      <td>0.05</td>\n",
              "    </tr>\n",
              "    <tr>\n",
              "      <th>1999-03-10</th>\n",
              "      <td>0.05</td>\n",
              "      <td>0.05</td>\n",
              "      <td>0.04</td>\n",
              "      <td>0.04</td>\n",
              "      <td>0.04</td>\n",
              "      <td>0.04</td>\n",
              "      <td>0.05</td>\n",
              "      <td>0.05</td>\n",
              "      <td>0.05</td>\n",
              "      <td>0.05</td>\n",
              "      <td>...</td>\n",
              "      <td>0.04</td>\n",
              "      <td>0.04</td>\n",
              "      <td>0.04</td>\n",
              "      <td>0.04</td>\n",
              "      <td>0.04</td>\n",
              "      <td>0.04</td>\n",
              "      <td>0.04</td>\n",
              "      <td>0.04</td>\n",
              "      <td>0.04</td>\n",
              "      <td>0.04</td>\n",
              "    </tr>\n",
              "    <tr>\n",
              "      <th>1999-03-11</th>\n",
              "      <td>0.04</td>\n",
              "      <td>0.05</td>\n",
              "      <td>0.05</td>\n",
              "      <td>0.04</td>\n",
              "      <td>0.04</td>\n",
              "      <td>0.04</td>\n",
              "      <td>0.04</td>\n",
              "      <td>0.05</td>\n",
              "      <td>0.05</td>\n",
              "      <td>0.05</td>\n",
              "      <td>...</td>\n",
              "      <td>0.04</td>\n",
              "      <td>0.04</td>\n",
              "      <td>0.04</td>\n",
              "      <td>0.04</td>\n",
              "      <td>0.04</td>\n",
              "      <td>0.04</td>\n",
              "      <td>0.04</td>\n",
              "      <td>0.04</td>\n",
              "      <td>0.04</td>\n",
              "      <td>0.04</td>\n",
              "    </tr>\n",
              "    <tr>\n",
              "      <th>1999-03-12</th>\n",
              "      <td>0.04</td>\n",
              "      <td>0.04</td>\n",
              "      <td>0.05</td>\n",
              "      <td>0.05</td>\n",
              "      <td>0.04</td>\n",
              "      <td>0.04</td>\n",
              "      <td>0.04</td>\n",
              "      <td>0.04</td>\n",
              "      <td>0.05</td>\n",
              "      <td>0.05</td>\n",
              "      <td>...</td>\n",
              "      <td>0.04</td>\n",
              "      <td>0.04</td>\n",
              "      <td>0.04</td>\n",
              "      <td>0.04</td>\n",
              "      <td>0.04</td>\n",
              "      <td>0.04</td>\n",
              "      <td>0.04</td>\n",
              "      <td>0.04</td>\n",
              "      <td>0.04</td>\n",
              "      <td>0.04</td>\n",
              "    </tr>\n",
              "    <tr>\n",
              "      <th>1999-03-15</th>\n",
              "      <td>0.04</td>\n",
              "      <td>0.04</td>\n",
              "      <td>0.04</td>\n",
              "      <td>0.05</td>\n",
              "      <td>0.05</td>\n",
              "      <td>0.04</td>\n",
              "      <td>0.04</td>\n",
              "      <td>0.04</td>\n",
              "      <td>0.04</td>\n",
              "      <td>0.05</td>\n",
              "      <td>...</td>\n",
              "      <td>0.04</td>\n",
              "      <td>0.04</td>\n",
              "      <td>0.04</td>\n",
              "      <td>0.04</td>\n",
              "      <td>0.04</td>\n",
              "      <td>0.04</td>\n",
              "      <td>0.04</td>\n",
              "      <td>0.04</td>\n",
              "      <td>0.04</td>\n",
              "      <td>0.04</td>\n",
              "    </tr>\n",
              "    <tr>\n",
              "      <th>...</th>\n",
              "      <td>...</td>\n",
              "      <td>...</td>\n",
              "      <td>...</td>\n",
              "      <td>...</td>\n",
              "      <td>...</td>\n",
              "      <td>...</td>\n",
              "      <td>...</td>\n",
              "      <td>...</td>\n",
              "      <td>...</td>\n",
              "      <td>...</td>\n",
              "      <td>...</td>\n",
              "      <td>...</td>\n",
              "      <td>...</td>\n",
              "      <td>...</td>\n",
              "      <td>...</td>\n",
              "      <td>...</td>\n",
              "      <td>...</td>\n",
              "      <td>...</td>\n",
              "      <td>...</td>\n",
              "      <td>...</td>\n",
              "      <td>...</td>\n",
              "    </tr>\n",
              "    <tr>\n",
              "      <th>2018-11-26</th>\n",
              "      <td>3.83</td>\n",
              "      <td>3.62</td>\n",
              "      <td>3.62</td>\n",
              "      <td>3.73</td>\n",
              "      <td>3.62</td>\n",
              "      <td>4.11</td>\n",
              "      <td>5.06</td>\n",
              "      <td>4.93</td>\n",
              "      <td>4.98</td>\n",
              "      <td>4.74</td>\n",
              "      <td>...</td>\n",
              "      <td>5.20</td>\n",
              "      <td>4.99</td>\n",
              "      <td>5.53</td>\n",
              "      <td>5.78</td>\n",
              "      <td>5.73</td>\n",
              "      <td>5.99</td>\n",
              "      <td>6.08</td>\n",
              "      <td>6.15</td>\n",
              "      <td>5.88</td>\n",
              "      <td>6.16</td>\n",
              "    </tr>\n",
              "    <tr>\n",
              "      <th>2018-11-27</th>\n",
              "      <td>3.84</td>\n",
              "      <td>3.83</td>\n",
              "      <td>3.62</td>\n",
              "      <td>3.62</td>\n",
              "      <td>3.73</td>\n",
              "      <td>3.62</td>\n",
              "      <td>4.11</td>\n",
              "      <td>5.06</td>\n",
              "      <td>4.93</td>\n",
              "      <td>4.98</td>\n",
              "      <td>...</td>\n",
              "      <td>4.96</td>\n",
              "      <td>5.20</td>\n",
              "      <td>4.99</td>\n",
              "      <td>5.53</td>\n",
              "      <td>5.78</td>\n",
              "      <td>5.73</td>\n",
              "      <td>5.99</td>\n",
              "      <td>6.08</td>\n",
              "      <td>6.15</td>\n",
              "      <td>5.88</td>\n",
              "    </tr>\n",
              "    <tr>\n",
              "      <th>2018-11-28</th>\n",
              "      <td>4.00</td>\n",
              "      <td>3.84</td>\n",
              "      <td>3.83</td>\n",
              "      <td>3.62</td>\n",
              "      <td>3.62</td>\n",
              "      <td>3.73</td>\n",
              "      <td>3.62</td>\n",
              "      <td>4.11</td>\n",
              "      <td>5.06</td>\n",
              "      <td>4.93</td>\n",
              "      <td>...</td>\n",
              "      <td>4.64</td>\n",
              "      <td>4.96</td>\n",
              "      <td>5.20</td>\n",
              "      <td>4.99</td>\n",
              "      <td>5.53</td>\n",
              "      <td>5.78</td>\n",
              "      <td>5.73</td>\n",
              "      <td>5.99</td>\n",
              "      <td>6.08</td>\n",
              "      <td>6.15</td>\n",
              "    </tr>\n",
              "    <tr>\n",
              "      <th>2018-11-29</th>\n",
              "      <td>3.93</td>\n",
              "      <td>4.00</td>\n",
              "      <td>3.84</td>\n",
              "      <td>3.83</td>\n",
              "      <td>3.62</td>\n",
              "      <td>3.62</td>\n",
              "      <td>3.73</td>\n",
              "      <td>3.62</td>\n",
              "      <td>4.11</td>\n",
              "      <td>5.06</td>\n",
              "      <td>...</td>\n",
              "      <td>5.08</td>\n",
              "      <td>4.64</td>\n",
              "      <td>4.96</td>\n",
              "      <td>5.20</td>\n",
              "      <td>4.99</td>\n",
              "      <td>5.53</td>\n",
              "      <td>5.78</td>\n",
              "      <td>5.73</td>\n",
              "      <td>5.99</td>\n",
              "      <td>6.08</td>\n",
              "    </tr>\n",
              "    <tr>\n",
              "      <th>2018-11-30</th>\n",
              "      <td>4.09</td>\n",
              "      <td>3.93</td>\n",
              "      <td>4.00</td>\n",
              "      <td>3.84</td>\n",
              "      <td>3.83</td>\n",
              "      <td>3.62</td>\n",
              "      <td>3.62</td>\n",
              "      <td>3.73</td>\n",
              "      <td>3.62</td>\n",
              "      <td>4.11</td>\n",
              "      <td>...</td>\n",
              "      <td>5.27</td>\n",
              "      <td>5.08</td>\n",
              "      <td>4.64</td>\n",
              "      <td>4.96</td>\n",
              "      <td>5.20</td>\n",
              "      <td>4.99</td>\n",
              "      <td>5.53</td>\n",
              "      <td>5.78</td>\n",
              "      <td>5.73</td>\n",
              "      <td>5.99</td>\n",
              "    </tr>\n",
              "  </tbody>\n",
              "</table>\n",
              "<p>4969 rows × 31 columns</p>\n",
              "</div>"
            ],
            "text/plain": [
              "            Price  Price(t-1)  Price(t-2)  Price(t-3)  Price(t-4)  Price(t-5)  \\\n",
              "Date                                                                            \n",
              "1999-03-09   0.05        0.04        0.04        0.04        0.04        0.05   \n",
              "1999-03-10   0.05        0.05        0.04        0.04        0.04        0.04   \n",
              "1999-03-11   0.04        0.05        0.05        0.04        0.04        0.04   \n",
              "1999-03-12   0.04        0.04        0.05        0.05        0.04        0.04   \n",
              "1999-03-15   0.04        0.04        0.04        0.05        0.05        0.04   \n",
              "...           ...         ...         ...         ...         ...         ...   \n",
              "2018-11-26   3.83        3.62        3.62        3.73        3.62        4.11   \n",
              "2018-11-27   3.84        3.83        3.62        3.62        3.73        3.62   \n",
              "2018-11-28   4.00        3.84        3.83        3.62        3.62        3.73   \n",
              "2018-11-29   3.93        4.00        3.84        3.83        3.62        3.62   \n",
              "2018-11-30   4.09        3.93        4.00        3.84        3.83        3.62   \n",
              "\n",
              "            Price(t-6)  Price(t-7)  Price(t-8)  Price(t-9)  ...  Price(t-21)  \\\n",
              "Date                                                        ...                \n",
              "1999-03-09        0.05        0.05        0.05        0.05  ...         0.04   \n",
              "1999-03-10        0.05        0.05        0.05        0.05  ...         0.04   \n",
              "1999-03-11        0.04        0.05        0.05        0.05  ...         0.04   \n",
              "1999-03-12        0.04        0.04        0.05        0.05  ...         0.04   \n",
              "1999-03-15        0.04        0.04        0.04        0.05  ...         0.04   \n",
              "...                ...         ...         ...         ...  ...          ...   \n",
              "2018-11-26        5.06        4.93        4.98        4.74  ...         5.20   \n",
              "2018-11-27        4.11        5.06        4.93        4.98  ...         4.96   \n",
              "2018-11-28        3.62        4.11        5.06        4.93  ...         4.64   \n",
              "2018-11-29        3.73        3.62        4.11        5.06  ...         5.08   \n",
              "2018-11-30        3.62        3.73        3.62        4.11  ...         5.27   \n",
              "\n",
              "            Price(t-22)  Price(t-23)  Price(t-24)  Price(t-25)  Price(t-26)  \\\n",
              "Date                                                                          \n",
              "1999-03-09         0.04         0.04         0.04         0.04         0.04   \n",
              "1999-03-10         0.04         0.04         0.04         0.04         0.04   \n",
              "1999-03-11         0.04         0.04         0.04         0.04         0.04   \n",
              "1999-03-12         0.04         0.04         0.04         0.04         0.04   \n",
              "1999-03-15         0.04         0.04         0.04         0.04         0.04   \n",
              "...                 ...          ...          ...          ...          ...   \n",
              "2018-11-26         4.99         5.53         5.78         5.73         5.99   \n",
              "2018-11-27         5.20         4.99         5.53         5.78         5.73   \n",
              "2018-11-28         4.96         5.20         4.99         5.53         5.78   \n",
              "2018-11-29         4.64         4.96         5.20         4.99         5.53   \n",
              "2018-11-30         5.08         4.64         4.96         5.20         4.99   \n",
              "\n",
              "            Price(t-27)  Price(t-28)  Price(t-29)  Price(t-30)  \n",
              "Date                                                            \n",
              "1999-03-09         0.04         0.04         0.04         0.05  \n",
              "1999-03-10         0.04         0.04         0.04         0.04  \n",
              "1999-03-11         0.04         0.04         0.04         0.04  \n",
              "1999-03-12         0.04         0.04         0.04         0.04  \n",
              "1999-03-15         0.04         0.04         0.04         0.04  \n",
              "...                 ...          ...          ...          ...  \n",
              "2018-11-26         6.08         6.15         5.88         6.16  \n",
              "2018-11-27         5.99         6.08         6.15         5.88  \n",
              "2018-11-28         5.73         5.99         6.08         6.15  \n",
              "2018-11-29         5.78         5.73         5.99         6.08  \n",
              "2018-11-30         5.53         5.78         5.73         5.99  \n",
              "\n",
              "[4969 rows x 31 columns]"
            ]
          },
          "execution_count": 151,
          "metadata": {},
          "output_type": "execute_result"
        }
      ],
      "source": [
        "from copy import deepcopy as dc\n",
        "\n",
        "\n",
        "def prepare_dataframe_for_lstm(df, n_steps):\n",
        "    df = dc(df)\n",
        "\n",
        "    df.set_index(\"Date\", inplace=True)\n",
        "\n",
        "    for i in range(1, n_steps + 1):\n",
        "        df[f\"Price(t-{i})\"] = df[\"Price\"].shift(i)\n",
        "\n",
        "    df.dropna(inplace=True)\n",
        "\n",
        "    return df\n",
        "\n",
        "\n",
        "lookback = 30\n",
        "shifted_df = prepare_dataframe_for_lstm(data, lookback)\n",
        "shifted_df"
      ]
    },
    {
      "cell_type": "code",
      "execution_count": 152,
      "id": "yWcD1tHjfAU-",
      "metadata": {
        "colab": {
          "base_uri": "https://localhost:8080/"
        },
        "id": "yWcD1tHjfAU-",
        "outputId": "e10f8cdf-7b44-4c1a-d0a2-9007aac1685c"
      },
      "outputs": [
        {
          "data": {
            "text/plain": [
              "array([[0.05, 0.04, 0.04, ..., 0.04, 0.04, 0.05],\n",
              "       [0.05, 0.05, 0.04, ..., 0.04, 0.04, 0.04],\n",
              "       [0.04, 0.05, 0.05, ..., 0.04, 0.04, 0.04],\n",
              "       ...,\n",
              "       [4.  , 3.84, 3.83, ..., 5.99, 6.08, 6.15],\n",
              "       [3.93, 4.  , 3.84, ..., 5.73, 5.99, 6.08],\n",
              "       [4.09, 3.93, 4.  , ..., 5.78, 5.73, 5.99]])"
            ]
          },
          "execution_count": 152,
          "metadata": {},
          "output_type": "execute_result"
        }
      ],
      "source": [
        "shifted_df_as_np = shifted_df.to_numpy()\n",
        "\n",
        "shifted_df_as_np"
      ]
    },
    {
      "cell_type": "code",
      "execution_count": 153,
      "id": "Pq2p3opGELA_",
      "metadata": {
        "colab": {
          "base_uri": "https://localhost:8080/"
        },
        "id": "Pq2p3opGELA_",
        "outputId": "5cb2ff07-5d8f-4117-eafd-6a3c5663c6ff"
      },
      "outputs": [
        {
          "data": {
            "text/plain": [
              "(4969, 31)"
            ]
          },
          "execution_count": 153,
          "metadata": {},
          "output_type": "execute_result"
        }
      ],
      "source": [
        "shifted_df_as_np.shape"
      ]
    },
    {
      "cell_type": "code",
      "execution_count": 154,
      "id": "pXHkuFeafNUU",
      "metadata": {
        "colab": {
          "base_uri": "https://localhost:8080/"
        },
        "id": "pXHkuFeafNUU",
        "outputId": "a67d1f79-d279-4c96-e40f-0d9a5f9f7d7d"
      },
      "outputs": [
        {
          "data": {
            "text/plain": [
              "array([[-0.99873538, -0.99936769, -0.99936769, ..., -0.99936769,\n",
              "        -0.99936769, -0.99873538],\n",
              "       [-0.99873538, -0.99873538, -0.99936769, ..., -0.99936769,\n",
              "        -0.99936769, -0.99936769],\n",
              "       [-0.99936769, -0.99873538, -0.99873538, ..., -0.99936769,\n",
              "        -0.99936769, -0.99936769],\n",
              "       ...,\n",
              "       [-0.74897249, -0.75908947, -0.75972178, ..., -0.62314259,\n",
              "        -0.61745179, -0.61302561],\n",
              "       [-0.75339867, -0.74897249, -0.75908947, ..., -0.63958267,\n",
              "        -0.62314259, -0.61745179],\n",
              "       [-0.74328169, -0.75339867, -0.74897249, ..., -0.63642112,\n",
              "        -0.63958267, -0.62314259]])"
            ]
          },
          "execution_count": 154,
          "metadata": {},
          "output_type": "execute_result"
        }
      ],
      "source": [
        "from sklearn.preprocessing import MinMaxScaler\n",
        "\n",
        "scaler = MinMaxScaler(feature_range=(-1, 1))\n",
        "shifted_df_as_np = scaler.fit_transform(shifted_df_as_np)\n",
        "\n",
        "shifted_df_as_np"
      ]
    },
    {
      "cell_type": "code",
      "execution_count": 155,
      "id": "Iui9unuTfxOe",
      "metadata": {
        "colab": {
          "base_uri": "https://localhost:8080/"
        },
        "id": "Iui9unuTfxOe",
        "outputId": "642f093d-5071-43ef-fb9c-4c54061aec3e"
      },
      "outputs": [
        {
          "data": {
            "text/plain": [
              "((4969, 30), (4969,))"
            ]
          },
          "execution_count": 155,
          "metadata": {},
          "output_type": "execute_result"
        }
      ],
      "source": [
        "X = shifted_df_as_np[:, 1:]\n",
        "y = shifted_df_as_np[:, 0]\n",
        "\n",
        "X.shape, y.shape"
      ]
    },
    {
      "cell_type": "code",
      "execution_count": 156,
      "id": "XmbIqwj-E0cv",
      "metadata": {
        "colab": {
          "base_uri": "https://localhost:8080/"
        },
        "id": "XmbIqwj-E0cv",
        "outputId": "48ccc3a1-1b5c-49fd-ae2f-3f8b143fbb4c"
      },
      "outputs": [
        {
          "data": {
            "text/plain": [
              "array([[-0.99873538, -0.99936769, -0.99936769, ..., -0.99936769,\n",
              "        -0.99936769, -0.99936769],\n",
              "       [-0.99936769, -0.99936769, -0.99936769, ..., -0.99936769,\n",
              "        -0.99936769, -0.99873538],\n",
              "       [-0.99936769, -0.99936769, -0.99936769, ..., -0.99936769,\n",
              "        -0.99873538, -0.99873538],\n",
              "       ...,\n",
              "       [-0.61302561, -0.61745179, -0.62314259, ..., -0.77300032,\n",
              "        -0.75972178, -0.75908947],\n",
              "       [-0.61745179, -0.62314259, -0.63958267, ..., -0.75972178,\n",
              "        -0.75908947, -0.74897249],\n",
              "       [-0.62314259, -0.63958267, -0.63642112, ..., -0.75908947,\n",
              "        -0.74897249, -0.75339867]])"
            ]
          },
          "execution_count": 156,
          "metadata": {},
          "output_type": "execute_result"
        }
      ],
      "source": [
        "X = dc(np.flip(X, axis=1))\n",
        "X"
      ]
    },
    {
      "cell_type": "code",
      "execution_count": 157,
      "id": "GCHslawXgE21",
      "metadata": {
        "colab": {
          "base_uri": "https://localhost:8080/"
        },
        "id": "GCHslawXgE21",
        "outputId": "a2e50719-a1fb-460e-9ce4-9dd873642765"
      },
      "outputs": [
        {
          "data": {
            "text/plain": [
              "4720"
            ]
          },
          "execution_count": 157,
          "metadata": {},
          "output_type": "execute_result"
        }
      ],
      "source": [
        "split_index = int(len(X) * 0.95)\n",
        "\n",
        "split_index"
      ]
    },
    {
      "cell_type": "code",
      "execution_count": 158,
      "id": "hhGMh_nAgiST",
      "metadata": {
        "colab": {
          "base_uri": "https://localhost:8080/"
        },
        "id": "hhGMh_nAgiST",
        "outputId": "aeb231ef-e124-4821-f4ee-dbb2275c0f98"
      },
      "outputs": [
        {
          "data": {
            "text/plain": [
              "((4720, 30), (249, 30), (4720,), (249,))"
            ]
          },
          "execution_count": 158,
          "metadata": {},
          "output_type": "execute_result"
        }
      ],
      "source": [
        "X_train = X[:split_index]\n",
        "X_test = X[split_index:]\n",
        "\n",
        "y_train = y[:split_index]\n",
        "y_test = y[split_index:]\n",
        "\n",
        "X_train.shape, X_test.shape, y_train.shape, y_test.shape"
      ]
    },
    {
      "cell_type": "code",
      "execution_count": 159,
      "id": "Muqs9hKYhMUS",
      "metadata": {
        "colab": {
          "base_uri": "https://localhost:8080/"
        },
        "id": "Muqs9hKYhMUS",
        "outputId": "d35136a0-5855-4bfb-b66b-b8f7a1a8ea96"
      },
      "outputs": [
        {
          "data": {
            "text/plain": [
              "((4720, 30, 1), (249, 30, 1), (4720, 1), (249, 1))"
            ]
          },
          "execution_count": 159,
          "metadata": {},
          "output_type": "execute_result"
        }
      ],
      "source": [
        "X_train = X_train.reshape((-1, lookback, 1))\n",
        "X_test = X_test.reshape((-1, lookback, 1))\n",
        "\n",
        "y_train = y_train.reshape((-1, 1))\n",
        "y_test = y_test.reshape((-1, 1))\n",
        "\n",
        "X_train.shape, X_test.shape, y_train.shape, y_test.shape"
      ]
    },
    {
      "cell_type": "code",
      "execution_count": 160,
      "id": "i7-PBcrMhR7z",
      "metadata": {
        "colab": {
          "base_uri": "https://localhost:8080/"
        },
        "id": "i7-PBcrMhR7z",
        "outputId": "b01a297a-75d6-4573-e450-a3545360112e"
      },
      "outputs": [
        {
          "data": {
            "text/plain": [
              "(torch.Size([4720, 30, 1]),\n",
              " torch.Size([249, 30, 1]),\n",
              " torch.Size([4720, 1]),\n",
              " torch.Size([249, 1]))"
            ]
          },
          "execution_count": 160,
          "metadata": {},
          "output_type": "execute_result"
        }
      ],
      "source": [
        "X_train = torch.tensor(X_train).float()\n",
        "y_train = torch.tensor(y_train).float()\n",
        "X_test = torch.tensor(X_test).float()\n",
        "y_test = torch.tensor(y_test).float()\n",
        "\n",
        "X_train.shape, X_test.shape, y_train.shape, y_test.shape"
      ]
    },
    {
      "cell_type": "code",
      "execution_count": 161,
      "id": "DWutCAGKhdqU",
      "metadata": {
        "id": "DWutCAGKhdqU"
      },
      "outputs": [],
      "source": [
        "from torch.utils.data import Dataset\n",
        "\n",
        "\n",
        "class TimeSeriesDataset(Dataset):\n",
        "    def __init__(self, X, y):\n",
        "        self.X = X\n",
        "        self.y = y\n",
        "\n",
        "    def __len__(self):\n",
        "        return len(self.X)\n",
        "\n",
        "    def __getitem__(self, i):\n",
        "        return self.X[i], self.y[i]\n",
        "\n",
        "\n",
        "train_dataset = TimeSeriesDataset(X_train, y_train)\n",
        "test_dataset = TimeSeriesDataset(X_test, y_test)"
      ]
    },
    {
      "cell_type": "code",
      "execution_count": 162,
      "id": "12OWUTa5ijoq",
      "metadata": {
        "colab": {
          "base_uri": "https://localhost:8080/"
        },
        "id": "12OWUTa5ijoq",
        "outputId": "0928d3c2-d181-4035-cc57-a2ac6ce38075"
      },
      "outputs": [
        {
          "data": {
            "text/plain": [
              "<__main__.TimeSeriesDataset at 0x22d0dba7cb0>"
            ]
          },
          "execution_count": 162,
          "metadata": {},
          "output_type": "execute_result"
        }
      ],
      "source": [
        "train_dataset"
      ]
    },
    {
      "cell_type": "code",
      "execution_count": 163,
      "id": "XYsUmPl3ik46",
      "metadata": {
        "id": "XYsUmPl3ik46"
      },
      "outputs": [],
      "source": [
        "from torch.utils.data import DataLoader\n",
        "\n",
        "batch_size = 16\n",
        "\n",
        "train_loader = DataLoader(train_dataset, batch_size=batch_size, shuffle=True)\n",
        "test_loader = DataLoader(test_dataset, batch_size=batch_size, shuffle=False)"
      ]
    },
    {
      "cell_type": "code",
      "execution_count": 164,
      "id": "TJTnbgBDjOSK",
      "metadata": {
        "colab": {
          "base_uri": "https://localhost:8080/"
        },
        "id": "TJTnbgBDjOSK",
        "outputId": "51226616-d4de-4a22-f4d9-576fd3e8bfba"
      },
      "outputs": [
        {
          "name": "stdout",
          "output_type": "stream",
          "text": [
            "torch.Size([16, 30, 1]) torch.Size([16, 1])\n"
          ]
        }
      ],
      "source": [
        "for _, batch in enumerate(train_loader):\n",
        "    x_batch, y_batch = batch[0].to(device), batch[1].to(device)\n",
        "    print(x_batch.shape, y_batch.shape)\n",
        "    break"
      ]
    },
    {
      "cell_type": "code",
      "execution_count": 165,
      "id": "njdkq_kmjib5",
      "metadata": {
        "colab": {
          "base_uri": "https://localhost:8080/"
        },
        "id": "njdkq_kmjib5",
        "outputId": "db355c8d-cc21-43f5-cdfa-2156444b4531"
      },
      "outputs": [
        {
          "data": {
            "text/plain": [
              "LSTM(\n",
              "  (lstm): LSTM(1, 4, batch_first=True)\n",
              "  (fc): Linear(in_features=4, out_features=1, bias=True)\n",
              ")"
            ]
          },
          "execution_count": 165,
          "metadata": {},
          "output_type": "execute_result"
        }
      ],
      "source": [
        "class LSTM(nn.Module):\n",
        "    def __init__(self, input_size, hidden_size, num_stacked_layers):\n",
        "        super().__init__()\n",
        "        self.hidden_size = hidden_size\n",
        "        self.num_stacked_layers = num_stacked_layers\n",
        "\n",
        "        self.lstm = nn.LSTM(\n",
        "            input_size, hidden_size, num_stacked_layers, batch_first=True\n",
        "        )\n",
        "\n",
        "        self.fc = nn.Linear(hidden_size, 1)\n",
        "\n",
        "    def forward(self, x):\n",
        "        batch_size = x.size(0)\n",
        "        h0 = torch.zeros(self.num_stacked_layers, batch_size, self.hidden_size).to(\n",
        "            device\n",
        "        )\n",
        "        c0 = torch.zeros(self.num_stacked_layers, batch_size, self.hidden_size).to(\n",
        "            device\n",
        "        )\n",
        "\n",
        "        out, _ = self.lstm(x, (h0, c0))\n",
        "        out = self.fc(out[:, -1, :])\n",
        "        return out\n",
        "\n",
        "\n",
        "model = LSTM(1, 4, 1)\n",
        "model.to(device)\n",
        "model"
      ]
    },
    {
      "cell_type": "code",
      "execution_count": 166,
      "id": "iue5WvTxmVKB",
      "metadata": {
        "id": "iue5WvTxmVKB"
      },
      "outputs": [],
      "source": [
        "def train_one_epoch():\n",
        "    model.train(True)\n",
        "    print(f\"Epoch: {epoch + 1}\")\n",
        "    running_loss = 0.0\n",
        "\n",
        "    for batch_index, batch in enumerate(train_loader):\n",
        "        x_batch, y_batch = batch[0].to(device), batch[1].to(device)\n",
        "\n",
        "        output = model(x_batch)\n",
        "        loss = loss_function(output, y_batch)\n",
        "        running_loss += loss.item()\n",
        "\n",
        "        optimizer.zero_grad()\n",
        "        loss.backward()\n",
        "        optimizer.step()\n",
        "\n",
        "        if batch_index % 100 == 99:  # print every 100 batches\n",
        "            avg_loss_across_batches = running_loss / 100\n",
        "            print(\n",
        "                \"Batch {0}, Loss: {1:.3f}\".format(\n",
        "                    batch_index + 1, avg_loss_across_batches\n",
        "                )\n",
        "            )\n",
        "            running_loss = 0.0\n",
        "    print()"
      ]
    },
    {
      "cell_type": "code",
      "execution_count": 167,
      "id": "gRmNuV3cmy-t",
      "metadata": {
        "id": "gRmNuV3cmy-t"
      },
      "outputs": [],
      "source": [
        "def validate_one_epoch():\n",
        "    model.train(False)\n",
        "    running_loss = 0.0\n",
        "\n",
        "    for batch_index, batch in enumerate(test_loader):\n",
        "        x_batch, y_batch = batch[0].to(device), batch[1].to(device)\n",
        "\n",
        "        with torch.no_grad():\n",
        "            output = model(x_batch)\n",
        "            loss = loss_function(output, y_batch)\n",
        "            running_loss += loss.item()\n",
        "\n",
        "    avg_loss_across_batches = running_loss / len(test_loader)\n",
        "\n",
        "    print(\"Val Loss: {0:.3f}\".format(avg_loss_across_batches))\n",
        "    print(\"***************************************************\")\n",
        "    print()"
      ]
    },
    {
      "cell_type": "code",
      "execution_count": 168,
      "id": "1jgb1aJ3lxlQ",
      "metadata": {
        "colab": {
          "base_uri": "https://localhost:8080/"
        },
        "id": "1jgb1aJ3lxlQ",
        "outputId": "2a25db36-4872-44e4-feca-4d26bad49f96"
      },
      "outputs": [
        {
          "name": "stdout",
          "output_type": "stream",
          "text": [
            "Epoch: 1\n",
            "Batch 100, Loss: 0.146\n",
            "Batch 200, Loss: 0.002\n",
            "\n",
            "Val Loss: 0.079\n",
            "***************************************************\n",
            "\n",
            "Epoch: 2\n",
            "Batch 100, Loss: 0.002\n",
            "Batch 200, Loss: 0.002\n",
            "\n",
            "Val Loss: 0.069\n",
            "***************************************************\n",
            "\n",
            "Epoch: 3\n",
            "Batch 100, Loss: 0.002\n",
            "Batch 200, Loss: 0.001\n",
            "\n",
            "Val Loss: 0.002\n",
            "***************************************************\n",
            "\n",
            "Epoch: 4\n",
            "Batch 100, Loss: 0.001\n",
            "Batch 200, Loss: 0.003\n",
            "\n",
            "Val Loss: 0.003\n",
            "***************************************************\n",
            "\n",
            "Epoch: 5\n",
            "Batch 100, Loss: 0.000\n",
            "Batch 200, Loss: 0.000\n",
            "\n",
            "Val Loss: 0.003\n",
            "***************************************************\n",
            "\n",
            "Epoch: 6\n",
            "Batch 100, Loss: 0.003\n",
            "Batch 200, Loss: 0.000\n",
            "\n",
            "Val Loss: 0.003\n",
            "***************************************************\n",
            "\n",
            "Epoch: 7\n",
            "Batch 100, Loss: 0.000\n",
            "Batch 200, Loss: 0.000\n",
            "\n",
            "Val Loss: 0.003\n",
            "***************************************************\n",
            "\n",
            "Epoch: 8\n",
            "Batch 100, Loss: 0.000\n",
            "Batch 200, Loss: 0.000\n",
            "\n",
            "Val Loss: 0.006\n",
            "***************************************************\n",
            "\n",
            "Epoch: 9\n",
            "Batch 100, Loss: 0.000\n",
            "Batch 200, Loss: 0.000\n",
            "\n",
            "Val Loss: 0.005\n",
            "***************************************************\n",
            "\n",
            "Epoch: 10\n",
            "Batch 100, Loss: 0.000\n",
            "Batch 200, Loss: 0.003\n",
            "\n",
            "Val Loss: 0.002\n",
            "***************************************************\n",
            "\n",
            "Epoch: 11\n",
            "Batch 100, Loss: 0.000\n",
            "Batch 200, Loss: 0.000\n",
            "\n",
            "Val Loss: 0.006\n",
            "***************************************************\n",
            "\n",
            "Epoch: 12\n",
            "Batch 100, Loss: 0.003\n",
            "Batch 200, Loss: 0.000\n",
            "\n",
            "Val Loss: 0.002\n",
            "***************************************************\n",
            "\n",
            "Epoch: 13\n",
            "Batch 100, Loss: 0.000\n",
            "Batch 200, Loss: 0.003\n",
            "\n",
            "Val Loss: 0.002\n",
            "***************************************************\n",
            "\n",
            "Epoch: 14\n",
            "Batch 100, Loss: 0.003\n",
            "Batch 200, Loss: 0.000\n",
            "\n",
            "Val Loss: 0.003\n",
            "***************************************************\n",
            "\n",
            "Epoch: 15\n",
            "Batch 100, Loss: 0.000\n",
            "Batch 200, Loss: 0.003\n",
            "\n",
            "Val Loss: 0.002\n",
            "***************************************************\n",
            "\n",
            "Epoch: 16\n",
            "Batch 100, Loss: 0.000\n",
            "Batch 200, Loss: 0.003\n",
            "\n",
            "Val Loss: 0.002\n",
            "***************************************************\n",
            "\n",
            "Epoch: 17\n",
            "Batch 100, Loss: 0.000\n",
            "Batch 200, Loss: 0.002\n",
            "\n",
            "Val Loss: 0.002\n",
            "***************************************************\n",
            "\n",
            "Epoch: 18\n",
            "Batch 100, Loss: 0.000\n",
            "Batch 200, Loss: 0.000\n",
            "\n",
            "Val Loss: 0.006\n",
            "***************************************************\n",
            "\n",
            "Epoch: 19\n",
            "Batch 100, Loss: 0.000\n",
            "Batch 200, Loss: 0.000\n",
            "\n",
            "Val Loss: 0.002\n",
            "***************************************************\n",
            "\n",
            "Epoch: 20\n",
            "Batch 100, Loss: 0.000\n",
            "Batch 200, Loss: 0.003\n",
            "\n",
            "Val Loss: 0.002\n",
            "***************************************************\n",
            "\n",
            "Epoch: 21\n",
            "Batch 100, Loss: 0.000\n",
            "Batch 200, Loss: 0.000\n",
            "\n",
            "Val Loss: 0.002\n",
            "***************************************************\n",
            "\n",
            "Epoch: 22\n",
            "Batch 100, Loss: 0.000\n",
            "Batch 200, Loss: 0.000\n",
            "\n",
            "Val Loss: 0.006\n",
            "***************************************************\n",
            "\n",
            "Epoch: 23\n",
            "Batch 100, Loss: 0.003\n",
            "Batch 200, Loss: 0.000\n",
            "\n",
            "Val Loss: 0.002\n",
            "***************************************************\n",
            "\n",
            "Epoch: 24\n",
            "Batch 100, Loss: 0.003\n",
            "Batch 200, Loss: 0.000\n",
            "\n",
            "Val Loss: 0.002\n",
            "***************************************************\n",
            "\n",
            "Epoch: 25\n",
            "Batch 100, Loss: 0.000\n",
            "Batch 200, Loss: 0.003\n",
            "\n",
            "Val Loss: 0.001\n",
            "***************************************************\n",
            "\n",
            "Epoch: 26\n",
            "Batch 100, Loss: 0.003\n",
            "Batch 200, Loss: 0.000\n",
            "\n",
            "Val Loss: 0.002\n",
            "***************************************************\n",
            "\n",
            "Epoch: 27\n",
            "Batch 100, Loss: 0.003\n",
            "Batch 200, Loss: 0.000\n",
            "\n",
            "Val Loss: 0.002\n",
            "***************************************************\n",
            "\n",
            "Epoch: 28\n",
            "Batch 100, Loss: 0.000\n",
            "Batch 200, Loss: 0.003\n",
            "\n",
            "Val Loss: 0.002\n",
            "***************************************************\n",
            "\n",
            "Epoch: 29\n",
            "Batch 100, Loss: 0.000\n",
            "Batch 200, Loss: 0.003\n",
            "\n",
            "Val Loss: 0.001\n",
            "***************************************************\n",
            "\n",
            "Epoch: 30\n",
            "Batch 100, Loss: 0.003\n",
            "Batch 200, Loss: 0.000\n",
            "\n",
            "Val Loss: 0.001\n",
            "***************************************************\n",
            "\n"
          ]
        }
      ],
      "source": [
        "learning_rate = 0.005\n",
        "num_epochs = 30\n",
        "loss_function = nn.MSELoss()\n",
        "optimizer = torch.optim.Adam(model.parameters(), lr=learning_rate)\n",
        "\n",
        "for epoch in range(num_epochs):\n",
        "    train_one_epoch()\n",
        "    validate_one_epoch()"
      ]
    },
    {
      "cell_type": "code",
      "execution_count": 169,
      "id": "-Xon2PHWno7t",
      "metadata": {
        "colab": {
          "base_uri": "https://localhost:8080/",
          "height": 449
        },
        "id": "-Xon2PHWno7t",
        "outputId": "862b1d87-3e42-4fe1-8618-3cf0720e0da5"
      },
      "outputs": [
        {
          "data": {
            "image/png": "[encoded data removed]",
            "text/plain": [
              "<Figure size 640x480 with 1 Axes>"
            ]
          },
          "metadata": {},
          "output_type": "display_data"
        }
      ],
      "source": [
        "with torch.no_grad():\n",
        "    predicted = model(X_train.to(device)).to(\"cpu\").numpy()\n",
        "\n",
        "plt.plot(y_train, label=\"Actual Price\")\n",
        "plt.plot(predicted, label=\"Predicted Price\")\n",
        "plt.xlabel(\"Day\")\n",
        "plt.ylabel(\"Price\")\n",
        "plt.legend()\n",
        "plt.show()\n"
      ]
    },
    {
      "cell_type": "code",
      "execution_count": 170,
      "id": "d3SDgEvPpOcD",
      "metadata": {
        "colab": {
          "base_uri": "https://localhost:8080/"
        },
        "id": "d3SDgEvPpOcD",
        "outputId": "e9b8491e-b15e-4aa5-ae97-6619bb4a3be9"
      },
      "outputs": [
        {
          "data": {
            "text/plain": [
              "array([0.07399901, 0.07648383, 0.07823904, ..., 4.99285127, 4.94994291,\n",
              "       4.86008032])"
            ]
          },
          "execution_count": 170,
          "metadata": {},
          "output_type": "execute_result"
        }
      ],
      "source": [
        "train_predictions = predicted.flatten()\n",
        "\n",
        "dummies = np.zeros((X_train.shape[0], lookback + 1))\n",
        "dummies[:, 0] = train_predictions\n",
        "dummies = scaler.inverse_transform(dummies)\n",
        "\n",
        "train_predictions = dc(dummies[:, 0])\n",
        "train_predictions"
      ]
    },
    {
      "cell_type": "code",
      "execution_count": 171,
      "id": "PHnvejOdrL7Q",
      "metadata": {
        "colab": {
          "base_uri": "https://localhost:8080/"
        },
        "id": "PHnvejOdrL7Q",
        "outputId": "952cb861-3f21-42d2-f1b2-9e489c9cdcd7"
      },
      "outputs": [
        {
          "name": "stderr",
          "output_type": "stream",
          "text": [
            "C:\\Users\\dushy\\AppData\\Local\\Temp\\ipykernel_22592\\3558067691.py:2: DeprecationWarning: __array__ implementation doesn't accept a copy keyword, so passing copy=False failed. __array__ must implement 'dtype' and 'copy' keyword arguments.\n",
            "  dummies[:, 0] = y_train.flatten()\n"
          ]
        },
        {
          "data": {
            "text/plain": [
              "array([0.05000015, 0.05000015, 0.0399996 , ..., 4.93999986, 4.67000018,\n",
              "       4.69000033])"
            ]
          },
          "execution_count": 171,
          "metadata": {},
          "output_type": "execute_result"
        }
      ],
      "source": [
        "dummies = np.zeros((X_train.shape[0], lookback + 1))\n",
        "dummies[:, 0] = y_train.flatten()\n",
        "dummies = scaler.inverse_transform(dummies)\n",
        "\n",
        "new_y_train = dc(dummies[:, 0])\n",
        "new_y_train"
      ]
    },
    {
      "cell_type": "code",
      "execution_count": 172,
      "id": "2LlDAUtyrcrN",
      "metadata": {
        "colab": {
          "base_uri": "https://localhost:8080/",
          "height": 449
        },
        "id": "2LlDAUtyrcrN",
        "outputId": "819c2ff2-be0d-4781-d164-915936251f66"
      },
      "outputs": [
        {
          "data": {
            "image/png": "[encoded data removed]",
            "text/plain": [
              "<Figure size 640x480 with 1 Axes>"
            ]
          },
          "metadata": {},
          "output_type": "display_data"
        }
      ],
      "source": [
        "plt.plot(new_y_train, label=\"Actual Price\")\n",
        "plt.plot(train_predictions, label=\"Predicted Price\")\n",
        "plt.xlabel(\"Day\")\n",
        "plt.ylabel(\"Price\")\n",
        "plt.legend()\n",
        "plt.show()\n"
      ]
    },
    {
      "cell_type": "code",
      "execution_count": 173,
      "id": "yYeC2JMorftR",
      "metadata": {
        "colab": {
          "base_uri": "https://localhost:8080/"
        },
        "id": "yYeC2JMorftR",
        "outputId": "94df7137-866f-42aa-cb02-5a78961f6779"
      },
      "outputs": [
        {
          "data": {
            "text/plain": [
              "array([4.79907218, 4.76779514, 4.76309133, 4.75893614, 4.77373005,\n",
              "       4.76285849, 4.72634504, 4.7019267 , 4.71540468, 4.76263508,\n",
              "       4.78586946, 4.80465831, 4.81337968, 4.81439774, 4.82798129,\n",
              "       4.83600982, 4.84107184, 4.82468768, 4.84283365, 4.92822431,\n",
              "       4.99626743, 5.04917729, 5.1188559 , 5.16718167, 5.20628645,\n",
              "       5.23448198, 5.24719547, 5.24144343, 5.2598458 , 5.27198333,\n",
              "       5.30608831, 5.34725184, 5.39871945, 5.41924748, 5.43470125,\n",
              "       5.47545378, 5.51969034, 5.53167327, 5.54991727, 5.54027776,\n",
              "       5.50188373, 5.38145203, 5.35195659, 5.35342618, 5.30155606,\n",
              "       5.33177168, 5.33889244, 5.36357472, 5.42169837, 5.48315615,\n",
              "       5.5133878 , 5.55409509, 5.54943464, 5.54518141, 5.56026566,\n",
              "       5.57299611, 5.57940894, 5.56616852, 5.51384593, 5.49447452,\n",
              "       5.48027825, 5.49903316, 5.5135292 , 5.51903049, 5.5397348 ,\n",
              "       5.57329116, 5.58759301, 5.60092958, 5.61166634, 5.62361911,\n",
              "       5.59258338, 5.60518564, 5.61157584, 5.58749874, 5.52936002,\n",
              "       5.53980361, 5.46717168, 5.39139414, 5.3898086 , 5.34407323,\n",
              "       5.32864398, 5.32644761, 5.30040226, 5.24805611, 5.21698739,\n",
              "       5.25779365, 5.28160964, 5.33533678, 5.35870312, 5.37219429,\n",
              "       5.40860688, 5.42890585, 5.40841269, 5.39057969, 5.35662176,\n",
              "       5.31914492, 5.27234907, 5.28064908, 5.29536758, 5.29737636,\n",
              "       5.30948373, 5.31460702, 5.34751767, 5.40060757, 5.47922531,\n",
              "       5.53942561, 5.59968717, 5.65762889, 5.67282908, 5.68369403,\n",
              "       5.65143098, 5.62899408, 5.62195251, 5.61116108, 5.59680079,\n",
              "       5.58022056, 5.58963855, 5.59744367, 5.60897414, 5.61356106,\n",
              "       5.63453874, 5.64615215, 5.67602277, 5.72561545, 5.7605066 ,\n",
              "       5.78230815, 5.78674614, 5.78719106, 5.78117886, 5.78311694,\n",
              "       5.78494002, 5.80304922, 5.80974391, 5.81325244, 5.79536947,\n",
              "       5.79170823, 5.76993496, 5.72840757, 5.6512236 , 5.60959628,\n",
              "       5.55634613, 5.54234593, 5.51796152, 5.52521425, 5.50748871,\n",
              "       5.52020314, 5.54992293, 5.57870007, 5.61439342, 5.61498351,\n",
              "       5.62833329, 5.63001403, 5.62682128, 5.64630015, 5.65224637,\n",
              "       5.65676448, 5.6549282 , 5.64830516, 5.6403643 , 5.64840508,\n",
              "       5.66621075, 5.66683761, 5.63265721, 5.61142691, 5.60524314,\n",
              "       5.62035472, 5.63649002, 5.65526095, 5.67929281, 5.70185131,\n",
              "       5.7085064 , 5.70551443, 5.70801999, 5.73249018, 5.74024911,\n",
              "       5.73774355, 5.68332074, 5.65742433, 5.66416049, 5.70888628,\n",
              "       5.7557764 , 5.80748438, 5.85482791, 5.87936125, 5.90861348,\n",
              "       5.92670477, 5.94767114, 5.97145036, 5.96864316, 5.94508263,\n",
              "       5.92585545, 5.92398052, 5.91639504, 5.89462083, 5.89007726,\n",
              "       5.90740218, 5.91095973, 5.90194897, 5.89849134, 5.8757462 ,\n",
              "       5.84890902, 5.83896315, 5.84409492, 5.84207389, 5.84171191,\n",
              "       5.89349342, 5.95801292, 5.98996584, 6.01002538, 5.99634003,\n",
              "       5.95239003, 5.90578554, 5.8752777 , 5.77718203, 5.6631971 ,\n",
              "       5.6347169 , 5.57242958, 5.57478808, 5.5688117 , 5.5477341 ,\n",
              "       5.48653554, 5.45210252, 5.38436199, 5.22898352, 5.15981205,\n",
              "       5.06853361, 4.93317321, 4.93287533, 4.98142167, 5.05282156,\n",
              "       5.08634871, 5.09052746, 5.09013155, 5.10206547, 5.07200067,\n",
              "       5.04657558, 4.94429456, 4.92056435, 4.89899847, 4.91114919,\n",
              "       4.70709618, 4.42602322, 4.24943519, 4.10049689, 3.99365534,\n",
              "       3.97532179, 3.96988554, 4.00781956, 4.01939716])"
            ]
          },
          "execution_count": 173,
          "metadata": {},
          "output_type": "execute_result"
        }
      ],
      "source": [
        "test_predictions = model(X_test.to(device)).detach().cpu().numpy().flatten()\n",
        "\n",
        "dummies = np.zeros((X_test.shape[0], lookback + 1))\n",
        "dummies[:, 0] = test_predictions\n",
        "dummies = scaler.inverse_transform(dummies)\n",
        "\n",
        "test_predictions = dc(dummies[:, 0])\n",
        "test_predictions"
      ]
    },
    {
      "cell_type": "code",
      "execution_count": 174,
      "id": "g-DJXBgYsFyI",
      "metadata": {
        "colab": {
          "base_uri": "https://localhost:8080/"
        },
        "id": "g-DJXBgYsFyI",
        "outputId": "b606685e-137b-41ef-8a56-6171133ed013"
      },
      "outputs": [
        {
          "name": "stderr",
          "output_type": "stream",
          "text": [
            "C:\\Users\\dushy\\AppData\\Local\\Temp\\ipykernel_22592\\1391370247.py:2: DeprecationWarning: __array__ implementation doesn't accept a copy keyword, so passing copy=False failed. __array__ must implement 'dtype' and 'copy' keyword arguments.\n",
            "  dummies[:, 0] = y_test.flatten()\n"
          ]
        },
        {
          "data": {
            "text/plain": [
              "array([4.72999969, 4.79999974, 4.79000014, 4.8699998 , 4.76999999,\n",
              "       4.65000003, 4.65999963, 4.79000014, 4.95000041, 4.89999956,\n",
              "       4.91999971, 4.89999956, 4.88000035, 4.93999986, 4.93000026,\n",
              "       4.93000026, 4.84000005, 4.98000016, 5.3100003 , 5.34000005,\n",
              "       5.38000036, 5.55000023, 5.55000023, 5.58999959, 5.60000013,\n",
              "       5.57000038, 5.50000032, 5.62000028, 5.60999974, 5.74999985,\n",
              "       5.84000006, 5.96999963, 5.88999997, 5.91000012, 6.07999999,\n",
              "       6.1700002 , 6.07000038, 6.14000044, 6.00999993, 5.84000006,\n",
              "       5.34000005, 5.64000044, 5.7200001 , 5.43999987, 5.79999976,\n",
              "       5.69999995, 5.81999991, 6.03999969, 6.15999965, 6.10000014,\n",
              "       6.22999971, 6.03999969, 6.05000023, 6.15000005, 6.15999965,\n",
              "       6.15000005, 6.05000023, 5.81000031, 5.91000012, 5.88999997,\n",
              "       6.05000023, 6.05000023, 6.03000008, 6.1299999 , 6.24000025,\n",
              "       6.19000035, 6.2200001 , 6.22999971, 6.26000041, 6.03000008,\n",
              "       6.24000025, 6.20999956, 6.05000023, 5.81999991, 6.10999974,\n",
              "       5.64000044, 5.53000008, 5.79000015, 5.53000008, 5.62999989,\n",
              "       5.65999964, 5.53000008, 5.36000021, 5.38999996, 5.69999995,\n",
              "       5.65999964, 5.86999982, 5.79000015, 5.79000015, 5.93999987,\n",
              "       5.91000012, 5.7299997 , 5.7200001 , 5.60000013, 5.53000008,\n",
              "       5.41999972, 5.62999989, 5.65999964, 5.62000028, 5.67999979,\n",
              "       5.65999964, 5.81999991, 5.98000018, 6.2200001 , 6.26000041,\n",
              "       6.38999997, 6.50000033, 6.36000022, 6.38000037, 6.14000044,\n",
              "       6.15000005, 6.19000035, 6.15000005, 6.10999974, 6.07000038,\n",
              "       6.19000035, 6.19000035, 6.22999971, 6.20999956, 6.31999992,\n",
              "       6.29999977, 6.43999988, 6.6200003 , 6.6299999 , 6.6299999 ,\n",
              "       6.57000039, 6.55999984, 6.51999954, 6.55999984, 6.55999984,\n",
              "       6.6700002 , 6.6299999 , 6.6299999 , 6.50000033, 6.55999984,\n",
              "       6.43000028, 6.27000001, 5.98000018, 6.05000023, 5.88999997,\n",
              "       6.01999954, 5.91999972, 6.05999984, 5.91999972, 6.07000038,\n",
              "       6.1799998 , 6.22999971, 6.33000046, 6.19000035, 6.27999961,\n",
              "       6.22999971, 6.20999956, 6.34000007, 6.29000016, 6.29999977,\n",
              "       6.27000001, 6.24000025, 6.2200001 , 6.29999977, 6.36999982,\n",
              "       6.29999977, 6.10000014, 6.12000029, 6.15999965, 6.27000001,\n",
              "       6.29999977, 6.34999967, 6.41999973, 6.46000003, 6.41000013,\n",
              "       6.36999982, 6.39999958, 6.53999969, 6.48000018, 6.43999988,\n",
              "       6.12000029, 6.19999995, 6.33000046, 6.57000039, 6.6700002 ,\n",
              "       6.81000032, 6.89999959, 6.86000023, 6.96000004, 6.95000043,\n",
              "       7.01999955, 7.08999961, 6.96000004, 6.81999992, 6.79999977,\n",
              "       6.86999983, 6.81999992, 6.70999956, 6.77999962, 6.91000013,\n",
              "       6.84999968, 6.77999962, 6.79999977, 6.65999966, 6.5899996 ,\n",
              "       6.64000045, 6.70999956, 6.6700002 , 6.67999981, 7.0300001 ,\n",
              "       7.22999972, 7.15999966, 7.17000021, 6.98000019, 6.74999987,\n",
              "       6.64000045, 6.64000045, 6.14000044, 5.88000036, 6.15999965,\n",
              "       5.88000036, 6.15000005, 6.07999999, 5.98999978, 5.7299997 ,\n",
              "       5.77999961, 5.53000008, 4.98999977, 5.19999994, 4.96000001,\n",
              "       4.64000042, 5.07999997, 5.27      , 5.45000041, 5.36999981,\n",
              "       5.29000015, 5.2799996 , 5.34000005, 5.15000003, 5.14000043,\n",
              "       4.74000023, 4.98000016, 4.93000026, 5.05999982, 4.10999972,\n",
              "       3.62000026, 3.72999967, 3.62000026, 3.62000026, 3.83000043,\n",
              "       3.84000003, 4.0000003 , 3.93000024, 4.08999957])"
            ]
          },
          "execution_count": 174,
          "metadata": {},
          "output_type": "execute_result"
        }
      ],
      "source": [
        "dummies = np.zeros((X_test.shape[0], lookback + 1))\n",
        "dummies[:, 0] = y_test.flatten()\n",
        "dummies = scaler.inverse_transform(dummies)\n",
        "\n",
        "new_y_test = dc(dummies[:, 0])\n",
        "new_y_test"
      ]
    },
    {
      "cell_type": "code",
      "execution_count": 175,
      "id": "PhLmIlHOsSK4",
      "metadata": {
        "colab": {
          "base_uri": "https://localhost:8080/",
          "height": 449
        },
        "id": "PhLmIlHOsSK4",
        "outputId": "09c21535-ea22-4d65-bc50-b159bd4dc135"
      },
      "outputs": [
        {
          "data": {
            "image/png": "[encoded data removed]",
            "text/plain": [
              "<Figure size 640x480 with 1 Axes>"
            ]
          },
          "metadata": {},
          "output_type": "display_data"
        }
      ],
      "source": [
        "plt.plot(new_y_test, label=\"Actual Price\")\n",
        "plt.plot(test_predictions, label=\"Predicted Price\")\n",
        "plt.xlabel(\"Day\")\n",
        "plt.ylabel(\"Price\")\n",
        "plt.legend()\n",
        "plt.show()\n"
      ]
    }
  ],
  "metadata": {
    "colab": {
      "gpuType": "T4",
      "provenance": []
    },
    "gpuClass": "standard",
    "kernelspec": {
      "display_name": ".venv",
      "language": "python",
      "name": "python3"
    },
    "language_info": {
      "codemirror_mode": {
        "name": "ipython",
        "version": 3
      },
      "file_extension": ".py",
      "mimetype": "text/x-python",
      "name": "python",
      "nbconvert_exporter": "python",
      "pygments_lexer": "ipython3",
      "version": "3.12.3"
    }
  },
  "nbformat": 4,
  "nbformat_minor": 5
}
